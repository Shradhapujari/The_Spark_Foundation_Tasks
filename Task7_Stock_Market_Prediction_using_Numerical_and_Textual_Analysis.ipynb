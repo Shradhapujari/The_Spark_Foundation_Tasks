{
  "nbformat": 4,
  "nbformat_minor": 0,
  "metadata": {
    "kernelspec": {
      "display_name": "Python 3",
      "language": "python",
      "name": "python3"
    },
    "language_info": {
      "codemirror_mode": {
        "name": "ipython",
        "version": 3
      },
      "file_extension": ".py",
      "mimetype": "text/x-python",
      "name": "python",
      "nbconvert_exporter": "python",
      "pygments_lexer": "ipython3",
      "version": "3.8.5-final"
    },
    "colab": {
      "name": "Task7 - Stock Market Prediction using Numerical and Textual Analysis ",
      "provenance": [],
      "collapsed_sections": [
        "AFeZfejx5b5T",
        "uVb7KDH75b5W",
        "29e58DHx5b5Z",
        "vqQqQjUC5b5b",
        "BSlF36cQ5b5f",
        "-Rtp6XW15b5g",
        "qpujGUyy5b5j",
        "oIH28Vhp5b5l",
        "WSa9p9bB5b5n",
        "BxhQns_55b5o",
        "l2XnpTUp5b5s",
        "WIn9BurW5b5t",
        "KUkG2uwI5b5v"
      ]
    }
  },
  "cells": [
    {
      "cell_type": "markdown",
      "metadata": {
        "id": "QoSsycqv5b5K"
      },
      "source": [
        "# Author : Shradha Pujari\n",
        "\n",
        "## Task 7 : Stock Market Prediction using Numerical and Textual Analysis\n",
        "## GRIP @ The Sparks Foundation\n",
        "\n",
        "\n",
        "### Objective: Create a hybrid model for stock price/performance prediction using numerical analysis of historical stock prices, and sentimental analysis of news headlines\n",
        "\n",
        "Download historical stock prices from finance.yahoo.com\n",
        "&nbsp;"
      ]
    },
    {
      "cell_type": "code",
      "metadata": {
        "id": "__eZTPFd5b5Q",
        "outputId": "3922d283-caaa-46e4-c0f0-c409d844e2a2"
      },
      "source": [
        "#importing required libraries\n",
        "from sklearn.preprocessing import MinMaxScaler\n",
        "from sklearn.metrics import mean_squared_error\n",
        "from sklearn import metrics \n",
        "from keras.models import Sequential\n",
        "from keras.layers import Dense, LSTM\n",
        "import pandas as pd\n",
        "import matplotlib.pyplot as plt\n",
        "import numpy as np\n",
        "import math\n",
        "import re\n",
        "import nltk\n",
        "import re\n",
        "from nltk.corpus import stopwords\n",
        "nltk.download('stopwords')\n",
        "nltk.download('vader_lexicon')\n",
        "from textblob import TextBlob\n",
        "from nltk.sentiment.vader import SentimentIntensityAnalyzer\n",
        "from sklearn.ensemble import RandomForestRegressor, AdaBoostRegressor\n",
        "import xgboost \n"
      ],
      "execution_count": null,
      "outputs": [
        {
          "output_type": "stream",
          "text": [
            "[nltk_data] Downloading package stopwords to\n",
            "[nltk_data]     C:\\Users\\kriti\\AppData\\Roaming\\nltk_data...\n",
            "[nltk_data]   Package stopwords is already up-to-date!\n",
            "[nltk_data] Downloading package vader_lexicon to\n",
            "[nltk_data]     C:\\Users\\kriti\\AppData\\Roaming\\nltk_data...\n",
            "[nltk_data]   Package vader_lexicon is already up-to-date!\n"
          ],
          "name": "stderr"
        }
      ]
    },
    {
      "cell_type": "markdown",
      "metadata": {
        "id": "AFeZfejx5b5T"
      },
      "source": [
        "## Step 1 : Importing the Numerical dataset and performing Exploratory Analysis"
      ]
    },
    {
      "cell_type": "code",
      "metadata": {
        "id": "TCrxMjTU5b5T",
        "outputId": "c902a580-738f-476d-9fab-599f5c5ad5cd"
      },
      "source": [
        "# Dataframe for exploratory analysis\n",
        "df=pd.read_csv('csv\\^BSESN.csv')\n",
        "df.head()"
      ],
      "execution_count": null,
      "outputs": [
        {
          "output_type": "execute_result",
          "data": {
            "text/plain": [
              "         Date          Open          High           Low         Close  \\\n",
              "0  2019-10-16  38637.050781  38666.378906  38416.671875  38598.988281   \n",
              "1  2019-10-17  38647.441406  39104.691406  38557.429688  39052.058594   \n",
              "2  2019-10-18  39087.828125  39361.058594  38963.601563  39298.378906   \n",
              "3  2019-10-22  39233.398438  39426.468750  38924.851563  38963.839844   \n",
              "4  2019-10-23  39063.839844  39196.671875  38866.078125  39058.828125   \n",
              "\n",
              "      Adj Close   Volume  \n",
              "0  38598.988281  27500.0  \n",
              "1  39052.058594  47100.0  \n",
              "2  39298.378906  42400.0  \n",
              "3  38963.839844  54500.0  \n",
              "4  39058.828125  41000.0  "
            ],
            "text/html": [
              "<div>\n",
              "<style scoped>\n",
              "    .dataframe tbody tr th:only-of-type {\n",
              "        vertical-align: middle;\n",
              "    }\n",
              "\n",
              "    .dataframe tbody tr th {\n",
              "        vertical-align: top;\n",
              "    }\n",
              "\n",
              "    .dataframe thead th {\n",
              "        text-align: right;\n",
              "    }\n",
              "</style>\n",
              "<table border=\"1\" class=\"dataframe\">\n",
              "  <thead>\n",
              "    <tr style=\"text-align: right;\">\n",
              "      <th></th>\n",
              "      <th>Date</th>\n",
              "      <th>Open</th>\n",
              "      <th>High</th>\n",
              "      <th>Low</th>\n",
              "      <th>Close</th>\n",
              "      <th>Adj Close</th>\n",
              "      <th>Volume</th>\n",
              "    </tr>\n",
              "  </thead>\n",
              "  <tbody>\n",
              "    <tr>\n",
              "      <th>0</th>\n",
              "      <td>2019-10-16</td>\n",
              "      <td>38637.050781</td>\n",
              "      <td>38666.378906</td>\n",
              "      <td>38416.671875</td>\n",
              "      <td>38598.988281</td>\n",
              "      <td>38598.988281</td>\n",
              "      <td>27500.0</td>\n",
              "    </tr>\n",
              "    <tr>\n",
              "      <th>1</th>\n",
              "      <td>2019-10-17</td>\n",
              "      <td>38647.441406</td>\n",
              "      <td>39104.691406</td>\n",
              "      <td>38557.429688</td>\n",
              "      <td>39052.058594</td>\n",
              "      <td>39052.058594</td>\n",
              "      <td>47100.0</td>\n",
              "    </tr>\n",
              "    <tr>\n",
              "      <th>2</th>\n",
              "      <td>2019-10-18</td>\n",
              "      <td>39087.828125</td>\n",
              "      <td>39361.058594</td>\n",
              "      <td>38963.601563</td>\n",
              "      <td>39298.378906</td>\n",
              "      <td>39298.378906</td>\n",
              "      <td>42400.0</td>\n",
              "    </tr>\n",
              "    <tr>\n",
              "      <th>3</th>\n",
              "      <td>2019-10-22</td>\n",
              "      <td>39233.398438</td>\n",
              "      <td>39426.468750</td>\n",
              "      <td>38924.851563</td>\n",
              "      <td>38963.839844</td>\n",
              "      <td>38963.839844</td>\n",
              "      <td>54500.0</td>\n",
              "    </tr>\n",
              "    <tr>\n",
              "      <th>4</th>\n",
              "      <td>2019-10-23</td>\n",
              "      <td>39063.839844</td>\n",
              "      <td>39196.671875</td>\n",
              "      <td>38866.078125</td>\n",
              "      <td>39058.828125</td>\n",
              "      <td>39058.828125</td>\n",
              "      <td>41000.0</td>\n",
              "    </tr>\n",
              "  </tbody>\n",
              "</table>\n",
              "</div>"
            ]
          },
          "metadata": {
            "tags": []
          },
          "execution_count": 2
        }
      ]
    },
    {
      "cell_type": "code",
      "metadata": {
        "id": "c2zq69yI5b5V",
        "outputId": "33327933-9197-4fed-b770-4ebd7653f07e"
      },
      "source": [
        "# Extract date frame and plot closing stock price w.r.t time\n",
        "df['Date'] = pd.to_datetime(df.Date,format='%Y-%m-%d')\n",
        "df.index = df['Date']\n",
        "df.dropna(inplace=True)\n",
        "#plot\n",
        "plt.figure(figsize=(16,8))\n",
        "plt.plot(df['Close'], label='Close Price history')"
      ],
      "execution_count": null,
      "outputs": [
        {
          "output_type": "execute_result",
          "data": {
            "text/plain": [
              "[<matplotlib.lines.Line2D at 0x255adc05160>]"
            ]
          },
          "metadata": {
            "tags": []
          },
          "execution_count": 3
        },
        {
          "output_type": "display_data",
          "data": {
            "text/plain": [
              "<Figure size 1152x576 with 1 Axes>"
            ],
            "image/svg+xml": "<?xml version=\"1.0\" encoding=\"utf-8\" standalone=\"no\"?>\r\n<!DOCTYPE svg PUBLIC \"-//W3C//DTD SVG 1.1//EN\"\r\n  \"http://www.w3.org/Graphics/SVG/1.1/DTD/svg11.dtd\">\r\n<!-- Created with matplotlib (https://matplotlib.org/) -->\r\n<svg height=\"465.958125pt\" version=\"1.1\" viewBox=\"0 0 961.803459 465.958125\" width=\"961.803459pt\" xmlns=\"http://www.w3.org/2000/svg\" xmlns:xlink=\"http://www.w3.org/1999/xlink\">\r\n <metadata>\r\n  <rdf:RDF xmlns:cc=\"http://creativecommons.org/ns#\" xmlns:dc=\"http://purl.org/dc/elements/1.1/\" xmlns:rdf=\"http://www.w3.org/1999/02/22-rdf-syntax-ns#\">\r\n   <cc:Work>\r\n    <dc:type rdf:resource=\"http://purl.org/dc/dcmitype/StillImage\"/>\r\n    <dc:date>2020-10-18T19:12:37.455337</dc:date>\r\n    <dc:format>image/svg+xml</dc:format>\r\n    <dc:creator>\r\n     <cc:Agent>\r\n      <dc:title>Matplotlib v3.3.1, https://matplotlib.org/</dc:title>\r\n     </cc:Agent>\r\n    </dc:creator>\r\n   </cc:Work>\r\n  </rdf:RDF>\r\n </metadata>\r\n <defs>\r\n  <style type=\"text/css\">*{stroke-linecap:butt;stroke-linejoin:round;}</style>\r\n </defs>\r\n <g id=\"figure_1\">\r\n  <g id=\"patch_1\">\r\n   <path d=\"M 0 465.958125 \r\nL 961.803459 465.958125 \r\nL 961.803459 0 \r\nL 0 0 \r\nz\r\n\" style=\"fill:none;\"/>\r\n  </g>\r\n  <g id=\"axes_1\">\r\n   <g id=\"patch_2\">\r\n    <path d=\"M 46.0125 442.08 \r\nL 938.8125 442.08 \r\nL 938.8125 7.2 \r\nL 46.0125 7.2 \r\nz\r\n\" style=\"fill:#ffffff;\"/>\r\n   </g>\r\n   <g id=\"matplotlib.axis_1\">\r\n    <g id=\"xtick_1\">\r\n     <g id=\"line2d_1\">\r\n      <defs>\r\n       <path d=\"M 0 0 \r\nL 0 3.5 \r\n\" id=\"mf5a8e2f463\" style=\"stroke:#000000;stroke-width:0.8;\"/>\r\n      </defs>\r\n      <g>\r\n       <use style=\"stroke:#000000;stroke-width:0.8;\" x=\"122.075689\" xlink:href=\"#mf5a8e2f463\" y=\"442.08\"/>\r\n      </g>\r\n     </g>\r\n     <g id=\"text_1\">\r\n      <!-- 2019-11 -->\r\n      <g transform=\"translate(101.184283 456.678437)scale(0.1 -0.1)\">\r\n       <defs>\r\n        <path d=\"M 19.1875 8.296875 \r\nL 53.609375 8.296875 \r\nL 53.609375 0 \r\nL 7.328125 0 \r\nL 7.328125 8.296875 \r\nQ 12.9375 14.109375 22.625 23.890625 \r\nQ 32.328125 33.6875 34.8125 36.53125 \r\nQ 39.546875 41.84375 41.421875 45.53125 \r\nQ 43.3125 49.21875 43.3125 52.78125 \r\nQ 43.3125 58.59375 39.234375 62.25 \r\nQ 35.15625 65.921875 28.609375 65.921875 \r\nQ 23.96875 65.921875 18.8125 64.3125 \r\nQ 13.671875 62.703125 7.8125 59.421875 \r\nL 7.8125 69.390625 \r\nQ 13.765625 71.78125 18.9375 73 \r\nQ 24.125 74.21875 28.421875 74.21875 \r\nQ 39.75 74.21875 46.484375 68.546875 \r\nQ 53.21875 62.890625 53.21875 53.421875 \r\nQ 53.21875 48.921875 51.53125 44.890625 \r\nQ 49.859375 40.875 45.40625 35.40625 \r\nQ 44.1875 33.984375 37.640625 27.21875 \r\nQ 31.109375 20.453125 19.1875 8.296875 \r\nz\r\n\" id=\"DejaVuSans-50\"/>\r\n        <path d=\"M 31.78125 66.40625 \r\nQ 24.171875 66.40625 20.328125 58.90625 \r\nQ 16.5 51.421875 16.5 36.375 \r\nQ 16.5 21.390625 20.328125 13.890625 \r\nQ 24.171875 6.390625 31.78125 6.390625 \r\nQ 39.453125 6.390625 43.28125 13.890625 \r\nQ 47.125 21.390625 47.125 36.375 \r\nQ 47.125 51.421875 43.28125 58.90625 \r\nQ 39.453125 66.40625 31.78125 66.40625 \r\nz\r\nM 31.78125 74.21875 \r\nQ 44.046875 74.21875 50.515625 64.515625 \r\nQ 56.984375 54.828125 56.984375 36.375 \r\nQ 56.984375 17.96875 50.515625 8.265625 \r\nQ 44.046875 -1.421875 31.78125 -1.421875 \r\nQ 19.53125 -1.421875 13.0625 8.265625 \r\nQ 6.59375 17.96875 6.59375 36.375 \r\nQ 6.59375 54.828125 13.0625 64.515625 \r\nQ 19.53125 74.21875 31.78125 74.21875 \r\nz\r\n\" id=\"DejaVuSans-48\"/>\r\n        <path d=\"M 12.40625 8.296875 \r\nL 28.515625 8.296875 \r\nL 28.515625 63.921875 \r\nL 10.984375 60.40625 \r\nL 10.984375 69.390625 \r\nL 28.421875 72.90625 \r\nL 38.28125 72.90625 \r\nL 38.28125 8.296875 \r\nL 54.390625 8.296875 \r\nL 54.390625 0 \r\nL 12.40625 0 \r\nz\r\n\" id=\"DejaVuSans-49\"/>\r\n        <path d=\"M 10.984375 1.515625 \r\nL 10.984375 10.5 \r\nQ 14.703125 8.734375 18.5 7.8125 \r\nQ 22.3125 6.890625 25.984375 6.890625 \r\nQ 35.75 6.890625 40.890625 13.453125 \r\nQ 46.046875 20.015625 46.78125 33.40625 \r\nQ 43.953125 29.203125 39.59375 26.953125 \r\nQ 35.25 24.703125 29.984375 24.703125 \r\nQ 19.046875 24.703125 12.671875 31.3125 \r\nQ 6.296875 37.9375 6.296875 49.421875 \r\nQ 6.296875 60.640625 12.9375 67.421875 \r\nQ 19.578125 74.21875 30.609375 74.21875 \r\nQ 43.265625 74.21875 49.921875 64.515625 \r\nQ 56.59375 54.828125 56.59375 36.375 \r\nQ 56.59375 19.140625 48.40625 8.859375 \r\nQ 40.234375 -1.421875 26.421875 -1.421875 \r\nQ 22.703125 -1.421875 18.890625 -0.6875 \r\nQ 15.09375 0.046875 10.984375 1.515625 \r\nz\r\nM 30.609375 32.421875 \r\nQ 37.25 32.421875 41.125 36.953125 \r\nQ 45.015625 41.5 45.015625 49.421875 \r\nQ 45.015625 57.28125 41.125 61.84375 \r\nQ 37.25 66.40625 30.609375 66.40625 \r\nQ 23.96875 66.40625 20.09375 61.84375 \r\nQ 16.21875 57.28125 16.21875 49.421875 \r\nQ 16.21875 41.5 20.09375 36.953125 \r\nQ 23.96875 32.421875 30.609375 32.421875 \r\nz\r\n\" id=\"DejaVuSans-57\"/>\r\n        <path d=\"M 4.890625 31.390625 \r\nL 31.203125 31.390625 \r\nL 31.203125 23.390625 \r\nL 4.890625 23.390625 \r\nz\r\n\" id=\"DejaVuSans-45\"/>\r\n       </defs>\r\n       <use xlink:href=\"#DejaVuSans-50\"/>\r\n       <use x=\"63.623047\" xlink:href=\"#DejaVuSans-48\"/>\r\n       <use x=\"127.246094\" xlink:href=\"#DejaVuSans-49\"/>\r\n       <use x=\"190.869141\" xlink:href=\"#DejaVuSans-57\"/>\r\n       <use x=\"254.492188\" xlink:href=\"#DejaVuSans-45\"/>\r\n       <use x=\"290.576172\" xlink:href=\"#DejaVuSans-49\"/>\r\n       <use x=\"354.199219\" xlink:href=\"#DejaVuSans-49\"/>\r\n      </g>\r\n     </g>\r\n    </g>\r\n    <g id=\"xtick_2\">\r\n     <g id=\"line2d_2\">\r\n      <g>\r\n       <use style=\"stroke:#000000;stroke-width:0.8;\" x=\"257.348417\" xlink:href=\"#mf5a8e2f463\" y=\"442.08\"/>\r\n      </g>\r\n     </g>\r\n     <g id=\"text_2\">\r\n      <!-- 2020-01 -->\r\n      <g transform=\"translate(236.45701 456.678437)scale(0.1 -0.1)\">\r\n       <use xlink:href=\"#DejaVuSans-50\"/>\r\n       <use x=\"63.623047\" xlink:href=\"#DejaVuSans-48\"/>\r\n       <use x=\"127.246094\" xlink:href=\"#DejaVuSans-50\"/>\r\n       <use x=\"190.869141\" xlink:href=\"#DejaVuSans-48\"/>\r\n       <use x=\"254.492188\" xlink:href=\"#DejaVuSans-45\"/>\r\n       <use x=\"290.576172\" xlink:href=\"#DejaVuSans-48\"/>\r\n       <use x=\"354.199219\" xlink:href=\"#DejaVuSans-49\"/>\r\n      </g>\r\n     </g>\r\n    </g>\r\n    <g id=\"xtick_3\">\r\n     <g id=\"line2d_3\">\r\n      <g>\r\n       <use style=\"stroke:#000000;stroke-width:0.8;\" x=\"390.403558\" xlink:href=\"#mf5a8e2f463\" y=\"442.08\"/>\r\n      </g>\r\n     </g>\r\n     <g id=\"text_3\">\r\n      <!-- 2020-03 -->\r\n      <g transform=\"translate(369.512152 456.678437)scale(0.1 -0.1)\">\r\n       <defs>\r\n        <path d=\"M 40.578125 39.3125 \r\nQ 47.65625 37.796875 51.625 33 \r\nQ 55.609375 28.21875 55.609375 21.1875 \r\nQ 55.609375 10.40625 48.1875 4.484375 \r\nQ 40.765625 -1.421875 27.09375 -1.421875 \r\nQ 22.515625 -1.421875 17.65625 -0.515625 \r\nQ 12.796875 0.390625 7.625 2.203125 \r\nL 7.625 11.71875 \r\nQ 11.71875 9.328125 16.59375 8.109375 \r\nQ 21.484375 6.890625 26.8125 6.890625 \r\nQ 36.078125 6.890625 40.9375 10.546875 \r\nQ 45.796875 14.203125 45.796875 21.1875 \r\nQ 45.796875 27.640625 41.28125 31.265625 \r\nQ 36.765625 34.90625 28.71875 34.90625 \r\nL 20.21875 34.90625 \r\nL 20.21875 43.015625 \r\nL 29.109375 43.015625 \r\nQ 36.375 43.015625 40.234375 45.921875 \r\nQ 44.09375 48.828125 44.09375 54.296875 \r\nQ 44.09375 59.90625 40.109375 62.90625 \r\nQ 36.140625 65.921875 28.71875 65.921875 \r\nQ 24.65625 65.921875 20.015625 65.03125 \r\nQ 15.375 64.15625 9.8125 62.3125 \r\nL 9.8125 71.09375 \r\nQ 15.4375 72.65625 20.34375 73.4375 \r\nQ 25.25 74.21875 29.59375 74.21875 \r\nQ 40.828125 74.21875 47.359375 69.109375 \r\nQ 53.90625 64.015625 53.90625 55.328125 \r\nQ 53.90625 49.265625 50.4375 45.09375 \r\nQ 46.96875 40.921875 40.578125 39.3125 \r\nz\r\n\" id=\"DejaVuSans-51\"/>\r\n       </defs>\r\n       <use xlink:href=\"#DejaVuSans-50\"/>\r\n       <use x=\"63.623047\" xlink:href=\"#DejaVuSans-48\"/>\r\n       <use x=\"127.246094\" xlink:href=\"#DejaVuSans-50\"/>\r\n       <use x=\"190.869141\" xlink:href=\"#DejaVuSans-48\"/>\r\n       <use x=\"254.492188\" xlink:href=\"#DejaVuSans-45\"/>\r\n       <use x=\"290.576172\" xlink:href=\"#DejaVuSans-48\"/>\r\n       <use x=\"354.199219\" xlink:href=\"#DejaVuSans-51\"/>\r\n      </g>\r\n     </g>\r\n    </g>\r\n    <g id=\"xtick_4\">\r\n     <g id=\"line2d_4\">\r\n      <g>\r\n       <use style=\"stroke:#000000;stroke-width:0.8;\" x=\"525.676285\" xlink:href=\"#mf5a8e2f463\" y=\"442.08\"/>\r\n      </g>\r\n     </g>\r\n     <g id=\"text_4\">\r\n      <!-- 2020-05 -->\r\n      <g transform=\"translate(504.784879 456.678437)scale(0.1 -0.1)\">\r\n       <defs>\r\n        <path d=\"M 10.796875 72.90625 \r\nL 49.515625 72.90625 \r\nL 49.515625 64.59375 \r\nL 19.828125 64.59375 \r\nL 19.828125 46.734375 \r\nQ 21.96875 47.46875 24.109375 47.828125 \r\nQ 26.265625 48.1875 28.421875 48.1875 \r\nQ 40.625 48.1875 47.75 41.5 \r\nQ 54.890625 34.8125 54.890625 23.390625 \r\nQ 54.890625 11.625 47.5625 5.09375 \r\nQ 40.234375 -1.421875 26.90625 -1.421875 \r\nQ 22.3125 -1.421875 17.546875 -0.640625 \r\nQ 12.796875 0.140625 7.71875 1.703125 \r\nL 7.71875 11.625 \r\nQ 12.109375 9.234375 16.796875 8.0625 \r\nQ 21.484375 6.890625 26.703125 6.890625 \r\nQ 35.15625 6.890625 40.078125 11.328125 \r\nQ 45.015625 15.765625 45.015625 23.390625 \r\nQ 45.015625 31 40.078125 35.4375 \r\nQ 35.15625 39.890625 26.703125 39.890625 \r\nQ 22.75 39.890625 18.8125 39.015625 \r\nQ 14.890625 38.140625 10.796875 36.28125 \r\nz\r\n\" id=\"DejaVuSans-53\"/>\r\n       </defs>\r\n       <use xlink:href=\"#DejaVuSans-50\"/>\r\n       <use x=\"63.623047\" xlink:href=\"#DejaVuSans-48\"/>\r\n       <use x=\"127.246094\" xlink:href=\"#DejaVuSans-50\"/>\r\n       <use x=\"190.869141\" xlink:href=\"#DejaVuSans-48\"/>\r\n       <use x=\"254.492188\" xlink:href=\"#DejaVuSans-45\"/>\r\n       <use x=\"290.576172\" xlink:href=\"#DejaVuSans-48\"/>\r\n       <use x=\"354.199219\" xlink:href=\"#DejaVuSans-53\"/>\r\n      </g>\r\n     </g>\r\n    </g>\r\n    <g id=\"xtick_5\">\r\n     <g id=\"line2d_5\">\r\n      <g>\r\n       <use style=\"stroke:#000000;stroke-width:0.8;\" x=\"660.949013\" xlink:href=\"#mf5a8e2f463\" y=\"442.08\"/>\r\n      </g>\r\n     </g>\r\n     <g id=\"text_5\">\r\n      <!-- 2020-07 -->\r\n      <g transform=\"translate(640.057606 456.678437)scale(0.1 -0.1)\">\r\n       <defs>\r\n        <path d=\"M 8.203125 72.90625 \r\nL 55.078125 72.90625 \r\nL 55.078125 68.703125 \r\nL 28.609375 0 \r\nL 18.3125 0 \r\nL 43.21875 64.59375 \r\nL 8.203125 64.59375 \r\nz\r\n\" id=\"DejaVuSans-55\"/>\r\n       </defs>\r\n       <use xlink:href=\"#DejaVuSans-50\"/>\r\n       <use x=\"63.623047\" xlink:href=\"#DejaVuSans-48\"/>\r\n       <use x=\"127.246094\" xlink:href=\"#DejaVuSans-50\"/>\r\n       <use x=\"190.869141\" xlink:href=\"#DejaVuSans-48\"/>\r\n       <use x=\"254.492188\" xlink:href=\"#DejaVuSans-45\"/>\r\n       <use x=\"290.576172\" xlink:href=\"#DejaVuSans-48\"/>\r\n       <use x=\"354.199219\" xlink:href=\"#DejaVuSans-55\"/>\r\n      </g>\r\n     </g>\r\n    </g>\r\n    <g id=\"xtick_6\">\r\n     <g id=\"line2d_6\">\r\n      <g>\r\n       <use style=\"stroke:#000000;stroke-width:0.8;\" x=\"798.439326\" xlink:href=\"#mf5a8e2f463\" y=\"442.08\"/>\r\n      </g>\r\n     </g>\r\n     <g id=\"text_6\">\r\n      <!-- 2020-09 -->\r\n      <g transform=\"translate(777.547919 456.678437)scale(0.1 -0.1)\">\r\n       <use xlink:href=\"#DejaVuSans-50\"/>\r\n       <use x=\"63.623047\" xlink:href=\"#DejaVuSans-48\"/>\r\n       <use x=\"127.246094\" xlink:href=\"#DejaVuSans-50\"/>\r\n       <use x=\"190.869141\" xlink:href=\"#DejaVuSans-48\"/>\r\n       <use x=\"254.492188\" xlink:href=\"#DejaVuSans-45\"/>\r\n       <use x=\"290.576172\" xlink:href=\"#DejaVuSans-48\"/>\r\n       <use x=\"354.199219\" xlink:href=\"#DejaVuSans-57\"/>\r\n      </g>\r\n     </g>\r\n    </g>\r\n    <g id=\"xtick_7\">\r\n     <g id=\"line2d_7\">\r\n      <g>\r\n       <use style=\"stroke:#000000;stroke-width:0.8;\" x=\"933.712053\" xlink:href=\"#mf5a8e2f463\" y=\"442.08\"/>\r\n      </g>\r\n     </g>\r\n     <g id=\"text_7\">\r\n      <!-- 2020-11 -->\r\n      <g transform=\"translate(912.820647 456.678437)scale(0.1 -0.1)\">\r\n       <use xlink:href=\"#DejaVuSans-50\"/>\r\n       <use x=\"63.623047\" xlink:href=\"#DejaVuSans-48\"/>\r\n       <use x=\"127.246094\" xlink:href=\"#DejaVuSans-50\"/>\r\n       <use x=\"190.869141\" xlink:href=\"#DejaVuSans-48\"/>\r\n       <use x=\"254.492188\" xlink:href=\"#DejaVuSans-45\"/>\r\n       <use x=\"290.576172\" xlink:href=\"#DejaVuSans-49\"/>\r\n       <use x=\"354.199219\" xlink:href=\"#DejaVuSans-49\"/>\r\n      </g>\r\n     </g>\r\n    </g>\r\n   </g>\r\n   <g id=\"matplotlib.axis_2\">\r\n    <g id=\"ytick_1\">\r\n     <g id=\"line2d_8\">\r\n      <defs>\r\n       <path d=\"M 0 0 \r\nL -3.5 0 \r\n\" id=\"m5769cec86f\" style=\"stroke:#000000;stroke-width:0.8;\"/>\r\n      </defs>\r\n      <g>\r\n       <use style=\"stroke:#000000;stroke-width:0.8;\" x=\"46.0125\" xlink:href=\"#m5769cec86f\" y=\"421.84836\"/>\r\n      </g>\r\n     </g>\r\n     <g id=\"text_8\">\r\n      <!-- 26000 -->\r\n      <g transform=\"translate(7.2 425.647579)scale(0.1 -0.1)\">\r\n       <defs>\r\n        <path d=\"M 33.015625 40.375 \r\nQ 26.375 40.375 22.484375 35.828125 \r\nQ 18.609375 31.296875 18.609375 23.390625 \r\nQ 18.609375 15.53125 22.484375 10.953125 \r\nQ 26.375 6.390625 33.015625 6.390625 \r\nQ 39.65625 6.390625 43.53125 10.953125 \r\nQ 47.40625 15.53125 47.40625 23.390625 \r\nQ 47.40625 31.296875 43.53125 35.828125 \r\nQ 39.65625 40.375 33.015625 40.375 \r\nz\r\nM 52.59375 71.296875 \r\nL 52.59375 62.3125 \r\nQ 48.875 64.0625 45.09375 64.984375 \r\nQ 41.3125 65.921875 37.59375 65.921875 \r\nQ 27.828125 65.921875 22.671875 59.328125 \r\nQ 17.53125 52.734375 16.796875 39.40625 \r\nQ 19.671875 43.65625 24.015625 45.921875 \r\nQ 28.375 48.1875 33.59375 48.1875 \r\nQ 44.578125 48.1875 50.953125 41.515625 \r\nQ 57.328125 34.859375 57.328125 23.390625 \r\nQ 57.328125 12.15625 50.6875 5.359375 \r\nQ 44.046875 -1.421875 33.015625 -1.421875 \r\nQ 20.359375 -1.421875 13.671875 8.265625 \r\nQ 6.984375 17.96875 6.984375 36.375 \r\nQ 6.984375 53.65625 15.1875 63.9375 \r\nQ 23.390625 74.21875 37.203125 74.21875 \r\nQ 40.921875 74.21875 44.703125 73.484375 \r\nQ 48.484375 72.75 52.59375 71.296875 \r\nz\r\n\" id=\"DejaVuSans-54\"/>\r\n       </defs>\r\n       <use xlink:href=\"#DejaVuSans-50\"/>\r\n       <use x=\"63.623047\" xlink:href=\"#DejaVuSans-54\"/>\r\n       <use x=\"127.246094\" xlink:href=\"#DejaVuSans-48\"/>\r\n       <use x=\"190.869141\" xlink:href=\"#DejaVuSans-48\"/>\r\n       <use x=\"254.492188\" xlink:href=\"#DejaVuSans-48\"/>\r\n      </g>\r\n     </g>\r\n    </g>\r\n    <g id=\"ytick_2\">\r\n     <g id=\"line2d_9\">\r\n      <g>\r\n       <use style=\"stroke:#000000;stroke-width:0.8;\" x=\"46.0125\" xlink:href=\"#m5769cec86f\" y=\"372.34165\"/>\r\n      </g>\r\n     </g>\r\n     <g id=\"text_9\">\r\n      <!-- 28000 -->\r\n      <g transform=\"translate(7.2 376.140869)scale(0.1 -0.1)\">\r\n       <defs>\r\n        <path d=\"M 31.78125 34.625 \r\nQ 24.75 34.625 20.71875 30.859375 \r\nQ 16.703125 27.09375 16.703125 20.515625 \r\nQ 16.703125 13.921875 20.71875 10.15625 \r\nQ 24.75 6.390625 31.78125 6.390625 \r\nQ 38.8125 6.390625 42.859375 10.171875 \r\nQ 46.921875 13.96875 46.921875 20.515625 \r\nQ 46.921875 27.09375 42.890625 30.859375 \r\nQ 38.875 34.625 31.78125 34.625 \r\nz\r\nM 21.921875 38.8125 \r\nQ 15.578125 40.375 12.03125 44.71875 \r\nQ 8.5 49.078125 8.5 55.328125 \r\nQ 8.5 64.0625 14.71875 69.140625 \r\nQ 20.953125 74.21875 31.78125 74.21875 \r\nQ 42.671875 74.21875 48.875 69.140625 \r\nQ 55.078125 64.0625 55.078125 55.328125 \r\nQ 55.078125 49.078125 51.53125 44.71875 \r\nQ 48 40.375 41.703125 38.8125 \r\nQ 48.828125 37.15625 52.796875 32.3125 \r\nQ 56.78125 27.484375 56.78125 20.515625 \r\nQ 56.78125 9.90625 50.3125 4.234375 \r\nQ 43.84375 -1.421875 31.78125 -1.421875 \r\nQ 19.734375 -1.421875 13.25 4.234375 \r\nQ 6.78125 9.90625 6.78125 20.515625 \r\nQ 6.78125 27.484375 10.78125 32.3125 \r\nQ 14.796875 37.15625 21.921875 38.8125 \r\nz\r\nM 18.3125 54.390625 \r\nQ 18.3125 48.734375 21.84375 45.5625 \r\nQ 25.390625 42.390625 31.78125 42.390625 \r\nQ 38.140625 42.390625 41.71875 45.5625 \r\nQ 45.3125 48.734375 45.3125 54.390625 \r\nQ 45.3125 60.0625 41.71875 63.234375 \r\nQ 38.140625 66.40625 31.78125 66.40625 \r\nQ 25.390625 66.40625 21.84375 63.234375 \r\nQ 18.3125 60.0625 18.3125 54.390625 \r\nz\r\n\" id=\"DejaVuSans-56\"/>\r\n       </defs>\r\n       <use xlink:href=\"#DejaVuSans-50\"/>\r\n       <use x=\"63.623047\" xlink:href=\"#DejaVuSans-56\"/>\r\n       <use x=\"127.246094\" xlink:href=\"#DejaVuSans-48\"/>\r\n       <use x=\"190.869141\" xlink:href=\"#DejaVuSans-48\"/>\r\n       <use x=\"254.492188\" xlink:href=\"#DejaVuSans-48\"/>\r\n      </g>\r\n     </g>\r\n    </g>\r\n    <g id=\"ytick_3\">\r\n     <g id=\"line2d_10\">\r\n      <g>\r\n       <use style=\"stroke:#000000;stroke-width:0.8;\" x=\"46.0125\" xlink:href=\"#m5769cec86f\" y=\"322.83494\"/>\r\n      </g>\r\n     </g>\r\n     <g id=\"text_10\">\r\n      <!-- 30000 -->\r\n      <g transform=\"translate(7.2 326.634159)scale(0.1 -0.1)\">\r\n       <use xlink:href=\"#DejaVuSans-51\"/>\r\n       <use x=\"63.623047\" xlink:href=\"#DejaVuSans-48\"/>\r\n       <use x=\"127.246094\" xlink:href=\"#DejaVuSans-48\"/>\r\n       <use x=\"190.869141\" xlink:href=\"#DejaVuSans-48\"/>\r\n       <use x=\"254.492188\" xlink:href=\"#DejaVuSans-48\"/>\r\n      </g>\r\n     </g>\r\n    </g>\r\n    <g id=\"ytick_4\">\r\n     <g id=\"line2d_11\">\r\n      <g>\r\n       <use style=\"stroke:#000000;stroke-width:0.8;\" x=\"46.0125\" xlink:href=\"#m5769cec86f\" y=\"273.32823\"/>\r\n      </g>\r\n     </g>\r\n     <g id=\"text_11\">\r\n      <!-- 32000 -->\r\n      <g transform=\"translate(7.2 277.127449)scale(0.1 -0.1)\">\r\n       <use xlink:href=\"#DejaVuSans-51\"/>\r\n       <use x=\"63.623047\" xlink:href=\"#DejaVuSans-50\"/>\r\n       <use x=\"127.246094\" xlink:href=\"#DejaVuSans-48\"/>\r\n       <use x=\"190.869141\" xlink:href=\"#DejaVuSans-48\"/>\r\n       <use x=\"254.492188\" xlink:href=\"#DejaVuSans-48\"/>\r\n      </g>\r\n     </g>\r\n    </g>\r\n    <g id=\"ytick_5\">\r\n     <g id=\"line2d_12\">\r\n      <g>\r\n       <use style=\"stroke:#000000;stroke-width:0.8;\" x=\"46.0125\" xlink:href=\"#m5769cec86f\" y=\"223.82152\"/>\r\n      </g>\r\n     </g>\r\n     <g id=\"text_12\">\r\n      <!-- 34000 -->\r\n      <g transform=\"translate(7.2 227.620738)scale(0.1 -0.1)\">\r\n       <defs>\r\n        <path d=\"M 37.796875 64.3125 \r\nL 12.890625 25.390625 \r\nL 37.796875 25.390625 \r\nz\r\nM 35.203125 72.90625 \r\nL 47.609375 72.90625 \r\nL 47.609375 25.390625 \r\nL 58.015625 25.390625 \r\nL 58.015625 17.1875 \r\nL 47.609375 17.1875 \r\nL 47.609375 0 \r\nL 37.796875 0 \r\nL 37.796875 17.1875 \r\nL 4.890625 17.1875 \r\nL 4.890625 26.703125 \r\nz\r\n\" id=\"DejaVuSans-52\"/>\r\n       </defs>\r\n       <use xlink:href=\"#DejaVuSans-51\"/>\r\n       <use x=\"63.623047\" xlink:href=\"#DejaVuSans-52\"/>\r\n       <use x=\"127.246094\" xlink:href=\"#DejaVuSans-48\"/>\r\n       <use x=\"190.869141\" xlink:href=\"#DejaVuSans-48\"/>\r\n       <use x=\"254.492188\" xlink:href=\"#DejaVuSans-48\"/>\r\n      </g>\r\n     </g>\r\n    </g>\r\n    <g id=\"ytick_6\">\r\n     <g id=\"line2d_13\">\r\n      <g>\r\n       <use style=\"stroke:#000000;stroke-width:0.8;\" x=\"46.0125\" xlink:href=\"#m5769cec86f\" y=\"174.31481\"/>\r\n      </g>\r\n     </g>\r\n     <g id=\"text_13\">\r\n      <!-- 36000 -->\r\n      <g transform=\"translate(7.2 178.114028)scale(0.1 -0.1)\">\r\n       <use xlink:href=\"#DejaVuSans-51\"/>\r\n       <use x=\"63.623047\" xlink:href=\"#DejaVuSans-54\"/>\r\n       <use x=\"127.246094\" xlink:href=\"#DejaVuSans-48\"/>\r\n       <use x=\"190.869141\" xlink:href=\"#DejaVuSans-48\"/>\r\n       <use x=\"254.492188\" xlink:href=\"#DejaVuSans-48\"/>\r\n      </g>\r\n     </g>\r\n    </g>\r\n    <g id=\"ytick_7\">\r\n     <g id=\"line2d_14\">\r\n      <g>\r\n       <use style=\"stroke:#000000;stroke-width:0.8;\" x=\"46.0125\" xlink:href=\"#m5769cec86f\" y=\"124.808099\"/>\r\n      </g>\r\n     </g>\r\n     <g id=\"text_14\">\r\n      <!-- 38000 -->\r\n      <g transform=\"translate(7.2 128.607318)scale(0.1 -0.1)\">\r\n       <use xlink:href=\"#DejaVuSans-51\"/>\r\n       <use x=\"63.623047\" xlink:href=\"#DejaVuSans-56\"/>\r\n       <use x=\"127.246094\" xlink:href=\"#DejaVuSans-48\"/>\r\n       <use x=\"190.869141\" xlink:href=\"#DejaVuSans-48\"/>\r\n       <use x=\"254.492188\" xlink:href=\"#DejaVuSans-48\"/>\r\n      </g>\r\n     </g>\r\n    </g>\r\n    <g id=\"ytick_8\">\r\n     <g id=\"line2d_15\">\r\n      <g>\r\n       <use style=\"stroke:#000000;stroke-width:0.8;\" x=\"46.0125\" xlink:href=\"#m5769cec86f\" y=\"75.301389\"/>\r\n      </g>\r\n     </g>\r\n     <g id=\"text_15\">\r\n      <!-- 40000 -->\r\n      <g transform=\"translate(7.2 79.100608)scale(0.1 -0.1)\">\r\n       <use xlink:href=\"#DejaVuSans-52\"/>\r\n       <use x=\"63.623047\" xlink:href=\"#DejaVuSans-48\"/>\r\n       <use x=\"127.246094\" xlink:href=\"#DejaVuSans-48\"/>\r\n       <use x=\"190.869141\" xlink:href=\"#DejaVuSans-48\"/>\r\n       <use x=\"254.492188\" xlink:href=\"#DejaVuSans-48\"/>\r\n      </g>\r\n     </g>\r\n    </g>\r\n    <g id=\"ytick_9\">\r\n     <g id=\"line2d_16\">\r\n      <g>\r\n       <use style=\"stroke:#000000;stroke-width:0.8;\" x=\"46.0125\" xlink:href=\"#m5769cec86f\" y=\"25.794679\"/>\r\n      </g>\r\n     </g>\r\n     <g id=\"text_16\">\r\n      <!-- 42000 -->\r\n      <g transform=\"translate(7.2 29.593898)scale(0.1 -0.1)\">\r\n       <use xlink:href=\"#DejaVuSans-52\"/>\r\n       <use x=\"63.623047\" xlink:href=\"#DejaVuSans-50\"/>\r\n       <use x=\"127.246094\" xlink:href=\"#DejaVuSans-48\"/>\r\n       <use x=\"190.869141\" xlink:href=\"#DejaVuSans-48\"/>\r\n       <use x=\"254.492188\" xlink:href=\"#DejaVuSans-48\"/>\r\n      </g>\r\n     </g>\r\n    </g>\r\n   </g>\r\n   <g id=\"line2d_17\">\r\n    <path clip-path=\"url(#p20bf73e57c)\" d=\"M 86.594318 109.98113 \r\nL 88.811904 98.76612 \r\nL 91.02949 92.668865 \r\nL 99.899832 100.94983 \r\nL 102.117418 98.598551 \r\nL 104.335004 99.550008 \r\nL 106.552589 98.617599 \r\nL 115.422932 79.463917 \r\nL 117.640518 74.017406 \r\nL 119.858104 72.10695 \r\nL 122.075689 71.216312 \r\nL 128.728446 67.826843 \r\nL 130.946032 69.156852 \r\nL 133.163618 63.672727 \r\nL 135.381203 59.119174 \r\nL 137.598789 67.290972 \r\nL 144.251546 66.759548 \r\nL 148.686718 72.42855 \r\nL 150.904303 68.210037 \r\nL 153.121889 66.47208 \r\nL 159.774646 68.266699 \r\nL 164.209817 59.171098 \r\nL 166.427403 61.063956 \r\nL 168.644989 66.404782 \r\nL 175.297746 53.289952 \r\nL 177.515332 54.971439 \r\nL 179.732917 50.037883 \r\nL 181.950503 47.325844 \r\nL 184.168089 55.651963 \r\nL 190.820846 55.444944 \r\nL 193.038431 58.581755 \r\nL 195.256017 54.253882 \r\nL 197.473603 56.003925 \r\nL 199.691189 64.282472 \r\nL 206.343946 63.235869 \r\nL 208.561531 69.363582 \r\nL 212.996703 60.902092 \r\nL 215.214288 50.307656 \r\nL 221.867045 52.064951 \r\nL 224.084631 41.830599 \r\nL 226.302217 36.721545 \r\nL 228.519803 33.866207 \r\nL 230.737388 33.677656 \r\nL 237.390145 34.640039 \r\nL 239.607731 39.130259 \r\nL 244.042902 46.494382 \r\nL 246.260488 36.311374 \r\nL 252.913245 36.735662 \r\nL 255.130831 44.267161 \r\nL 259.566002 35.036576 \r\nL 261.783588 39.047393 \r\nL 268.436345 58.552554 \r\nL 270.653931 53.779121 \r\nL 272.871516 55.059623 \r\nL 275.089102 39.350815 \r\nL 277.306688 35.702983 \r\nL 283.959445 29.267788 \r\nL 286.177031 26.967273 \r\nL 288.394616 28.945027 \r\nL 290.612202 27.46408 \r\nL 292.829788 27.146928 \r\nL 299.482545 37.455733 \r\nL 303.917716 47.692019 \r\nL 306.135302 40.983377 \r\nL 308.352887 35.36949 \r\nL 315.005645 46.708267 \r\nL 317.22323 51.368376 \r\nL 319.440816 45.630529 \r\nL 321.658402 52.681271 \r\nL 323.875987 57.392627 \r\nL 330.528744 78.46218 \r\nL 332.74633 55.761613 \r\nL 334.963916 47.016717 \r\nL 337.181501 42.972734 \r\nL 339.399087 47.036732 \r\nL 346.051844 51.052481 \r\nL 348.26943 45.197829 \r\nL 350.487016 36.540149 \r\nL 352.704601 39.166712 \r\nL 354.922187 44.168147 \r\nL 361.574944 49.169485 \r\nL 363.79253 53.162511 \r\nL 366.010115 42.552701 \r\nL 368.227701 46.336966 \r\nL 377.098044 66.310217 \r\nL 379.31563 68.340765 \r\nL 381.533215 78.049979 \r\nL 383.750801 81.597154 \r\nL 385.968387 117.449198 \r\nL 392.621144 121.243133 \r\nL 394.83873 109.369451 \r\nL 397.056315 114.672084 \r\nL 399.273901 113.158938 \r\nL 401.491487 135.288148 \r\nL 408.144244 183.351041 \r\nL 412.579415 181.805213 \r\nL 414.797001 254.066639 \r\nL 417.014586 221.260031 \r\nL 423.667344 288.426036 \r\nL 425.884929 308.500523 \r\nL 428.102515 350.818366 \r\nL 430.320101 365.206979 \r\nL 432.537686 324.915189 \r\nL 439.190443 422.312727 \r\nL 441.408029 405.163874 \r\nL 443.625615 359.079315 \r\nL 445.8432 324.152573 \r\nL 448.060786 327.39971 \r\nL 454.713543 361.442245 \r\nL 456.931129 335.99159 \r\nL 459.148715 365.774324 \r\nL 463.583886 382.467029 \r\nL 472.454229 321.171244 \r\nL 474.671814 325.459762 \r\nL 476.8894 294.130476 \r\nL 485.759743 305.754641 \r\nL 490.194914 313.433355 \r\nL 492.4125 307.918336 \r\nL 494.630086 283.508772 \r\nL 501.282843 282.041411 \r\nL 503.500428 307.074208 \r\nL 505.718014 288.68643 \r\nL 507.9356 276.717457 \r\nL 510.153186 289.981775 \r\nL 516.805943 279.68786 \r\nL 519.023528 270.493487 \r\nL 521.241114 255.50185 \r\nL 523.4587 230.811345 \r\nL 532.329042 280.374282 \r\nL 534.546628 286.855697 \r\nL 536.764214 281.106972 \r\nL 538.9818 287.106421 \r\nL 541.199385 282.172623 \r\nL 547.852142 284.18949 \r\nL 550.069728 288.895141 \r\nL 552.287314 273.115119 \r\nL 554.504899 295.03963 \r\nL 556.722485 295.662428 \r\nL 563.375242 322.117576 \r\nL 565.592828 317.979076 \r\nL 567.810414 302.571611 \r\nL 570.027999 299.742525 \r\nL 572.245585 306.186085 \r\nL 581.115928 307.752701 \r\nL 583.333513 283.100342 \r\nL 585.551099 268.362958 \r\nL 587.768685 262.830342 \r\nL 594.421442 241.061748 \r\nL 596.639028 228.140207 \r\nL 598.856613 221.11006 \r\nL 601.074199 224.299279 \r\nL 603.291785 216.711409 \r\nL 609.944542 214.648468 \r\nL 612.162127 224.893553 \r\nL 614.379713 217.706184 \r\nL 616.597299 235.248384 \r\nL 618.814885 229.245212 \r\nL 625.467642 242.911288 \r\nL 627.685227 233.59368 \r\nL 629.902813 236.002104 \r\nL 632.120399 218.671565 \r\nL 634.337984 205.708736 \r\nL 640.990741 201.263284 \r\nL 643.208327 188.413586 \r\nL 645.425913 202.311338 \r\nL 647.643499 202.976681 \r\nL 649.861084 194.828669 \r\nL 656.513841 200.020685 \r\nL 658.731427 201.152378 \r\nL 660.949013 188.809156 \r\nL 663.166598 178.183778 \r\nL 665.384184 173.784546 \r\nL 672.036941 162.252964 \r\nL 674.254527 157.618188 \r\nL 676.472113 166.170666 \r\nL 678.689698 156.054472 \r\nL 680.907284 159.603194 \r\nL 687.560041 157.14362 \r\nL 689.777627 173.496498 \r\nL 691.995212 173.032373 \r\nL 694.212798 162.639155 \r\nL 696.430384 149.062906 \r\nL 703.083141 139.190089 \r\nL 705.300727 126.532712 \r\nL 707.518312 127.988422 \r\nL 709.735898 121.331027 \r\nL 711.953484 121.617431 \r\nL 718.606241 126.423739 \r\nL 720.823826 112.605952 \r\nL 723.041412 123.04742 \r\nL 725.258998 131.341245 \r\nL 727.476583 134.538875 \r\nL 734.129341 151.056518 \r\nL 736.346926 132.53337 \r\nL 738.564512 133.141858 \r\nL 740.782098 124.178146 \r\nL 742.999683 123.803848 \r\nL 749.65244 120.301055 \r\nL 751.870026 114.733194 \r\nL 754.087612 115.658544 \r\nL 756.305197 117.122473 \r\nL 758.522783 127.84435 \r\nL 765.17554 123.551093 \r\nL 767.393126 111.730399 \r\nL 769.610712 109.590007 \r\nL 771.828297 119.352692 \r\nL 774.045883 114.047352 \r\nL 780.69864 105.028235 \r\nL 782.916226 103.919265 \r\nL 785.133811 98.22493 \r\nL 787.351397 97.246012 \r\nL 789.568983 88.487289 \r\nL 796.22174 109.255837 \r\nL 798.439326 102.510258 \r\nL 800.656911 97.925182 \r\nL 802.874497 100.278975 \r\nL 805.092083 115.966704 \r\nL 811.74484 114.480246 \r\nL 813.962425 115.764422 \r\nL 816.180011 120.007882 \r\nL 818.397597 104.007352 \r\nL 820.615183 103.655101 \r\nL 827.26794 106.078995 \r\nL 829.485525 98.956894 \r\nL 831.703111 92.558152 \r\nL 833.920697 100.553486 \r\nL 836.138282 103.871209 \r\nL 842.791039 123.963004 \r\nL 845.008625 131.390558 \r\nL 847.226211 133.015771 \r\nL 849.443797 160.611314 \r\nL 851.661382 139.940812 \r\nL 858.314139 125.262846 \r\nL 860.531725 125.471025 \r\nL 862.749311 123.126612 \r\nL 864.966896 107.553754 \r\nL 873.837239 100.705777 \r\nL 876.054825 85.832201 \r\nL 880.489996 70.779648 \r\nL 882.707582 62.689845 \r\nL 891.577925 59.817876 \r\nL 893.79551 55.62895 \r\nL 896.013096 82.024149 \r\nL 898.230682 75.72268 \r\nL 898.230682 75.72268 \r\n\" style=\"fill:none;stroke:#1f77b4;stroke-linecap:square;stroke-width:1.5;\"/>\r\n   </g>\r\n   <g id=\"patch_3\">\r\n    <path d=\"M 46.0125 442.08 \r\nL 46.0125 7.2 \r\n\" style=\"fill:none;stroke:#000000;stroke-linecap:square;stroke-linejoin:miter;stroke-width:0.8;\"/>\r\n   </g>\r\n   <g id=\"patch_4\">\r\n    <path d=\"M 938.8125 442.08 \r\nL 938.8125 7.2 \r\n\" style=\"fill:none;stroke:#000000;stroke-linecap:square;stroke-linejoin:miter;stroke-width:0.8;\"/>\r\n   </g>\r\n   <g id=\"patch_5\">\r\n    <path d=\"M 46.0125 442.08 \r\nL 938.8125 442.08 \r\n\" style=\"fill:none;stroke:#000000;stroke-linecap:square;stroke-linejoin:miter;stroke-width:0.8;\"/>\r\n   </g>\r\n   <g id=\"patch_6\">\r\n    <path d=\"M 46.0125 7.2 \r\nL 938.8125 7.2 \r\n\" style=\"fill:none;stroke:#000000;stroke-linecap:square;stroke-linejoin:miter;stroke-width:0.8;\"/>\r\n   </g>\r\n  </g>\r\n </g>\r\n <defs>\r\n  <clipPath id=\"p20bf73e57c\">\r\n   <rect height=\"434.88\" width=\"892.8\" x=\"46.0125\" y=\"7.2\"/>\r\n  </clipPath>\r\n </defs>\r\n</svg>\r\n",
            "image/png": "[encoded data removed]"
          },
          "metadata": {
            "tags": [],
            "needs_background": "light"
          }
        }
      ]
    },
    {
      "cell_type": "code",
      "metadata": {
        "id": "4dZL22kO5b5W"
      },
      "source": [
        "# fix random seed for reproducibility\n",
        "np.random.seed(7)"
      ],
      "execution_count": null,
      "outputs": []
    },
    {
      "cell_type": "markdown",
      "metadata": {
        "id": "uVb7KDH75b5W"
      },
      "source": [
        "## Step 2 : Creating a dataframe for storing the Closing stock data per day"
      ]
    },
    {
      "cell_type": "code",
      "metadata": {
        "id": "WcAcdcsO5b5X"
      },
      "source": [
        "# convert an array of values into a dataset matrix\n",
        "def create_dataset(df2, look_back=1):\n",
        "\tdataX, dataY = [], []\n",
        "\tfor i in range(len(df2)-look_back-1):\n",
        "\t\ta = df2[i:(i+look_back), 0]\n",
        "\t\tdataX.append(a)\n",
        "\t\tdataY.append(df2[i + look_back, 0])\n",
        "\treturn np.array(dataX), np.array(dataY)\n"
      ],
      "execution_count": null,
      "outputs": []
    },
    {
      "cell_type": "code",
      "metadata": {
        "id": "pBkQdukW5b5Y"
      },
      "source": [
        "df2 = pd.read_csv('csv\\^BSESN.csv', usecols=[5], engine='python')\n",
        "df2.dropna(inplace=True)\n",
        "df2 = df2.values\n",
        "df2 = df2.astype('float32')"
      ],
      "execution_count": null,
      "outputs": []
    },
    {
      "cell_type": "markdown",
      "metadata": {
        "id": "29e58DHx5b5Z"
      },
      "source": [
        "## Step 3 : Data Normalization and Division into Training and Test sets"
      ]
    },
    {
      "cell_type": "code",
      "metadata": {
        "id": "BrV86gC55b5Z"
      },
      "source": [
        "# normalize the dataset\n",
        "scaler = MinMaxScaler(feature_range=(0, 1))\n",
        "df2 = scaler.fit_transform(df2)\n",
        "\n",
        "# split into train and test sets\n",
        "train_size = int(len(df2) * 0.67)\n",
        "test_size = len(df2) - train_size\n",
        "train, test = df2[0:train_size,:], df2[train_size:len(df2),:]"
      ],
      "execution_count": null,
      "outputs": []
    },
    {
      "cell_type": "code",
      "metadata": {
        "id": "4-v7CCCz5b5a"
      },
      "source": [
        "# reshape into X=t and Y=t+1\n",
        "look_back = 3\n",
        "trainX, trainY = create_dataset(train, look_back)\n",
        "testX, testY = create_dataset(test, look_back)\n",
        "# reshape input to be [samples, time steps, features]\n",
        "trainX = np.reshape(trainX, (trainX.shape[0], trainX.shape[1], 1))\n",
        "testX = np.reshape(testX, (testX.shape[0], testX.shape[1], 1))"
      ],
      "execution_count": null,
      "outputs": []
    },
    {
      "cell_type": "markdown",
      "metadata": {
        "id": "vqQqQjUC5b5b"
      },
      "source": [
        "## Step 4 : Creating a LSTM for Numerical Analysis"
      ]
    },
    {
      "cell_type": "code",
      "metadata": {
        "id": "-FrXmLc95b5b",
        "outputId": "02b769c9-41c0-4aa3-f8d6-2b57f254c94b"
      },
      "source": [
        "# create and fit the LSTM network\n",
        "model = Sequential()\n",
        "model.add(LSTM(7, input_shape=(look_back, 1)))\n",
        "model.add(Dense(1))\n",
        "model.compile(loss='mean_squared_error', optimizer='adam')\n",
        "model.fit(trainX, trainY, epochs=100, batch_size=1, verbose=2)"
      ],
      "execution_count": null,
      "outputs": [
        {
          "output_type": "stream",
          "text": [
            "Epoch 1/100\n",
            "162/162 - 0s - loss: 0.3630\n",
            "Epoch 2/100\n",
            "162/162 - 0s - loss: 0.0353\n",
            "Epoch 3/100\n",
            "162/162 - 0s - loss: 0.0214\n",
            "Epoch 4/100\n",
            "162/162 - 0s - loss: 0.0126\n",
            "Epoch 5/100\n",
            "162/162 - 0s - loss: 0.0070\n",
            "Epoch 6/100\n",
            "162/162 - 0s - loss: 0.0044\n",
            "Epoch 7/100\n",
            "162/162 - 0s - loss: 0.0035\n",
            "Epoch 8/100\n",
            "162/162 - 0s - loss: 0.0032\n",
            "Epoch 9/100\n",
            "162/162 - 0s - loss: 0.0032\n",
            "Epoch 10/100\n",
            "162/162 - 0s - loss: 0.0031\n",
            "Epoch 11/100\n",
            "162/162 - 0s - loss: 0.0033\n",
            "Epoch 12/100\n",
            "162/162 - 0s - loss: 0.0032\n",
            "Epoch 13/100\n",
            "162/162 - 0s - loss: 0.0032\n",
            "Epoch 14/100\n",
            "162/162 - 0s - loss: 0.0032\n",
            "Epoch 15/100\n",
            "162/162 - 0s - loss: 0.0032\n",
            "Epoch 16/100\n",
            "162/162 - 0s - loss: 0.0032\n",
            "Epoch 17/100\n",
            "162/162 - 0s - loss: 0.0032\n",
            "Epoch 18/100\n",
            "162/162 - 0s - loss: 0.0033\n",
            "Epoch 19/100\n",
            "162/162 - 0s - loss: 0.0031\n",
            "Epoch 20/100\n",
            "162/162 - 0s - loss: 0.0031\n",
            "Epoch 21/100\n",
            "162/162 - 0s - loss: 0.0031\n",
            "Epoch 22/100\n",
            "162/162 - 0s - loss: 0.0031\n",
            "Epoch 23/100\n",
            "162/162 - 0s - loss: 0.0032\n",
            "Epoch 24/100\n",
            "162/162 - 0s - loss: 0.0031\n",
            "Epoch 25/100\n",
            "162/162 - 0s - loss: 0.0033\n",
            "Epoch 26/100\n",
            "162/162 - 0s - loss: 0.0031\n",
            "Epoch 27/100\n",
            "162/162 - 0s - loss: 0.0031\n",
            "Epoch 28/100\n",
            "162/162 - 0s - loss: 0.0032\n",
            "Epoch 29/100\n",
            "162/162 - 0s - loss: 0.0032\n",
            "Epoch 30/100\n",
            "162/162 - 0s - loss: 0.0030\n",
            "Epoch 31/100\n",
            "162/162 - 0s - loss: 0.0031\n",
            "Epoch 32/100\n",
            "162/162 - 0s - loss: 0.0030\n",
            "Epoch 33/100\n",
            "162/162 - 0s - loss: 0.0032\n",
            "Epoch 34/100\n",
            "162/162 - 0s - loss: 0.0032\n",
            "Epoch 35/100\n",
            "162/162 - 0s - loss: 0.0029\n",
            "Epoch 36/100\n",
            "162/162 - 0s - loss: 0.0030\n",
            "Epoch 37/100\n",
            "162/162 - 0s - loss: 0.0030\n",
            "Epoch 38/100\n",
            "162/162 - 0s - loss: 0.0030\n",
            "Epoch 39/100\n",
            "162/162 - 0s - loss: 0.0030\n",
            "Epoch 40/100\n",
            "162/162 - 0s - loss: 0.0030\n",
            "Epoch 41/100\n",
            "162/162 - 0s - loss: 0.0029\n",
            "Epoch 42/100\n",
            "162/162 - 0s - loss: 0.0030\n",
            "Epoch 43/100\n",
            "162/162 - 0s - loss: 0.0029\n",
            "Epoch 44/100\n",
            "162/162 - 0s - loss: 0.0030\n",
            "Epoch 45/100\n",
            "162/162 - 0s - loss: 0.0028\n",
            "Epoch 46/100\n",
            "162/162 - 0s - loss: 0.0029\n",
            "Epoch 47/100\n",
            "162/162 - 0s - loss: 0.0029\n",
            "Epoch 48/100\n",
            "162/162 - 0s - loss: 0.0028\n",
            "Epoch 49/100\n",
            "162/162 - 0s - loss: 0.0028\n",
            "Epoch 50/100\n",
            "162/162 - 0s - loss: 0.0028\n",
            "Epoch 51/100\n",
            "162/162 - 0s - loss: 0.0028\n",
            "Epoch 52/100\n",
            "162/162 - 0s - loss: 0.0028\n",
            "Epoch 53/100\n",
            "162/162 - 0s - loss: 0.0030\n",
            "Epoch 54/100\n",
            "162/162 - 0s - loss: 0.0028\n",
            "Epoch 55/100\n",
            "162/162 - 0s - loss: 0.0028\n",
            "Epoch 56/100\n",
            "162/162 - 0s - loss: 0.0028\n",
            "Epoch 57/100\n",
            "162/162 - 0s - loss: 0.0027\n",
            "Epoch 58/100\n",
            "162/162 - 0s - loss: 0.0028\n",
            "Epoch 59/100\n",
            "162/162 - 0s - loss: 0.0027\n",
            "Epoch 60/100\n",
            "162/162 - 0s - loss: 0.0027\n",
            "Epoch 61/100\n",
            "162/162 - 0s - loss: 0.0027\n",
            "Epoch 62/100\n",
            "162/162 - 0s - loss: 0.0027\n",
            "Epoch 63/100\n",
            "162/162 - 0s - loss: 0.0027\n",
            "Epoch 64/100\n",
            "162/162 - 0s - loss: 0.0027\n",
            "Epoch 65/100\n",
            "162/162 - 0s - loss: 0.0027\n",
            "Epoch 66/100\n",
            "162/162 - 0s - loss: 0.0026\n",
            "Epoch 67/100\n",
            "162/162 - 0s - loss: 0.0026\n",
            "Epoch 68/100\n",
            "162/162 - 0s - loss: 0.0026\n",
            "Epoch 69/100\n",
            "162/162 - 0s - loss: 0.0026\n",
            "Epoch 70/100\n",
            "162/162 - 0s - loss: 0.0027\n",
            "Epoch 71/100\n",
            "162/162 - 0s - loss: 0.0025\n",
            "Epoch 72/100\n",
            "162/162 - 0s - loss: 0.0027\n",
            "Epoch 73/100\n",
            "162/162 - 0s - loss: 0.0025\n",
            "Epoch 74/100\n",
            "162/162 - 0s - loss: 0.0025\n",
            "Epoch 75/100\n",
            "162/162 - 0s - loss: 0.0024\n",
            "Epoch 76/100\n",
            "162/162 - 0s - loss: 0.0025\n",
            "Epoch 77/100\n",
            "162/162 - 0s - loss: 0.0025\n",
            "Epoch 78/100\n",
            "162/162 - 0s - loss: 0.0024\n",
            "Epoch 79/100\n",
            "162/162 - 0s - loss: 0.0024\n",
            "Epoch 80/100\n",
            "162/162 - 0s - loss: 0.0025\n",
            "Epoch 81/100\n",
            "162/162 - 0s - loss: 0.0025\n",
            "Epoch 82/100\n",
            "162/162 - 0s - loss: 0.0024\n",
            "Epoch 83/100\n",
            "162/162 - 0s - loss: 0.0025\n",
            "Epoch 84/100\n",
            "162/162 - 0s - loss: 0.0023\n",
            "Epoch 85/100\n",
            "162/162 - 0s - loss: 0.0024\n",
            "Epoch 86/100\n",
            "162/162 - 0s - loss: 0.0023\n",
            "Epoch 87/100\n",
            "162/162 - 0s - loss: 0.0024\n",
            "Epoch 88/100\n",
            "162/162 - 0s - loss: 0.0024\n",
            "Epoch 89/100\n",
            "162/162 - 0s - loss: 0.0023\n",
            "Epoch 90/100\n",
            "162/162 - 0s - loss: 0.0024\n",
            "Epoch 91/100\n",
            "162/162 - 0s - loss: 0.0023\n",
            "Epoch 92/100\n",
            "162/162 - 0s - loss: 0.0023\n",
            "Epoch 93/100\n",
            "162/162 - 0s - loss: 0.0023\n",
            "Epoch 94/100\n",
            "162/162 - 0s - loss: 0.0022\n",
            "Epoch 95/100\n",
            "162/162 - 0s - loss: 0.0023\n",
            "Epoch 96/100\n",
            "162/162 - 0s - loss: 0.0022\n",
            "Epoch 97/100\n",
            "162/162 - 0s - loss: 0.0025\n",
            "Epoch 98/100\n",
            "162/162 - 0s - loss: 0.0023\n",
            "Epoch 99/100\n",
            "162/162 - 0s - loss: 0.0023\n",
            "Epoch 100/100\n",
            "162/162 - 0s - loss: 0.0023\n"
          ],
          "name": "stdout"
        },
        {
          "output_type": "execute_result",
          "data": {
            "text/plain": [
              "<tensorflow.python.keras.callbacks.History at 0x255b4ee34c0>"
            ]
          },
          "metadata": {
            "tags": []
          },
          "execution_count": 9
        }
      ]
    },
    {
      "cell_type": "code",
      "metadata": {
        "id": "UUjdDkfQ5b5c"
      },
      "source": [
        "# make predictions\n",
        "trainPredict = model.predict(trainX)\n",
        "testPredict = model.predict(testX)\n",
        "# invert predictions\n",
        "trainPredict = scaler.inverse_transform(trainPredict)\n",
        "trainY = scaler.inverse_transform([trainY])\n",
        "testPredict = scaler.inverse_transform(testPredict)\n",
        "testY = scaler.inverse_transform([testY])"
      ],
      "execution_count": null,
      "outputs": []
    },
    {
      "cell_type": "markdown",
      "metadata": {
        "id": "3gaJPYMc5b5d"
      },
      "source": [
        "## Step 5 : Making Predictions"
      ]
    },
    {
      "cell_type": "code",
      "metadata": {
        "id": "d0VDazHg5b5d"
      },
      "source": [
        "# shift train predictions for plotting\n",
        "trainPredictPlot = np.empty_like(df2)\n",
        "trainPredictPlot[:, :] = np.nan\n",
        "trainPredictPlot[look_back:len(trainPredict)+look_back, :] = trainPredict\n",
        "# shift test predictions for plotting\n",
        "testPredictPlot = np.empty_like(df2)\n",
        "testPredictPlot[:, :] = np.nan\n",
        "testPredictPlot[len(trainPredict)+(look_back*2)+1:len(df2)-1, :] = testPredict\n",
        "# plot baseline and predictions\n",
        "plt.plot(scaler.inverse_transform(df2))\n",
        "plt.plot(trainPredictPlot,color='red')\n",
        "plt.plot(testPredictPlot,color='green')\n",
        "plt.show()"
      ],
      "execution_count": null,
      "outputs": []
    },
    {
      "cell_type": "code",
      "metadata": {
        "id": "F6wnpjJ45b5e"
      },
      "source": [
        "# calculate root mean squared error\n",
        "trainScore = math.sqrt(mean_squared_error(trainY[0], trainPredict[:,0]))\n",
        "print(\"Root mean square error = \",trainScore,\" RMSE\")\n",
        "testScore = math.sqrt(mean_squared_error(testY[0], testPredict[:,0]))\n",
        "print(\"Root mean square error = \",testScore,\" RMSE\")\n",
        "\n"
      ],
      "execution_count": null,
      "outputs": []
    },
    {
      "cell_type": "markdown",
      "metadata": {
        "id": "BSlF36cQ5b5f"
      },
      "source": [
        "# Step 6 : Creating a Hybrid model for Numerical and textual Analysis"
      ]
    },
    {
      "cell_type": "code",
      "metadata": {
        "id": "zzKh7Sxa5b5f",
        "outputId": "c1534f88-4d0f-4593-fc0b-911152d3c9d4"
      },
      "source": [
        "#Text Analysis\n",
        "\n",
        "columns = ['Date','Category','News']\n",
        "news = pd.read_csv('csv\\india-news-headlines.csv', names = columns)\n",
        "news"
      ],
      "execution_count": null,
      "outputs": [
        {
          "output_type": "execute_result",
          "data": {
            "text/plain": [
              "                 Date                          Category  \\\n",
              "0        publish_date                 headline_category   \n",
              "1            20010101                        sports.wwe   \n",
              "2            20010102                           unknown   \n",
              "3            20010102                           unknown   \n",
              "4            20010102                           unknown   \n",
              "...               ...                               ...   \n",
              "3297168      20200630                      gadgets-news   \n",
              "3297169      20200630     entertainment.hindi.bollywood   \n",
              "3297170      20200630     entertainment.hindi.bollywood   \n",
              "3297171      20200630     entertainment.hindi.bollywood   \n",
              "3297172      20200630  entertainment.telugu.movies.news   \n",
              "\n",
              "                                                      News  \n",
              "0                                            headline_text  \n",
              "1        win over cena satisfying but defeating underta...  \n",
              "2        Status quo will not be disturbed at Ayodhya; s...  \n",
              "3                      Fissures in Hurriyat over Pak visit  \n",
              "4                    America's unwanted heading for India?  \n",
              "...                                                    ...  \n",
              "3297168      why tiktok removed 1 65 crore videos in india  \n",
              "3297169  apurva asrani calls alia bhatts mother soni ra...  \n",
              "3297170  kangana ranaut gets a doll version of herself ...  \n",
              "3297171  meezaan jaffrey reminisces his childhood days ...  \n",
              "3297172  prabhas20 titled as radhe shyam prabhas and po...  \n",
              "\n",
              "[3297173 rows x 3 columns]"
            ],
            "text/html": [
              "<div>\n",
              "<style scoped>\n",
              "    .dataframe tbody tr th:only-of-type {\n",
              "        vertical-align: middle;\n",
              "    }\n",
              "\n",
              "    .dataframe tbody tr th {\n",
              "        vertical-align: top;\n",
              "    }\n",
              "\n",
              "    .dataframe thead th {\n",
              "        text-align: right;\n",
              "    }\n",
              "</style>\n",
              "<table border=\"1\" class=\"dataframe\">\n",
              "  <thead>\n",
              "    <tr style=\"text-align: right;\">\n",
              "      <th></th>\n",
              "      <th>Date</th>\n",
              "      <th>Category</th>\n",
              "      <th>News</th>\n",
              "    </tr>\n",
              "  </thead>\n",
              "  <tbody>\n",
              "    <tr>\n",
              "      <th>0</th>\n",
              "      <td>publish_date</td>\n",
              "      <td>headline_category</td>\n",
              "      <td>headline_text</td>\n",
              "    </tr>\n",
              "    <tr>\n",
              "      <th>1</th>\n",
              "      <td>20010101</td>\n",
              "      <td>sports.wwe</td>\n",
              "      <td>win over cena satisfying but defeating underta...</td>\n",
              "    </tr>\n",
              "    <tr>\n",
              "      <th>2</th>\n",
              "      <td>20010102</td>\n",
              "      <td>unknown</td>\n",
              "      <td>Status quo will not be disturbed at Ayodhya; s...</td>\n",
              "    </tr>\n",
              "    <tr>\n",
              "      <th>3</th>\n",
              "      <td>20010102</td>\n",
              "      <td>unknown</td>\n",
              "      <td>Fissures in Hurriyat over Pak visit</td>\n",
              "    </tr>\n",
              "    <tr>\n",
              "      <th>4</th>\n",
              "      <td>20010102</td>\n",
              "      <td>unknown</td>\n",
              "      <td>America's unwanted heading for India?</td>\n",
              "    </tr>\n",
              "    <tr>\n",
              "      <th>...</th>\n",
              "      <td>...</td>\n",
              "      <td>...</td>\n",
              "      <td>...</td>\n",
              "    </tr>\n",
              "    <tr>\n",
              "      <th>3297168</th>\n",
              "      <td>20200630</td>\n",
              "      <td>gadgets-news</td>\n",
              "      <td>why tiktok removed 1 65 crore videos in india</td>\n",
              "    </tr>\n",
              "    <tr>\n",
              "      <th>3297169</th>\n",
              "      <td>20200630</td>\n",
              "      <td>entertainment.hindi.bollywood</td>\n",
              "      <td>apurva asrani calls alia bhatts mother soni ra...</td>\n",
              "    </tr>\n",
              "    <tr>\n",
              "      <th>3297170</th>\n",
              "      <td>20200630</td>\n",
              "      <td>entertainment.hindi.bollywood</td>\n",
              "      <td>kangana ranaut gets a doll version of herself ...</td>\n",
              "    </tr>\n",
              "    <tr>\n",
              "      <th>3297171</th>\n",
              "      <td>20200630</td>\n",
              "      <td>entertainment.hindi.bollywood</td>\n",
              "      <td>meezaan jaffrey reminisces his childhood days ...</td>\n",
              "    </tr>\n",
              "    <tr>\n",
              "      <th>3297172</th>\n",
              "      <td>20200630</td>\n",
              "      <td>entertainment.telugu.movies.news</td>\n",
              "      <td>prabhas20 titled as radhe shyam prabhas and po...</td>\n",
              "    </tr>\n",
              "  </tbody>\n",
              "</table>\n",
              "<p>3297173 rows × 3 columns</p>\n",
              "</div>"
            ]
          },
          "metadata": {
            "tags": []
          },
          "execution_count": 15
        }
      ]
    },
    {
      "cell_type": "markdown",
      "metadata": {
        "id": "-Rtp6XW15b5g"
      },
      "source": [
        "## Step 7 : Text preprocessing"
      ]
    },
    {
      "cell_type": "code",
      "metadata": {
        "id": "d308j5Go5b5g",
        "outputId": "c056ebcc-c1f9-4df8-c2ea-36e854fde89c"
      },
      "source": [
        "news.drop(0, inplace=True)\n",
        "news.drop('Category', axis = 1, inplace=True)\n",
        "news.info()"
      ],
      "execution_count": null,
      "outputs": [
        {
          "output_type": "stream",
          "text": [
            "<class 'pandas.core.frame.DataFrame'>\n",
            "Int64Index: 3297172 entries, 1 to 3297172\n",
            "Data columns (total 2 columns):\n",
            " #   Column  Dtype \n",
            "---  ------  ----- \n",
            " 0   Date    object\n",
            " 1   News    object\n",
            "dtypes: object(2)\n",
            "memory usage: 75.5+ MB\n"
          ],
          "name": "stdout"
        }
      ]
    },
    {
      "cell_type": "code",
      "metadata": {
        "id": "x-KoRJqP5b5h",
        "outputId": "4fc1e0a1-ae66-4a55-8b9a-cd014323d3ab"
      },
      "source": [
        "# Restructuring the date format\n",
        "news['Date'] = pd.to_datetime(news['Date'],format= '%Y %m %d')\n",
        "news"
      ],
      "execution_count": null,
      "outputs": [
        {
          "output_type": "execute_result",
          "data": {
            "text/plain": [
              "                                 Date  \\\n",
              "1       2001-01-01 00:00:00.000000000   \n",
              "2       2001-01-02 00:00:00.000000000   \n",
              "3       2001-01-02 00:00:00.000000000   \n",
              "4       2001-01-02 00:00:00.000000000   \n",
              "5       2001-01-02 00:00:00.000000000   \n",
              "...                               ...   \n",
              "3297168 1970-01-01 00:00:00.020200630   \n",
              "3297169 1970-01-01 00:00:00.020200630   \n",
              "3297170 1970-01-01 00:00:00.020200630   \n",
              "3297171 1970-01-01 00:00:00.020200630   \n",
              "3297172 1970-01-01 00:00:00.020200630   \n",
              "\n",
              "                                                      News  \n",
              "1        win over cena satisfying but defeating underta...  \n",
              "2        Status quo will not be disturbed at Ayodhya; s...  \n",
              "3                      Fissures in Hurriyat over Pak visit  \n",
              "4                    America's unwanted heading for India?  \n",
              "5                       For bigwigs; it is destination Goa  \n",
              "...                                                    ...  \n",
              "3297168      why tiktok removed 1 65 crore videos in india  \n",
              "3297169  apurva asrani calls alia bhatts mother soni ra...  \n",
              "3297170  kangana ranaut gets a doll version of herself ...  \n",
              "3297171  meezaan jaffrey reminisces his childhood days ...  \n",
              "3297172  prabhas20 titled as radhe shyam prabhas and po...  \n",
              "\n",
              "[3297172 rows x 2 columns]"
            ],
            "text/html": [
              "<div>\n",
              "<style scoped>\n",
              "    .dataframe tbody tr th:only-of-type {\n",
              "        vertical-align: middle;\n",
              "    }\n",
              "\n",
              "    .dataframe tbody tr th {\n",
              "        vertical-align: top;\n",
              "    }\n",
              "\n",
              "    .dataframe thead th {\n",
              "        text-align: right;\n",
              "    }\n",
              "</style>\n",
              "<table border=\"1\" class=\"dataframe\">\n",
              "  <thead>\n",
              "    <tr style=\"text-align: right;\">\n",
              "      <th></th>\n",
              "      <th>Date</th>\n",
              "      <th>News</th>\n",
              "    </tr>\n",
              "  </thead>\n",
              "  <tbody>\n",
              "    <tr>\n",
              "      <th>1</th>\n",
              "      <td>2001-01-01 00:00:00.000000000</td>\n",
              "      <td>win over cena satisfying but defeating underta...</td>\n",
              "    </tr>\n",
              "    <tr>\n",
              "      <th>2</th>\n",
              "      <td>2001-01-02 00:00:00.000000000</td>\n",
              "      <td>Status quo will not be disturbed at Ayodhya; s...</td>\n",
              "    </tr>\n",
              "    <tr>\n",
              "      <th>3</th>\n",
              "      <td>2001-01-02 00:00:00.000000000</td>\n",
              "      <td>Fissures in Hurriyat over Pak visit</td>\n",
              "    </tr>\n",
              "    <tr>\n",
              "      <th>4</th>\n",
              "      <td>2001-01-02 00:00:00.000000000</td>\n",
              "      <td>America's unwanted heading for India?</td>\n",
              "    </tr>\n",
              "    <tr>\n",
              "      <th>5</th>\n",
              "      <td>2001-01-02 00:00:00.000000000</td>\n",
              "      <td>For bigwigs; it is destination Goa</td>\n",
              "    </tr>\n",
              "    <tr>\n",
              "      <th>...</th>\n",
              "      <td>...</td>\n",
              "      <td>...</td>\n",
              "    </tr>\n",
              "    <tr>\n",
              "      <th>3297168</th>\n",
              "      <td>1970-01-01 00:00:00.020200630</td>\n",
              "      <td>why tiktok removed 1 65 crore videos in india</td>\n",
              "    </tr>\n",
              "    <tr>\n",
              "      <th>3297169</th>\n",
              "      <td>1970-01-01 00:00:00.020200630</td>\n",
              "      <td>apurva asrani calls alia bhatts mother soni ra...</td>\n",
              "    </tr>\n",
              "    <tr>\n",
              "      <th>3297170</th>\n",
              "      <td>1970-01-01 00:00:00.020200630</td>\n",
              "      <td>kangana ranaut gets a doll version of herself ...</td>\n",
              "    </tr>\n",
              "    <tr>\n",
              "      <th>3297171</th>\n",
              "      <td>1970-01-01 00:00:00.020200630</td>\n",
              "      <td>meezaan jaffrey reminisces his childhood days ...</td>\n",
              "    </tr>\n",
              "    <tr>\n",
              "      <th>3297172</th>\n",
              "      <td>1970-01-01 00:00:00.020200630</td>\n",
              "      <td>prabhas20 titled as radhe shyam prabhas and po...</td>\n",
              "    </tr>\n",
              "  </tbody>\n",
              "</table>\n",
              "<p>3297172 rows × 2 columns</p>\n",
              "</div>"
            ]
          },
          "metadata": {
            "tags": []
          },
          "execution_count": 17
        }
      ]
    },
    {
      "cell_type": "code",
      "metadata": {
        "id": "RCj9gzMn5b5i",
        "outputId": "4605863e-3417-4162-eb45-2e9475fa17a9"
      },
      "source": [
        "#Grouping the headlines for each day\n",
        "news['News'] = news.groupby(['Date']).transform(lambda x : ' '.join(x)) \n",
        "news = news.drop_duplicates() \n",
        "news.reset_index(inplace = True, drop = True)\n",
        "news"
      ],
      "execution_count": null,
      "outputs": [
        {
          "output_type": "execute_result",
          "data": {
            "text/plain": [
              "                              Date  \\\n",
              "0    2001-01-01 00:00:00.000000000   \n",
              "1    2001-01-02 00:00:00.000000000   \n",
              "2    2001-01-03 00:00:00.000000000   \n",
              "3    2001-01-04 00:00:00.000000000   \n",
              "4    2001-01-05 00:00:00.000000000   \n",
              "...                            ...   \n",
              "7076 1970-01-01 00:00:00.020200626   \n",
              "7077 1970-01-01 00:00:00.020200627   \n",
              "7078 1970-01-01 00:00:00.020200628   \n",
              "7079 1970-01-01 00:00:00.020200629   \n",
              "7080 1970-01-01 00:00:00.020200630   \n",
              "\n",
              "                                                   News  \n",
              "0     win over cena satisfying but defeating underta...  \n",
              "1     Status quo will not be disturbed at Ayodhya; s...  \n",
              "2     Powerless north India gropes in the dark Think...  \n",
              "3     The string that pulled Stephen Hawking to Indi...  \n",
              "4     Light combat craft takes India into club class...  \n",
              "...                                                 ...  \n",
              "7076  Containment zone residents slam high prices ch...  \n",
              "7077  like me i wont let you have a toxic relationsh...  \n",
              "7078  Atanu Ghosh plans to rewrite old scripts to ma...  \n",
              "7079  6 hot and stylish bikini looks of Katrina Kaif...  \n",
              "7080  Detective Byomkesh Bakshy! Edge of Tomorrow Fi...  \n",
              "\n",
              "[7081 rows x 2 columns]"
            ],
            "text/html": [
              "<div>\n",
              "<style scoped>\n",
              "    .dataframe tbody tr th:only-of-type {\n",
              "        vertical-align: middle;\n",
              "    }\n",
              "\n",
              "    .dataframe tbody tr th {\n",
              "        vertical-align: top;\n",
              "    }\n",
              "\n",
              "    .dataframe thead th {\n",
              "        text-align: right;\n",
              "    }\n",
              "</style>\n",
              "<table border=\"1\" class=\"dataframe\">\n",
              "  <thead>\n",
              "    <tr style=\"text-align: right;\">\n",
              "      <th></th>\n",
              "      <th>Date</th>\n",
              "      <th>News</th>\n",
              "    </tr>\n",
              "  </thead>\n",
              "  <tbody>\n",
              "    <tr>\n",
              "      <th>0</th>\n",
              "      <td>2001-01-01 00:00:00.000000000</td>\n",
              "      <td>win over cena satisfying but defeating underta...</td>\n",
              "    </tr>\n",
              "    <tr>\n",
              "      <th>1</th>\n",
              "      <td>2001-01-02 00:00:00.000000000</td>\n",
              "      <td>Status quo will not be disturbed at Ayodhya; s...</td>\n",
              "    </tr>\n",
              "    <tr>\n",
              "      <th>2</th>\n",
              "      <td>2001-01-03 00:00:00.000000000</td>\n",
              "      <td>Powerless north India gropes in the dark Think...</td>\n",
              "    </tr>\n",
              "    <tr>\n",
              "      <th>3</th>\n",
              "      <td>2001-01-04 00:00:00.000000000</td>\n",
              "      <td>The string that pulled Stephen Hawking to Indi...</td>\n",
              "    </tr>\n",
              "    <tr>\n",
              "      <th>4</th>\n",
              "      <td>2001-01-05 00:00:00.000000000</td>\n",
              "      <td>Light combat craft takes India into club class...</td>\n",
              "    </tr>\n",
              "    <tr>\n",
              "      <th>...</th>\n",
              "      <td>...</td>\n",
              "      <td>...</td>\n",
              "    </tr>\n",
              "    <tr>\n",
              "      <th>7076</th>\n",
              "      <td>1970-01-01 00:00:00.020200626</td>\n",
              "      <td>Containment zone residents slam high prices ch...</td>\n",
              "    </tr>\n",
              "    <tr>\n",
              "      <th>7077</th>\n",
              "      <td>1970-01-01 00:00:00.020200627</td>\n",
              "      <td>like me i wont let you have a toxic relationsh...</td>\n",
              "    </tr>\n",
              "    <tr>\n",
              "      <th>7078</th>\n",
              "      <td>1970-01-01 00:00:00.020200628</td>\n",
              "      <td>Atanu Ghosh plans to rewrite old scripts to ma...</td>\n",
              "    </tr>\n",
              "    <tr>\n",
              "      <th>7079</th>\n",
              "      <td>1970-01-01 00:00:00.020200629</td>\n",
              "      <td>6 hot and stylish bikini looks of Katrina Kaif...</td>\n",
              "    </tr>\n",
              "    <tr>\n",
              "      <th>7080</th>\n",
              "      <td>1970-01-01 00:00:00.020200630</td>\n",
              "      <td>Detective Byomkesh Bakshy! Edge of Tomorrow Fi...</td>\n",
              "    </tr>\n",
              "  </tbody>\n",
              "</table>\n",
              "<p>7081 rows × 2 columns</p>\n",
              "</div>"
            ]
          },
          "metadata": {
            "tags": []
          },
          "execution_count": 18
        }
      ]
    },
    {
      "cell_type": "code",
      "metadata": {
        "id": "MqoodWxE5b5j",
        "outputId": "7101e5f7-f677-4936-8691-cc42a4186d02"
      },
      "source": [
        "news['News']"
      ],
      "execution_count": null,
      "outputs": [
        {
          "output_type": "execute_result",
          "data": {
            "text/plain": [
              "0       win over cena satisfying but defeating underta...\n",
              "1       Status quo will not be disturbed at Ayodhya; s...\n",
              "2       Powerless north India gropes in the dark Think...\n",
              "3       The string that pulled Stephen Hawking to Indi...\n",
              "4       Light combat craft takes India into club class...\n",
              "                              ...                        \n",
              "7076    Containment zone residents slam high prices ch...\n",
              "7077    like me i wont let you have a toxic relationsh...\n",
              "7078    Atanu Ghosh plans to rewrite old scripts to ma...\n",
              "7079    6 hot and stylish bikini looks of Katrina Kaif...\n",
              "7080    Detective Byomkesh Bakshy! Edge of Tomorrow Fi...\n",
              "Name: News, Length: 7081, dtype: object"
            ]
          },
          "metadata": {
            "tags": []
          },
          "execution_count": 19
        }
      ]
    },
    {
      "cell_type": "markdown",
      "metadata": {
        "id": "qpujGUyy5b5j"
      },
      "source": [
        "## Step 8 : Adding subjectivity and polarity Scores"
      ]
    },
    {
      "cell_type": "code",
      "metadata": {
        "id": "eMcI4JXi5b5k"
      },
      "source": [
        "#Functions to get the subjectivity and polarity\n",
        "def getSubjectivity(text):\n",
        "  return TextBlob(text).sentiment.subjectivity\n",
        "\n",
        "def getPolarity(text):\n",
        "  return  TextBlob(text).sentiment.polarity"
      ],
      "execution_count": null,
      "outputs": []
    },
    {
      "cell_type": "code",
      "metadata": {
        "id": "gL9zvG1E5b5k",
        "outputId": "edc6260b-54fe-4f26-8cbc-c5f4048f8676"
      },
      "source": [
        "#Adding subjectivity and polarity columns\n",
        "news['Subjectivity'] = news['News'].apply(getSubjectivity)\n",
        "news['Polarity'] = news['News'].apply(getPolarity)\n",
        "news"
      ],
      "execution_count": null,
      "outputs": [
        {
          "output_type": "execute_result",
          "data": {
            "text/plain": [
              "                              Date  \\\n",
              "0    2001-01-01 00:00:00.000000000   \n",
              "1    2001-01-02 00:00:00.000000000   \n",
              "2    2001-01-03 00:00:00.000000000   \n",
              "3    2001-01-04 00:00:00.000000000   \n",
              "4    2001-01-05 00:00:00.000000000   \n",
              "...                            ...   \n",
              "7076 1970-01-01 00:00:00.020200626   \n",
              "7077 1970-01-01 00:00:00.020200627   \n",
              "7078 1970-01-01 00:00:00.020200628   \n",
              "7079 1970-01-01 00:00:00.020200629   \n",
              "7080 1970-01-01 00:00:00.020200630   \n",
              "\n",
              "                                                   News  Subjectivity  \\\n",
              "0     win over cena satisfying but defeating underta...      0.633333   \n",
              "1     Status quo will not be disturbed at Ayodhya; s...      0.282333   \n",
              "2     Powerless north India gropes in the dark Think...      0.407692   \n",
              "3     The string that pulled Stephen Hawking to Indi...      0.446847   \n",
              "4     Light combat craft takes India into club class...      0.476612   \n",
              "...                                                 ...           ...   \n",
              "7076  Containment zone residents slam high prices ch...      0.381841   \n",
              "7077  like me i wont let you have a toxic relationsh...      0.398808   \n",
              "7078  Atanu Ghosh plans to rewrite old scripts to ma...      0.402636   \n",
              "7079  6 hot and stylish bikini looks of Katrina Kaif...      0.396828   \n",
              "7080  Detective Byomkesh Bakshy! Edge of Tomorrow Fi...      0.384191   \n",
              "\n",
              "      Polarity  \n",
              "0     0.433333  \n",
              "1     0.151333  \n",
              "2     0.088462  \n",
              "3     0.087961  \n",
              "4     0.262024  \n",
              "...        ...  \n",
              "7076  0.068333  \n",
              "7077  0.079290  \n",
              "7078  0.057636  \n",
              "7079  0.061956  \n",
              "7080  0.071554  \n",
              "\n",
              "[7081 rows x 4 columns]"
            ],
            "text/html": [
              "<div>\n",
              "<style scoped>\n",
              "    .dataframe tbody tr th:only-of-type {\n",
              "        vertical-align: middle;\n",
              "    }\n",
              "\n",
              "    .dataframe tbody tr th {\n",
              "        vertical-align: top;\n",
              "    }\n",
              "\n",
              "    .dataframe thead th {\n",
              "        text-align: right;\n",
              "    }\n",
              "</style>\n",
              "<table border=\"1\" class=\"dataframe\">\n",
              "  <thead>\n",
              "    <tr style=\"text-align: right;\">\n",
              "      <th></th>\n",
              "      <th>Date</th>\n",
              "      <th>News</th>\n",
              "      <th>Subjectivity</th>\n",
              "      <th>Polarity</th>\n",
              "    </tr>\n",
              "  </thead>\n",
              "  <tbody>\n",
              "    <tr>\n",
              "      <th>0</th>\n",
              "      <td>2001-01-01 00:00:00.000000000</td>\n",
              "      <td>win over cena satisfying but defeating underta...</td>\n",
              "      <td>0.633333</td>\n",
              "      <td>0.433333</td>\n",
              "    </tr>\n",
              "    <tr>\n",
              "      <th>1</th>\n",
              "      <td>2001-01-02 00:00:00.000000000</td>\n",
              "      <td>Status quo will not be disturbed at Ayodhya; s...</td>\n",
              "      <td>0.282333</td>\n",
              "      <td>0.151333</td>\n",
              "    </tr>\n",
              "    <tr>\n",
              "      <th>2</th>\n",
              "      <td>2001-01-03 00:00:00.000000000</td>\n",
              "      <td>Powerless north India gropes in the dark Think...</td>\n",
              "      <td>0.407692</td>\n",
              "      <td>0.088462</td>\n",
              "    </tr>\n",
              "    <tr>\n",
              "      <th>3</th>\n",
              "      <td>2001-01-04 00:00:00.000000000</td>\n",
              "      <td>The string that pulled Stephen Hawking to Indi...</td>\n",
              "      <td>0.446847</td>\n",
              "      <td>0.087961</td>\n",
              "    </tr>\n",
              "    <tr>\n",
              "      <th>4</th>\n",
              "      <td>2001-01-05 00:00:00.000000000</td>\n",
              "      <td>Light combat craft takes India into club class...</td>\n",
              "      <td>0.476612</td>\n",
              "      <td>0.262024</td>\n",
              "    </tr>\n",
              "    <tr>\n",
              "      <th>...</th>\n",
              "      <td>...</td>\n",
              "      <td>...</td>\n",
              "      <td>...</td>\n",
              "      <td>...</td>\n",
              "    </tr>\n",
              "    <tr>\n",
              "      <th>7076</th>\n",
              "      <td>1970-01-01 00:00:00.020200626</td>\n",
              "      <td>Containment zone residents slam high prices ch...</td>\n",
              "      <td>0.381841</td>\n",
              "      <td>0.068333</td>\n",
              "    </tr>\n",
              "    <tr>\n",
              "      <th>7077</th>\n",
              "      <td>1970-01-01 00:00:00.020200627</td>\n",
              "      <td>like me i wont let you have a toxic relationsh...</td>\n",
              "      <td>0.398808</td>\n",
              "      <td>0.079290</td>\n",
              "    </tr>\n",
              "    <tr>\n",
              "      <th>7078</th>\n",
              "      <td>1970-01-01 00:00:00.020200628</td>\n",
              "      <td>Atanu Ghosh plans to rewrite old scripts to ma...</td>\n",
              "      <td>0.402636</td>\n",
              "      <td>0.057636</td>\n",
              "    </tr>\n",
              "    <tr>\n",
              "      <th>7079</th>\n",
              "      <td>1970-01-01 00:00:00.020200629</td>\n",
              "      <td>6 hot and stylish bikini looks of Katrina Kaif...</td>\n",
              "      <td>0.396828</td>\n",
              "      <td>0.061956</td>\n",
              "    </tr>\n",
              "    <tr>\n",
              "      <th>7080</th>\n",
              "      <td>1970-01-01 00:00:00.020200630</td>\n",
              "      <td>Detective Byomkesh Bakshy! Edge of Tomorrow Fi...</td>\n",
              "      <td>0.384191</td>\n",
              "      <td>0.071554</td>\n",
              "    </tr>\n",
              "  </tbody>\n",
              "</table>\n",
              "<p>7081 rows × 4 columns</p>\n",
              "</div>"
            ]
          },
          "metadata": {
            "tags": []
          },
          "execution_count": 21
        }
      ]
    },
    {
      "cell_type": "markdown",
      "metadata": {
        "id": "oIH28Vhp5b5l"
      },
      "source": [
        "## Step 9 : Visualizing the polarity and Subjectivity scores"
      ]
    },
    {
      "cell_type": "code",
      "metadata": {
        "id": "T41RPEnV5b5m",
        "outputId": "02f01f90-e8c1-4bbe-906b-59a8a8196745"
      },
      "source": [
        "plt.figure(figsize = (10,6))\n",
        "news['Polarity'].hist(color = 'red')"
      ],
      "execution_count": null,
      "outputs": [
        {
          "output_type": "execute_result",
          "data": {
            "text/plain": [
              "<AxesSubplot:>"
            ]
          },
          "metadata": {
            "tags": []
          },
          "execution_count": 22
        },
        {
          "output_type": "display_data",
          "data": {
            "text/plain": [
              "<Figure size 720x432 with 1 Axes>"
            ],
            "image/svg+xml": "<?xml version=\"1.0\" encoding=\"utf-8\" standalone=\"no\"?>\r\n<!DOCTYPE svg PUBLIC \"-//W3C//DTD SVG 1.1//EN\"\r\n  \"http://www.w3.org/Graphics/SVG/1.1/DTD/svg11.dtd\">\r\n<!-- Created with matplotlib (https://matplotlib.org/) -->\r\n<svg height=\"357.238125pt\" version=\"1.1\" viewBox=\"0 0 604.85 357.238125\" width=\"604.85pt\" xmlns=\"http://www.w3.org/2000/svg\" xmlns:xlink=\"http://www.w3.org/1999/xlink\">\r\n <metadata>\r\n  <rdf:RDF xmlns:cc=\"http://creativecommons.org/ns#\" xmlns:dc=\"http://purl.org/dc/elements/1.1/\" xmlns:rdf=\"http://www.w3.org/1999/02/22-rdf-syntax-ns#\">\r\n   <cc:Work>\r\n    <dc:type rdf:resource=\"http://purl.org/dc/dcmitype/StillImage\"/>\r\n    <dc:date>2020-10-18T19:33:23.619978</dc:date>\r\n    <dc:format>image/svg+xml</dc:format>\r\n    <dc:creator>\r\n     <cc:Agent>\r\n      <dc:title>Matplotlib v3.3.1, https://matplotlib.org/</dc:title>\r\n     </cc:Agent>\r\n    </dc:creator>\r\n   </cc:Work>\r\n  </rdf:RDF>\r\n </metadata>\r\n <defs>\r\n  <style type=\"text/css\">*{stroke-linecap:butt;stroke-linejoin:round;}</style>\r\n </defs>\r\n <g id=\"figure_1\">\r\n  <g id=\"patch_1\">\r\n   <path d=\"M 0 357.238125 \r\nL 604.85 357.238125 \r\nL 604.85 0 \r\nL 0 0 \r\nz\r\n\" style=\"fill:none;\"/>\r\n  </g>\r\n  <g id=\"axes_1\">\r\n   <g id=\"patch_2\">\r\n    <path d=\"M 39.65 333.36 \r\nL 597.65 333.36 \r\nL 597.65 7.2 \r\nL 39.65 7.2 \r\nz\r\n\" style=\"fill:#ffffff;\"/>\r\n   </g>\r\n   <g id=\"patch_3\">\r\n    <path clip-path=\"url(#p6dc1049a33)\" d=\"M 65.013636 333.36 \r\nL 115.740909 333.36 \r\nL 115.740909 333.078327 \r\nL 65.013636 333.078327 \r\nz\r\n\" style=\"fill:#ff0000;\"/>\r\n   </g>\r\n   <g id=\"patch_4\">\r\n    <path clip-path=\"url(#p6dc1049a33)\" d=\"M 115.740909 333.36 \r\nL 166.468182 333.36 \r\nL 166.468182 331.951637 \r\nL 115.740909 331.951637 \r\nz\r\n\" style=\"fill:#ff0000;\"/>\r\n   </g>\r\n   <g id=\"patch_5\">\r\n    <path clip-path=\"url(#p6dc1049a33)\" d=\"M 166.468182 333.36 \r\nL 217.195455 333.36 \r\nL 217.195455 268.180954 \r\nL 166.468182 268.180954 \r\nz\r\n\" style=\"fill:#ff0000;\"/>\r\n   </g>\r\n   <g id=\"patch_6\">\r\n    <path clip-path=\"url(#p6dc1049a33)\" d=\"M 217.195455 333.36 \r\nL 267.922727 333.36 \r\nL 267.922727 22.731429 \r\nL 217.195455 22.731429 \r\nz\r\n\" style=\"fill:#ff0000;\"/>\r\n   </g>\r\n   <g id=\"patch_7\">\r\n    <path clip-path=\"url(#p6dc1049a33)\" d=\"M 267.922727 333.36 \r\nL 318.65 333.36 \r\nL 318.65 313.473913 \r\nL 267.922727 313.473913 \r\nz\r\n\" style=\"fill:#ff0000;\"/>\r\n   </g>\r\n   <g id=\"patch_8\">\r\n    <path clip-path=\"url(#p6dc1049a33)\" d=\"M 318.65 333.36 \r\nL 369.377273 333.36 \r\nL 369.377273 332.345979 \r\nL 318.65 332.345979 \r\nz\r\n\" style=\"fill:#ff0000;\"/>\r\n   </g>\r\n   <g id=\"patch_9\">\r\n    <path clip-path=\"url(#p6dc1049a33)\" d=\"M 369.377273 333.36 \r\nL 420.104545 333.36 \r\nL 420.104545 333.190996 \r\nL 369.377273 333.190996 \r\nz\r\n\" style=\"fill:#ff0000;\"/>\r\n   </g>\r\n   <g id=\"patch_10\">\r\n    <path clip-path=\"url(#p6dc1049a33)\" d=\"M 420.104545 333.36 \r\nL 470.831818 333.36 \r\nL 470.831818 333.190996 \r\nL 420.104545 333.190996 \r\nz\r\n\" style=\"fill:#ff0000;\"/>\r\n   </g>\r\n   <g id=\"patch_11\">\r\n    <path clip-path=\"url(#p6dc1049a33)\" d=\"M 470.831818 333.36 \r\nL 521.559091 333.36 \r\nL 521.559091 333.247331 \r\nL 470.831818 333.247331 \r\nz\r\n\" style=\"fill:#ff0000;\"/>\r\n   </g>\r\n   <g id=\"patch_12\">\r\n    <path clip-path=\"url(#p6dc1049a33)\" d=\"M 521.559091 333.36 \r\nL 572.286364 333.36 \r\nL 572.286364 333.303665 \r\nL 521.559091 333.303665 \r\nz\r\n\" style=\"fill:#ff0000;\"/>\r\n   </g>\r\n   <g id=\"matplotlib.axis_1\">\r\n    <g id=\"xtick_1\">\r\n     <g id=\"line2d_1\">\r\n      <path clip-path=\"url(#p6dc1049a33)\" d=\"M 83.801515 333.36 \r\nL 83.801515 7.2 \r\n\" style=\"fill:none;stroke:#b0b0b0;stroke-linecap:square;stroke-width:0.8;\"/>\r\n     </g>\r\n     <g id=\"line2d_2\">\r\n      <defs>\r\n       <path d=\"M 0 0 \r\nL 0 3.5 \r\n\" id=\"m246969ec9c\" style=\"stroke:#000000;stroke-width:0.8;\"/>\r\n      </defs>\r\n      <g>\r\n       <use style=\"stroke:#000000;stroke-width:0.8;\" x=\"83.801515\" xlink:href=\"#m246969ec9c\" y=\"333.36\"/>\r\n      </g>\r\n     </g>\r\n     <g id=\"text_1\">\r\n      <!-- −0.2 -->\r\n      <g transform=\"translate(71.660109 347.958438)scale(0.1 -0.1)\">\r\n       <defs>\r\n        <path d=\"M 10.59375 35.5 \r\nL 73.1875 35.5 \r\nL 73.1875 27.203125 \r\nL 10.59375 27.203125 \r\nz\r\n\" id=\"DejaVuSans-8722\"/>\r\n        <path d=\"M 31.78125 66.40625 \r\nQ 24.171875 66.40625 20.328125 58.90625 \r\nQ 16.5 51.421875 16.5 36.375 \r\nQ 16.5 21.390625 20.328125 13.890625 \r\nQ 24.171875 6.390625 31.78125 6.390625 \r\nQ 39.453125 6.390625 43.28125 13.890625 \r\nQ 47.125 21.390625 47.125 36.375 \r\nQ 47.125 51.421875 43.28125 58.90625 \r\nQ 39.453125 66.40625 31.78125 66.40625 \r\nz\r\nM 31.78125 74.21875 \r\nQ 44.046875 74.21875 50.515625 64.515625 \r\nQ 56.984375 54.828125 56.984375 36.375 \r\nQ 56.984375 17.96875 50.515625 8.265625 \r\nQ 44.046875 -1.421875 31.78125 -1.421875 \r\nQ 19.53125 -1.421875 13.0625 8.265625 \r\nQ 6.59375 17.96875 6.59375 36.375 \r\nQ 6.59375 54.828125 13.0625 64.515625 \r\nQ 19.53125 74.21875 31.78125 74.21875 \r\nz\r\n\" id=\"DejaVuSans-48\"/>\r\n        <path d=\"M 10.6875 12.40625 \r\nL 21 12.40625 \r\nL 21 0 \r\nL 10.6875 0 \r\nz\r\n\" id=\"DejaVuSans-46\"/>\r\n        <path d=\"M 19.1875 8.296875 \r\nL 53.609375 8.296875 \r\nL 53.609375 0 \r\nL 7.328125 0 \r\nL 7.328125 8.296875 \r\nQ 12.9375 14.109375 22.625 23.890625 \r\nQ 32.328125 33.6875 34.8125 36.53125 \r\nQ 39.546875 41.84375 41.421875 45.53125 \r\nQ 43.3125 49.21875 43.3125 52.78125 \r\nQ 43.3125 58.59375 39.234375 62.25 \r\nQ 35.15625 65.921875 28.609375 65.921875 \r\nQ 23.96875 65.921875 18.8125 64.3125 \r\nQ 13.671875 62.703125 7.8125 59.421875 \r\nL 7.8125 69.390625 \r\nQ 13.765625 71.78125 18.9375 73 \r\nQ 24.125 74.21875 28.421875 74.21875 \r\nQ 39.75 74.21875 46.484375 68.546875 \r\nQ 53.21875 62.890625 53.21875 53.421875 \r\nQ 53.21875 48.921875 51.53125 44.890625 \r\nQ 49.859375 40.875 45.40625 35.40625 \r\nQ 44.1875 33.984375 37.640625 27.21875 \r\nQ 31.109375 20.453125 19.1875 8.296875 \r\nz\r\n\" id=\"DejaVuSans-50\"/>\r\n       </defs>\r\n       <use xlink:href=\"#DejaVuSans-8722\"/>\r\n       <use x=\"83.789062\" xlink:href=\"#DejaVuSans-48\"/>\r\n       <use x=\"147.412109\" xlink:href=\"#DejaVuSans-46\"/>\r\n       <use x=\"179.199219\" xlink:href=\"#DejaVuSans-50\"/>\r\n      </g>\r\n     </g>\r\n    </g>\r\n    <g id=\"xtick_2\">\r\n     <g id=\"line2d_3\">\r\n      <path clip-path=\"url(#p6dc1049a33)\" d=\"M 196.528788 333.36 \r\nL 196.528788 7.2 \r\n\" style=\"fill:none;stroke:#b0b0b0;stroke-linecap:square;stroke-width:0.8;\"/>\r\n     </g>\r\n     <g id=\"line2d_4\">\r\n      <g>\r\n       <use style=\"stroke:#000000;stroke-width:0.8;\" x=\"196.528788\" xlink:href=\"#m246969ec9c\" y=\"333.36\"/>\r\n      </g>\r\n     </g>\r\n     <g id=\"text_2\">\r\n      <!-- 0.0 -->\r\n      <g transform=\"translate(188.577225 347.958438)scale(0.1 -0.1)\">\r\n       <use xlink:href=\"#DejaVuSans-48\"/>\r\n       <use x=\"63.623047\" xlink:href=\"#DejaVuSans-46\"/>\r\n       <use x=\"95.410156\" xlink:href=\"#DejaVuSans-48\"/>\r\n      </g>\r\n     </g>\r\n    </g>\r\n    <g id=\"xtick_3\">\r\n     <g id=\"line2d_5\">\r\n      <path clip-path=\"url(#p6dc1049a33)\" d=\"M 309.256061 333.36 \r\nL 309.256061 7.2 \r\n\" style=\"fill:none;stroke:#b0b0b0;stroke-linecap:square;stroke-width:0.8;\"/>\r\n     </g>\r\n     <g id=\"line2d_6\">\r\n      <g>\r\n       <use style=\"stroke:#000000;stroke-width:0.8;\" x=\"309.256061\" xlink:href=\"#m246969ec9c\" y=\"333.36\"/>\r\n      </g>\r\n     </g>\r\n     <g id=\"text_3\">\r\n      <!-- 0.2 -->\r\n      <g transform=\"translate(301.304498 347.958438)scale(0.1 -0.1)\">\r\n       <use xlink:href=\"#DejaVuSans-48\"/>\r\n       <use x=\"63.623047\" xlink:href=\"#DejaVuSans-46\"/>\r\n       <use x=\"95.410156\" xlink:href=\"#DejaVuSans-50\"/>\r\n      </g>\r\n     </g>\r\n    </g>\r\n    <g id=\"xtick_4\">\r\n     <g id=\"line2d_7\">\r\n      <path clip-path=\"url(#p6dc1049a33)\" d=\"M 421.983333 333.36 \r\nL 421.983333 7.2 \r\n\" style=\"fill:none;stroke:#b0b0b0;stroke-linecap:square;stroke-width:0.8;\"/>\r\n     </g>\r\n     <g id=\"line2d_8\">\r\n      <g>\r\n       <use style=\"stroke:#000000;stroke-width:0.8;\" x=\"421.983333\" xlink:href=\"#m246969ec9c\" y=\"333.36\"/>\r\n      </g>\r\n     </g>\r\n     <g id=\"text_4\">\r\n      <!-- 0.4 -->\r\n      <g transform=\"translate(414.031771 347.958438)scale(0.1 -0.1)\">\r\n       <defs>\r\n        <path d=\"M 37.796875 64.3125 \r\nL 12.890625 25.390625 \r\nL 37.796875 25.390625 \r\nz\r\nM 35.203125 72.90625 \r\nL 47.609375 72.90625 \r\nL 47.609375 25.390625 \r\nL 58.015625 25.390625 \r\nL 58.015625 17.1875 \r\nL 47.609375 17.1875 \r\nL 47.609375 0 \r\nL 37.796875 0 \r\nL 37.796875 17.1875 \r\nL 4.890625 17.1875 \r\nL 4.890625 26.703125 \r\nz\r\n\" id=\"DejaVuSans-52\"/>\r\n       </defs>\r\n       <use xlink:href=\"#DejaVuSans-48\"/>\r\n       <use x=\"63.623047\" xlink:href=\"#DejaVuSans-46\"/>\r\n       <use x=\"95.410156\" xlink:href=\"#DejaVuSans-52\"/>\r\n      </g>\r\n     </g>\r\n    </g>\r\n    <g id=\"xtick_5\">\r\n     <g id=\"line2d_9\">\r\n      <path clip-path=\"url(#p6dc1049a33)\" d=\"M 534.710606 333.36 \r\nL 534.710606 7.2 \r\n\" style=\"fill:none;stroke:#b0b0b0;stroke-linecap:square;stroke-width:0.8;\"/>\r\n     </g>\r\n     <g id=\"line2d_10\">\r\n      <g>\r\n       <use style=\"stroke:#000000;stroke-width:0.8;\" x=\"534.710606\" xlink:href=\"#m246969ec9c\" y=\"333.36\"/>\r\n      </g>\r\n     </g>\r\n     <g id=\"text_5\">\r\n      <!-- 0.6 -->\r\n      <g transform=\"translate(526.759044 347.958438)scale(0.1 -0.1)\">\r\n       <defs>\r\n        <path d=\"M 33.015625 40.375 \r\nQ 26.375 40.375 22.484375 35.828125 \r\nQ 18.609375 31.296875 18.609375 23.390625 \r\nQ 18.609375 15.53125 22.484375 10.953125 \r\nQ 26.375 6.390625 33.015625 6.390625 \r\nQ 39.65625 6.390625 43.53125 10.953125 \r\nQ 47.40625 15.53125 47.40625 23.390625 \r\nQ 47.40625 31.296875 43.53125 35.828125 \r\nQ 39.65625 40.375 33.015625 40.375 \r\nz\r\nM 52.59375 71.296875 \r\nL 52.59375 62.3125 \r\nQ 48.875 64.0625 45.09375 64.984375 \r\nQ 41.3125 65.921875 37.59375 65.921875 \r\nQ 27.828125 65.921875 22.671875 59.328125 \r\nQ 17.53125 52.734375 16.796875 39.40625 \r\nQ 19.671875 43.65625 24.015625 45.921875 \r\nQ 28.375 48.1875 33.59375 48.1875 \r\nQ 44.578125 48.1875 50.953125 41.515625 \r\nQ 57.328125 34.859375 57.328125 23.390625 \r\nQ 57.328125 12.15625 50.6875 5.359375 \r\nQ 44.046875 -1.421875 33.015625 -1.421875 \r\nQ 20.359375 -1.421875 13.671875 8.265625 \r\nQ 6.984375 17.96875 6.984375 36.375 \r\nQ 6.984375 53.65625 15.1875 63.9375 \r\nQ 23.390625 74.21875 37.203125 74.21875 \r\nQ 40.921875 74.21875 44.703125 73.484375 \r\nQ 48.484375 72.75 52.59375 71.296875 \r\nz\r\n\" id=\"DejaVuSans-54\"/>\r\n       </defs>\r\n       <use xlink:href=\"#DejaVuSans-48\"/>\r\n       <use x=\"63.623047\" xlink:href=\"#DejaVuSans-46\"/>\r\n       <use x=\"95.410156\" xlink:href=\"#DejaVuSans-54\"/>\r\n      </g>\r\n     </g>\r\n    </g>\r\n   </g>\r\n   <g id=\"matplotlib.axis_2\">\r\n    <g id=\"ytick_1\">\r\n     <g id=\"line2d_11\">\r\n      <path clip-path=\"url(#p6dc1049a33)\" d=\"M 39.65 333.36 \r\nL 597.65 333.36 \r\n\" style=\"fill:none;stroke:#b0b0b0;stroke-linecap:square;stroke-width:0.8;\"/>\r\n     </g>\r\n     <g id=\"line2d_12\">\r\n      <defs>\r\n       <path d=\"M 0 0 \r\nL -3.5 0 \r\n\" id=\"mc251112c9c\" style=\"stroke:#000000;stroke-width:0.8;\"/>\r\n      </defs>\r\n      <g>\r\n       <use style=\"stroke:#000000;stroke-width:0.8;\" x=\"39.65\" xlink:href=\"#mc251112c9c\" y=\"333.36\"/>\r\n      </g>\r\n     </g>\r\n     <g id=\"text_6\">\r\n      <!-- 0 -->\r\n      <g transform=\"translate(26.2875 337.159219)scale(0.1 -0.1)\">\r\n       <use xlink:href=\"#DejaVuSans-48\"/>\r\n      </g>\r\n     </g>\r\n    </g>\r\n    <g id=\"ytick_2\">\r\n     <g id=\"line2d_13\">\r\n      <path clip-path=\"url(#p6dc1049a33)\" d=\"M 39.65 277.025475 \r\nL 597.65 277.025475 \r\n\" style=\"fill:none;stroke:#b0b0b0;stroke-linecap:square;stroke-width:0.8;\"/>\r\n     </g>\r\n     <g id=\"line2d_14\">\r\n      <g>\r\n       <use style=\"stroke:#000000;stroke-width:0.8;\" x=\"39.65\" xlink:href=\"#mc251112c9c\" y=\"277.025475\"/>\r\n      </g>\r\n     </g>\r\n     <g id=\"text_7\">\r\n      <!-- 1000 -->\r\n      <g transform=\"translate(7.2 280.824694)scale(0.1 -0.1)\">\r\n       <defs>\r\n        <path d=\"M 12.40625 8.296875 \r\nL 28.515625 8.296875 \r\nL 28.515625 63.921875 \r\nL 10.984375 60.40625 \r\nL 10.984375 69.390625 \r\nL 28.421875 72.90625 \r\nL 38.28125 72.90625 \r\nL 38.28125 8.296875 \r\nL 54.390625 8.296875 \r\nL 54.390625 0 \r\nL 12.40625 0 \r\nz\r\n\" id=\"DejaVuSans-49\"/>\r\n       </defs>\r\n       <use xlink:href=\"#DejaVuSans-49\"/>\r\n       <use x=\"63.623047\" xlink:href=\"#DejaVuSans-48\"/>\r\n       <use x=\"127.246094\" xlink:href=\"#DejaVuSans-48\"/>\r\n       <use x=\"190.869141\" xlink:href=\"#DejaVuSans-48\"/>\r\n      </g>\r\n     </g>\r\n    </g>\r\n    <g id=\"ytick_3\">\r\n     <g id=\"line2d_15\">\r\n      <path clip-path=\"url(#p6dc1049a33)\" d=\"M 39.65 220.69095 \r\nL 597.65 220.69095 \r\n\" style=\"fill:none;stroke:#b0b0b0;stroke-linecap:square;stroke-width:0.8;\"/>\r\n     </g>\r\n     <g id=\"line2d_16\">\r\n      <g>\r\n       <use style=\"stroke:#000000;stroke-width:0.8;\" x=\"39.65\" xlink:href=\"#mc251112c9c\" y=\"220.69095\"/>\r\n      </g>\r\n     </g>\r\n     <g id=\"text_8\">\r\n      <!-- 2000 -->\r\n      <g transform=\"translate(7.2 224.490169)scale(0.1 -0.1)\">\r\n       <use xlink:href=\"#DejaVuSans-50\"/>\r\n       <use x=\"63.623047\" xlink:href=\"#DejaVuSans-48\"/>\r\n       <use x=\"127.246094\" xlink:href=\"#DejaVuSans-48\"/>\r\n       <use x=\"190.869141\" xlink:href=\"#DejaVuSans-48\"/>\r\n      </g>\r\n     </g>\r\n    </g>\r\n    <g id=\"ytick_4\">\r\n     <g id=\"line2d_17\">\r\n      <path clip-path=\"url(#p6dc1049a33)\" d=\"M 39.65 164.356425 \r\nL 597.65 164.356425 \r\n\" style=\"fill:none;stroke:#b0b0b0;stroke-linecap:square;stroke-width:0.8;\"/>\r\n     </g>\r\n     <g id=\"line2d_18\">\r\n      <g>\r\n       <use style=\"stroke:#000000;stroke-width:0.8;\" x=\"39.65\" xlink:href=\"#mc251112c9c\" y=\"164.356425\"/>\r\n      </g>\r\n     </g>\r\n     <g id=\"text_9\">\r\n      <!-- 3000 -->\r\n      <g transform=\"translate(7.2 168.155643)scale(0.1 -0.1)\">\r\n       <defs>\r\n        <path d=\"M 40.578125 39.3125 \r\nQ 47.65625 37.796875 51.625 33 \r\nQ 55.609375 28.21875 55.609375 21.1875 \r\nQ 55.609375 10.40625 48.1875 4.484375 \r\nQ 40.765625 -1.421875 27.09375 -1.421875 \r\nQ 22.515625 -1.421875 17.65625 -0.515625 \r\nQ 12.796875 0.390625 7.625 2.203125 \r\nL 7.625 11.71875 \r\nQ 11.71875 9.328125 16.59375 8.109375 \r\nQ 21.484375 6.890625 26.8125 6.890625 \r\nQ 36.078125 6.890625 40.9375 10.546875 \r\nQ 45.796875 14.203125 45.796875 21.1875 \r\nQ 45.796875 27.640625 41.28125 31.265625 \r\nQ 36.765625 34.90625 28.71875 34.90625 \r\nL 20.21875 34.90625 \r\nL 20.21875 43.015625 \r\nL 29.109375 43.015625 \r\nQ 36.375 43.015625 40.234375 45.921875 \r\nQ 44.09375 48.828125 44.09375 54.296875 \r\nQ 44.09375 59.90625 40.109375 62.90625 \r\nQ 36.140625 65.921875 28.71875 65.921875 \r\nQ 24.65625 65.921875 20.015625 65.03125 \r\nQ 15.375 64.15625 9.8125 62.3125 \r\nL 9.8125 71.09375 \r\nQ 15.4375 72.65625 20.34375 73.4375 \r\nQ 25.25 74.21875 29.59375 74.21875 \r\nQ 40.828125 74.21875 47.359375 69.109375 \r\nQ 53.90625 64.015625 53.90625 55.328125 \r\nQ 53.90625 49.265625 50.4375 45.09375 \r\nQ 46.96875 40.921875 40.578125 39.3125 \r\nz\r\n\" id=\"DejaVuSans-51\"/>\r\n       </defs>\r\n       <use xlink:href=\"#DejaVuSans-51\"/>\r\n       <use x=\"63.623047\" xlink:href=\"#DejaVuSans-48\"/>\r\n       <use x=\"127.246094\" xlink:href=\"#DejaVuSans-48\"/>\r\n       <use x=\"190.869141\" xlink:href=\"#DejaVuSans-48\"/>\r\n      </g>\r\n     </g>\r\n    </g>\r\n    <g id=\"ytick_5\">\r\n     <g id=\"line2d_19\">\r\n      <path clip-path=\"url(#p6dc1049a33)\" d=\"M 39.65 108.0219 \r\nL 597.65 108.0219 \r\n\" style=\"fill:none;stroke:#b0b0b0;stroke-linecap:square;stroke-width:0.8;\"/>\r\n     </g>\r\n     <g id=\"line2d_20\">\r\n      <g>\r\n       <use style=\"stroke:#000000;stroke-width:0.8;\" x=\"39.65\" xlink:href=\"#mc251112c9c\" y=\"108.0219\"/>\r\n      </g>\r\n     </g>\r\n     <g id=\"text_10\">\r\n      <!-- 4000 -->\r\n      <g transform=\"translate(7.2 111.821118)scale(0.1 -0.1)\">\r\n       <use xlink:href=\"#DejaVuSans-52\"/>\r\n       <use x=\"63.623047\" xlink:href=\"#DejaVuSans-48\"/>\r\n       <use x=\"127.246094\" xlink:href=\"#DejaVuSans-48\"/>\r\n       <use x=\"190.869141\" xlink:href=\"#DejaVuSans-48\"/>\r\n      </g>\r\n     </g>\r\n    </g>\r\n    <g id=\"ytick_6\">\r\n     <g id=\"line2d_21\">\r\n      <path clip-path=\"url(#p6dc1049a33)\" d=\"M 39.65 51.687374 \r\nL 597.65 51.687374 \r\n\" style=\"fill:none;stroke:#b0b0b0;stroke-linecap:square;stroke-width:0.8;\"/>\r\n     </g>\r\n     <g id=\"line2d_22\">\r\n      <g>\r\n       <use style=\"stroke:#000000;stroke-width:0.8;\" x=\"39.65\" xlink:href=\"#mc251112c9c\" y=\"51.687374\"/>\r\n      </g>\r\n     </g>\r\n     <g id=\"text_11\">\r\n      <!-- 5000 -->\r\n      <g transform=\"translate(7.2 55.486593)scale(0.1 -0.1)\">\r\n       <defs>\r\n        <path d=\"M 10.796875 72.90625 \r\nL 49.515625 72.90625 \r\nL 49.515625 64.59375 \r\nL 19.828125 64.59375 \r\nL 19.828125 46.734375 \r\nQ 21.96875 47.46875 24.109375 47.828125 \r\nQ 26.265625 48.1875 28.421875 48.1875 \r\nQ 40.625 48.1875 47.75 41.5 \r\nQ 54.890625 34.8125 54.890625 23.390625 \r\nQ 54.890625 11.625 47.5625 5.09375 \r\nQ 40.234375 -1.421875 26.90625 -1.421875 \r\nQ 22.3125 -1.421875 17.546875 -0.640625 \r\nQ 12.796875 0.140625 7.71875 1.703125 \r\nL 7.71875 11.625 \r\nQ 12.109375 9.234375 16.796875 8.0625 \r\nQ 21.484375 6.890625 26.703125 6.890625 \r\nQ 35.15625 6.890625 40.078125 11.328125 \r\nQ 45.015625 15.765625 45.015625 23.390625 \r\nQ 45.015625 31 40.078125 35.4375 \r\nQ 35.15625 39.890625 26.703125 39.890625 \r\nQ 22.75 39.890625 18.8125 39.015625 \r\nQ 14.890625 38.140625 10.796875 36.28125 \r\nz\r\n\" id=\"DejaVuSans-53\"/>\r\n       </defs>\r\n       <use xlink:href=\"#DejaVuSans-53\"/>\r\n       <use x=\"63.623047\" xlink:href=\"#DejaVuSans-48\"/>\r\n       <use x=\"127.246094\" xlink:href=\"#DejaVuSans-48\"/>\r\n       <use x=\"190.869141\" xlink:href=\"#DejaVuSans-48\"/>\r\n      </g>\r\n     </g>\r\n    </g>\r\n   </g>\r\n   <g id=\"patch_13\">\r\n    <path d=\"M 39.65 333.36 \r\nL 39.65 7.2 \r\n\" style=\"fill:none;stroke:#000000;stroke-linecap:square;stroke-linejoin:miter;stroke-width:0.8;\"/>\r\n   </g>\r\n   <g id=\"patch_14\">\r\n    <path d=\"M 597.65 333.36 \r\nL 597.65 7.2 \r\n\" style=\"fill:none;stroke:#000000;stroke-linecap:square;stroke-linejoin:miter;stroke-width:0.8;\"/>\r\n   </g>\r\n   <g id=\"patch_15\">\r\n    <path d=\"M 39.65 333.36 \r\nL 597.65 333.36 \r\n\" style=\"fill:none;stroke:#000000;stroke-linecap:square;stroke-linejoin:miter;stroke-width:0.8;\"/>\r\n   </g>\r\n   <g id=\"patch_16\">\r\n    <path d=\"M 39.65 7.2 \r\nL 597.65 7.2 \r\n\" style=\"fill:none;stroke:#000000;stroke-linecap:square;stroke-linejoin:miter;stroke-width:0.8;\"/>\r\n   </g>\r\n  </g>\r\n </g>\r\n <defs>\r\n  <clipPath id=\"p6dc1049a33\">\r\n   <rect height=\"326.16\" width=\"558\" x=\"39.65\" y=\"7.2\"/>\r\n  </clipPath>\r\n </defs>\r\n</svg>\r\n",
            "image/png": "[encoded data removed]"
          },
          "metadata": {
            "tags": [],
            "needs_background": "light"
          }
        }
      ]
    },
    {
      "cell_type": "code",
      "metadata": {
        "id": "fV6hjhtT5b5m",
        "outputId": "307bb17b-df1e-453f-e684-33ac03e6a136"
      },
      "source": [
        "plt.figure(figsize = (10,6))\n",
        "news['Subjectivity'].hist(color = 'green')"
      ],
      "execution_count": null,
      "outputs": [
        {
          "output_type": "execute_result",
          "data": {
            "text/plain": [
              "<AxesSubplot:>"
            ]
          },
          "metadata": {
            "tags": []
          },
          "execution_count": 23
        },
        {
          "output_type": "display_data",
          "data": {
            "text/plain": [
              "<Figure size 720x432 with 1 Axes>"
            ],
            "image/svg+xml": "<?xml version=\"1.0\" encoding=\"utf-8\" standalone=\"no\"?>\r\n<!DOCTYPE svg PUBLIC \"-//W3C//DTD SVG 1.1//EN\"\r\n  \"http://www.w3.org/Graphics/SVG/1.1/DTD/svg11.dtd\">\r\n<!-- Created with matplotlib (https://matplotlib.org/) -->\r\n<svg height=\"359.71768pt\" version=\"1.1\" viewBox=\"0 0 604.85 359.71768\" width=\"604.85pt\" xmlns=\"http://www.w3.org/2000/svg\" xmlns:xlink=\"http://www.w3.org/1999/xlink\">\r\n <metadata>\r\n  <rdf:RDF xmlns:cc=\"http://creativecommons.org/ns#\" xmlns:dc=\"http://purl.org/dc/elements/1.1/\" xmlns:rdf=\"http://www.w3.org/1999/02/22-rdf-syntax-ns#\">\r\n   <cc:Work>\r\n    <dc:type rdf:resource=\"http://purl.org/dc/dcmitype/StillImage\"/>\r\n    <dc:date>2020-10-18T19:33:23.990687</dc:date>\r\n    <dc:format>image/svg+xml</dc:format>\r\n    <dc:creator>\r\n     <cc:Agent>\r\n      <dc:title>Matplotlib v3.3.1, https://matplotlib.org/</dc:title>\r\n     </cc:Agent>\r\n    </dc:creator>\r\n   </cc:Work>\r\n  </rdf:RDF>\r\n </metadata>\r\n <defs>\r\n  <style type=\"text/css\">*{stroke-linecap:butt;stroke-linejoin:round;}</style>\r\n </defs>\r\n <g id=\"figure_1\">\r\n  <g id=\"patch_1\">\r\n   <path d=\"M 0 359.71768 \r\nL 604.85 359.71768 \r\nL 604.85 0 \r\nL 0 0 \r\nz\r\n\" style=\"fill:none;\"/>\r\n  </g>\r\n  <g id=\"axes_1\">\r\n   <g id=\"patch_2\">\r\n    <path d=\"M 39.65 335.839555 \r\nL 597.65 335.839555 \r\nL 597.65 9.679555 \r\nL 39.65 9.679555 \r\nz\r\n\" style=\"fill:#ffffff;\"/>\r\n   </g>\r\n   <g id=\"patch_3\">\r\n    <path clip-path=\"url(#pf1fc441f50)\" d=\"M 65.013636 335.839555 \r\nL 115.740909 335.839555 \r\nL 115.740909 334.865034 \r\nL 65.013636 334.865034 \r\nz\r\n\" style=\"fill:#008000;\"/>\r\n   </g>\r\n   <g id=\"patch_4\">\r\n    <path clip-path=\"url(#pf1fc441f50)\" d=\"M 115.740909 335.839555 \r\nL 166.468182 335.839555 \r\nL 166.468182 335.677135 \r\nL 115.740909 335.677135 \r\nz\r\n\" style=\"fill:#008000;\"/>\r\n   </g>\r\n   <g id=\"patch_5\">\r\n    <path clip-path=\"url(#pf1fc441f50)\" d=\"M 166.468182 335.839555 \r\nL 217.195455 335.839555 \r\nL 217.195455 333.078412 \r\nL 166.468182 333.078412 \r\nz\r\n\" style=\"fill:#008000;\"/>\r\n   </g>\r\n   <g id=\"patch_6\">\r\n    <path clip-path=\"url(#pf1fc441f50)\" d=\"M 217.195455 335.839555 \r\nL 267.922727 335.839555 \r\nL 267.922727 80.758681 \r\nL 217.195455 80.758681 \r\nz\r\n\" style=\"fill:#008000;\"/>\r\n   </g>\r\n   <g id=\"patch_7\">\r\n    <path clip-path=\"url(#pf1fc441f50)\" d=\"M 267.922727 335.839555 \r\nL 318.65 335.839555 \r\nL 318.65 25.210983 \r\nL 267.922727 25.210983 \r\nz\r\n\" style=\"fill:#008000;\"/>\r\n   </g>\r\n   <g id=\"patch_8\">\r\n    <path clip-path=\"url(#pf1fc441f50)\" d=\"M 318.65 335.839555 \r\nL 369.377273 335.839555 \r\nL 369.377273 331.12937 \r\nL 318.65 331.12937 \r\nz\r\n\" style=\"fill:#008000;\"/>\r\n   </g>\r\n   <g id=\"patch_9\">\r\n    <path clip-path=\"url(#pf1fc441f50)\" d=\"M 369.377273 335.839555 \r\nL 420.104545 335.839555 \r\nL 420.104545 335.595925 \r\nL 369.377273 335.595925 \r\nz\r\n\" style=\"fill:#008000;\"/>\r\n   </g>\r\n   <g id=\"patch_10\">\r\n    <path clip-path=\"url(#pf1fc441f50)\" d=\"M 420.104545 335.839555 \r\nL 470.831818 335.839555 \r\nL 470.831818 335.677135 \r\nL 420.104545 335.677135 \r\nz\r\n\" style=\"fill:#008000;\"/>\r\n   </g>\r\n   <g id=\"patch_11\">\r\n    <path clip-path=\"url(#pf1fc441f50)\" d=\"M 470.831818 335.839555 \r\nL 521.559091 335.839555 \r\nL 521.559091 335.677135 \r\nL 470.831818 335.677135 \r\nz\r\n\" style=\"fill:#008000;\"/>\r\n   </g>\r\n   <g id=\"patch_12\">\r\n    <path clip-path=\"url(#pf1fc441f50)\" d=\"M 521.559091 335.839555 \r\nL 572.286364 335.839555 \r\nL 572.286364 335.677135 \r\nL 521.559091 335.677135 \r\nz\r\n\" style=\"fill:#008000;\"/>\r\n   </g>\r\n   <g id=\"matplotlib.axis_1\">\r\n    <g id=\"xtick_1\">\r\n     <g id=\"line2d_1\">\r\n      <path clip-path=\"url(#pf1fc441f50)\" d=\"M 65.013636 335.839555 \r\nL 65.013636 9.679555 \r\n\" style=\"fill:none;stroke:#b0b0b0;stroke-linecap:square;stroke-width:0.8;\"/>\r\n     </g>\r\n     <g id=\"line2d_2\">\r\n      <defs>\r\n       <path d=\"M 0 0 \r\nL 0 3.5 \r\n\" id=\"md9119653dc\" style=\"stroke:#000000;stroke-width:0.8;\"/>\r\n      </defs>\r\n      <g>\r\n       <use style=\"stroke:#000000;stroke-width:0.8;\" x=\"65.013636\" xlink:href=\"#md9119653dc\" y=\"335.839555\"/>\r\n      </g>\r\n     </g>\r\n     <g id=\"text_1\">\r\n      <!-- 0.0 -->\r\n      <g transform=\"translate(57.062074 350.437992)scale(0.1 -0.1)\">\r\n       <defs>\r\n        <path d=\"M 31.78125 66.40625 \r\nQ 24.171875 66.40625 20.328125 58.90625 \r\nQ 16.5 51.421875 16.5 36.375 \r\nQ 16.5 21.390625 20.328125 13.890625 \r\nQ 24.171875 6.390625 31.78125 6.390625 \r\nQ 39.453125 6.390625 43.28125 13.890625 \r\nQ 47.125 21.390625 47.125 36.375 \r\nQ 47.125 51.421875 43.28125 58.90625 \r\nQ 39.453125 66.40625 31.78125 66.40625 \r\nz\r\nM 31.78125 74.21875 \r\nQ 44.046875 74.21875 50.515625 64.515625 \r\nQ 56.984375 54.828125 56.984375 36.375 \r\nQ 56.984375 17.96875 50.515625 8.265625 \r\nQ 44.046875 -1.421875 31.78125 -1.421875 \r\nQ 19.53125 -1.421875 13.0625 8.265625 \r\nQ 6.59375 17.96875 6.59375 36.375 \r\nQ 6.59375 54.828125 13.0625 64.515625 \r\nQ 19.53125 74.21875 31.78125 74.21875 \r\nz\r\n\" id=\"DejaVuSans-48\"/>\r\n        <path d=\"M 10.6875 12.40625 \r\nL 21 12.40625 \r\nL 21 0 \r\nL 10.6875 0 \r\nz\r\n\" id=\"DejaVuSans-46\"/>\r\n       </defs>\r\n       <use xlink:href=\"#DejaVuSans-48\"/>\r\n       <use x=\"63.623047\" xlink:href=\"#DejaVuSans-46\"/>\r\n       <use x=\"95.410156\" xlink:href=\"#DejaVuSans-48\"/>\r\n      </g>\r\n     </g>\r\n    </g>\r\n    <g id=\"xtick_2\">\r\n     <g id=\"line2d_3\">\r\n      <path clip-path=\"url(#pf1fc441f50)\" d=\"M 166.468182 335.839555 \r\nL 166.468182 9.679555 \r\n\" style=\"fill:none;stroke:#b0b0b0;stroke-linecap:square;stroke-width:0.8;\"/>\r\n     </g>\r\n     <g id=\"line2d_4\">\r\n      <g>\r\n       <use style=\"stroke:#000000;stroke-width:0.8;\" x=\"166.468182\" xlink:href=\"#md9119653dc\" y=\"335.839555\"/>\r\n      </g>\r\n     </g>\r\n     <g id=\"text_2\">\r\n      <!-- 0.2 -->\r\n      <g transform=\"translate(158.516619 350.437992)scale(0.1 -0.1)\">\r\n       <defs>\r\n        <path d=\"M 19.1875 8.296875 \r\nL 53.609375 8.296875 \r\nL 53.609375 0 \r\nL 7.328125 0 \r\nL 7.328125 8.296875 \r\nQ 12.9375 14.109375 22.625 23.890625 \r\nQ 32.328125 33.6875 34.8125 36.53125 \r\nQ 39.546875 41.84375 41.421875 45.53125 \r\nQ 43.3125 49.21875 43.3125 52.78125 \r\nQ 43.3125 58.59375 39.234375 62.25 \r\nQ 35.15625 65.921875 28.609375 65.921875 \r\nQ 23.96875 65.921875 18.8125 64.3125 \r\nQ 13.671875 62.703125 7.8125 59.421875 \r\nL 7.8125 69.390625 \r\nQ 13.765625 71.78125 18.9375 73 \r\nQ 24.125 74.21875 28.421875 74.21875 \r\nQ 39.75 74.21875 46.484375 68.546875 \r\nQ 53.21875 62.890625 53.21875 53.421875 \r\nQ 53.21875 48.921875 51.53125 44.890625 \r\nQ 49.859375 40.875 45.40625 35.40625 \r\nQ 44.1875 33.984375 37.640625 27.21875 \r\nQ 31.109375 20.453125 19.1875 8.296875 \r\nz\r\n\" id=\"DejaVuSans-50\"/>\r\n       </defs>\r\n       <use xlink:href=\"#DejaVuSans-48\"/>\r\n       <use x=\"63.623047\" xlink:href=\"#DejaVuSans-46\"/>\r\n       <use x=\"95.410156\" xlink:href=\"#DejaVuSans-50\"/>\r\n      </g>\r\n     </g>\r\n    </g>\r\n    <g id=\"xtick_3\">\r\n     <g id=\"line2d_5\">\r\n      <path clip-path=\"url(#pf1fc441f50)\" d=\"M 267.922727 335.839555 \r\nL 267.922727 9.679555 \r\n\" style=\"fill:none;stroke:#b0b0b0;stroke-linecap:square;stroke-width:0.8;\"/>\r\n     </g>\r\n     <g id=\"line2d_6\">\r\n      <g>\r\n       <use style=\"stroke:#000000;stroke-width:0.8;\" x=\"267.922727\" xlink:href=\"#md9119653dc\" y=\"335.839555\"/>\r\n      </g>\r\n     </g>\r\n     <g id=\"text_3\">\r\n      <!-- 0.4 -->\r\n      <g transform=\"translate(259.971165 350.437992)scale(0.1 -0.1)\">\r\n       <defs>\r\n        <path d=\"M 37.796875 64.3125 \r\nL 12.890625 25.390625 \r\nL 37.796875 25.390625 \r\nz\r\nM 35.203125 72.90625 \r\nL 47.609375 72.90625 \r\nL 47.609375 25.390625 \r\nL 58.015625 25.390625 \r\nL 58.015625 17.1875 \r\nL 47.609375 17.1875 \r\nL 47.609375 0 \r\nL 37.796875 0 \r\nL 37.796875 17.1875 \r\nL 4.890625 17.1875 \r\nL 4.890625 26.703125 \r\nz\r\n\" id=\"DejaVuSans-52\"/>\r\n       </defs>\r\n       <use xlink:href=\"#DejaVuSans-48\"/>\r\n       <use x=\"63.623047\" xlink:href=\"#DejaVuSans-46\"/>\r\n       <use x=\"95.410156\" xlink:href=\"#DejaVuSans-52\"/>\r\n      </g>\r\n     </g>\r\n    </g>\r\n    <g id=\"xtick_4\">\r\n     <g id=\"line2d_7\">\r\n      <path clip-path=\"url(#pf1fc441f50)\" d=\"M 369.377273 335.839555 \r\nL 369.377273 9.679555 \r\n\" style=\"fill:none;stroke:#b0b0b0;stroke-linecap:square;stroke-width:0.8;\"/>\r\n     </g>\r\n     <g id=\"line2d_8\">\r\n      <g>\r\n       <use style=\"stroke:#000000;stroke-width:0.8;\" x=\"369.377273\" xlink:href=\"#md9119653dc\" y=\"335.839555\"/>\r\n      </g>\r\n     </g>\r\n     <g id=\"text_4\">\r\n      <!-- 0.6 -->\r\n      <g transform=\"translate(361.42571 350.437992)scale(0.1 -0.1)\">\r\n       <defs>\r\n        <path d=\"M 33.015625 40.375 \r\nQ 26.375 40.375 22.484375 35.828125 \r\nQ 18.609375 31.296875 18.609375 23.390625 \r\nQ 18.609375 15.53125 22.484375 10.953125 \r\nQ 26.375 6.390625 33.015625 6.390625 \r\nQ 39.65625 6.390625 43.53125 10.953125 \r\nQ 47.40625 15.53125 47.40625 23.390625 \r\nQ 47.40625 31.296875 43.53125 35.828125 \r\nQ 39.65625 40.375 33.015625 40.375 \r\nz\r\nM 52.59375 71.296875 \r\nL 52.59375 62.3125 \r\nQ 48.875 64.0625 45.09375 64.984375 \r\nQ 41.3125 65.921875 37.59375 65.921875 \r\nQ 27.828125 65.921875 22.671875 59.328125 \r\nQ 17.53125 52.734375 16.796875 39.40625 \r\nQ 19.671875 43.65625 24.015625 45.921875 \r\nQ 28.375 48.1875 33.59375 48.1875 \r\nQ 44.578125 48.1875 50.953125 41.515625 \r\nQ 57.328125 34.859375 57.328125 23.390625 \r\nQ 57.328125 12.15625 50.6875 5.359375 \r\nQ 44.046875 -1.421875 33.015625 -1.421875 \r\nQ 20.359375 -1.421875 13.671875 8.265625 \r\nQ 6.984375 17.96875 6.984375 36.375 \r\nQ 6.984375 53.65625 15.1875 63.9375 \r\nQ 23.390625 74.21875 37.203125 74.21875 \r\nQ 40.921875 74.21875 44.703125 73.484375 \r\nQ 48.484375 72.75 52.59375 71.296875 \r\nz\r\n\" id=\"DejaVuSans-54\"/>\r\n       </defs>\r\n       <use xlink:href=\"#DejaVuSans-48\"/>\r\n       <use x=\"63.623047\" xlink:href=\"#DejaVuSans-46\"/>\r\n       <use x=\"95.410156\" xlink:href=\"#DejaVuSans-54\"/>\r\n      </g>\r\n     </g>\r\n    </g>\r\n    <g id=\"xtick_5\">\r\n     <g id=\"line2d_9\">\r\n      <path clip-path=\"url(#pf1fc441f50)\" d=\"M 470.831818 335.839555 \r\nL 470.831818 9.679555 \r\n\" style=\"fill:none;stroke:#b0b0b0;stroke-linecap:square;stroke-width:0.8;\"/>\r\n     </g>\r\n     <g id=\"line2d_10\">\r\n      <g>\r\n       <use style=\"stroke:#000000;stroke-width:0.8;\" x=\"470.831818\" xlink:href=\"#md9119653dc\" y=\"335.839555\"/>\r\n      </g>\r\n     </g>\r\n     <g id=\"text_5\">\r\n      <!-- 0.8 -->\r\n      <g transform=\"translate(462.880256 350.437992)scale(0.1 -0.1)\">\r\n       <defs>\r\n        <path d=\"M 31.78125 34.625 \r\nQ 24.75 34.625 20.71875 30.859375 \r\nQ 16.703125 27.09375 16.703125 20.515625 \r\nQ 16.703125 13.921875 20.71875 10.15625 \r\nQ 24.75 6.390625 31.78125 6.390625 \r\nQ 38.8125 6.390625 42.859375 10.171875 \r\nQ 46.921875 13.96875 46.921875 20.515625 \r\nQ 46.921875 27.09375 42.890625 30.859375 \r\nQ 38.875 34.625 31.78125 34.625 \r\nz\r\nM 21.921875 38.8125 \r\nQ 15.578125 40.375 12.03125 44.71875 \r\nQ 8.5 49.078125 8.5 55.328125 \r\nQ 8.5 64.0625 14.71875 69.140625 \r\nQ 20.953125 74.21875 31.78125 74.21875 \r\nQ 42.671875 74.21875 48.875 69.140625 \r\nQ 55.078125 64.0625 55.078125 55.328125 \r\nQ 55.078125 49.078125 51.53125 44.71875 \r\nQ 48 40.375 41.703125 38.8125 \r\nQ 48.828125 37.15625 52.796875 32.3125 \r\nQ 56.78125 27.484375 56.78125 20.515625 \r\nQ 56.78125 9.90625 50.3125 4.234375 \r\nQ 43.84375 -1.421875 31.78125 -1.421875 \r\nQ 19.734375 -1.421875 13.25 4.234375 \r\nQ 6.78125 9.90625 6.78125 20.515625 \r\nQ 6.78125 27.484375 10.78125 32.3125 \r\nQ 14.796875 37.15625 21.921875 38.8125 \r\nz\r\nM 18.3125 54.390625 \r\nQ 18.3125 48.734375 21.84375 45.5625 \r\nQ 25.390625 42.390625 31.78125 42.390625 \r\nQ 38.140625 42.390625 41.71875 45.5625 \r\nQ 45.3125 48.734375 45.3125 54.390625 \r\nQ 45.3125 60.0625 41.71875 63.234375 \r\nQ 38.140625 66.40625 31.78125 66.40625 \r\nQ 25.390625 66.40625 21.84375 63.234375 \r\nQ 18.3125 60.0625 18.3125 54.390625 \r\nz\r\n\" id=\"DejaVuSans-56\"/>\r\n       </defs>\r\n       <use xlink:href=\"#DejaVuSans-48\"/>\r\n       <use x=\"63.623047\" xlink:href=\"#DejaVuSans-46\"/>\r\n       <use x=\"95.410156\" xlink:href=\"#DejaVuSans-56\"/>\r\n      </g>\r\n     </g>\r\n    </g>\r\n    <g id=\"xtick_6\">\r\n     <g id=\"line2d_11\">\r\n      <path clip-path=\"url(#pf1fc441f50)\" d=\"M 572.286364 335.839555 \r\nL 572.286364 9.679555 \r\n\" style=\"fill:none;stroke:#b0b0b0;stroke-linecap:square;stroke-width:0.8;\"/>\r\n     </g>\r\n     <g id=\"line2d_12\">\r\n      <g>\r\n       <use style=\"stroke:#000000;stroke-width:0.8;\" x=\"572.286364\" xlink:href=\"#md9119653dc\" y=\"335.839555\"/>\r\n      </g>\r\n     </g>\r\n     <g id=\"text_6\">\r\n      <!-- 1.0 -->\r\n      <g transform=\"translate(564.334801 350.437992)scale(0.1 -0.1)\">\r\n       <defs>\r\n        <path d=\"M 12.40625 8.296875 \r\nL 28.515625 8.296875 \r\nL 28.515625 63.921875 \r\nL 10.984375 60.40625 \r\nL 10.984375 69.390625 \r\nL 28.421875 72.90625 \r\nL 38.28125 72.90625 \r\nL 38.28125 8.296875 \r\nL 54.390625 8.296875 \r\nL 54.390625 0 \r\nL 12.40625 0 \r\nz\r\n\" id=\"DejaVuSans-49\"/>\r\n       </defs>\r\n       <use xlink:href=\"#DejaVuSans-49\"/>\r\n       <use x=\"63.623047\" xlink:href=\"#DejaVuSans-46\"/>\r\n       <use x=\"95.410156\" xlink:href=\"#DejaVuSans-48\"/>\r\n      </g>\r\n     </g>\r\n    </g>\r\n   </g>\r\n   <g id=\"matplotlib.axis_2\">\r\n    <g id=\"ytick_1\">\r\n     <g id=\"line2d_13\">\r\n      <path clip-path=\"url(#pf1fc441f50)\" d=\"M 39.65 335.839555 \r\nL 597.65 335.839555 \r\n\" style=\"fill:none;stroke:#b0b0b0;stroke-linecap:square;stroke-width:0.8;\"/>\r\n     </g>\r\n     <g id=\"line2d_14\">\r\n      <defs>\r\n       <path d=\"M 0 0 \r\nL -3.5 0 \r\n\" id=\"mf8129bb215\" style=\"stroke:#000000;stroke-width:0.8;\"/>\r\n      </defs>\r\n      <g>\r\n       <use style=\"stroke:#000000;stroke-width:0.8;\" x=\"39.65\" xlink:href=\"#mf8129bb215\" y=\"335.839555\"/>\r\n      </g>\r\n     </g>\r\n     <g id=\"text_7\">\r\n      <!-- 0 -->\r\n      <g transform=\"translate(26.2875 339.638774)scale(0.1 -0.1)\">\r\n       <use xlink:href=\"#DejaVuSans-48\"/>\r\n      </g>\r\n     </g>\r\n    </g>\r\n    <g id=\"ytick_2\">\r\n     <g id=\"line2d_15\">\r\n      <path clip-path=\"url(#pf1fc441f50)\" d=\"M 39.65 295.234513 \r\nL 597.65 295.234513 \r\n\" style=\"fill:none;stroke:#b0b0b0;stroke-linecap:square;stroke-width:0.8;\"/>\r\n     </g>\r\n     <g id=\"line2d_16\">\r\n      <g>\r\n       <use style=\"stroke:#000000;stroke-width:0.8;\" x=\"39.65\" xlink:href=\"#mf8129bb215\" y=\"295.234513\"/>\r\n      </g>\r\n     </g>\r\n     <g id=\"text_8\">\r\n      <!-- 500 -->\r\n      <g transform=\"translate(13.5625 299.033732)scale(0.1 -0.1)\">\r\n       <defs>\r\n        <path d=\"M 10.796875 72.90625 \r\nL 49.515625 72.90625 \r\nL 49.515625 64.59375 \r\nL 19.828125 64.59375 \r\nL 19.828125 46.734375 \r\nQ 21.96875 47.46875 24.109375 47.828125 \r\nQ 26.265625 48.1875 28.421875 48.1875 \r\nQ 40.625 48.1875 47.75 41.5 \r\nQ 54.890625 34.8125 54.890625 23.390625 \r\nQ 54.890625 11.625 47.5625 5.09375 \r\nQ 40.234375 -1.421875 26.90625 -1.421875 \r\nQ 22.3125 -1.421875 17.546875 -0.640625 \r\nQ 12.796875 0.140625 7.71875 1.703125 \r\nL 7.71875 11.625 \r\nQ 12.109375 9.234375 16.796875 8.0625 \r\nQ 21.484375 6.890625 26.703125 6.890625 \r\nQ 35.15625 6.890625 40.078125 11.328125 \r\nQ 45.015625 15.765625 45.015625 23.390625 \r\nQ 45.015625 31 40.078125 35.4375 \r\nQ 35.15625 39.890625 26.703125 39.890625 \r\nQ 22.75 39.890625 18.8125 39.015625 \r\nQ 14.890625 38.140625 10.796875 36.28125 \r\nz\r\n\" id=\"DejaVuSans-53\"/>\r\n       </defs>\r\n       <use xlink:href=\"#DejaVuSans-53\"/>\r\n       <use x=\"63.623047\" xlink:href=\"#DejaVuSans-48\"/>\r\n       <use x=\"127.246094\" xlink:href=\"#DejaVuSans-48\"/>\r\n      </g>\r\n     </g>\r\n    </g>\r\n    <g id=\"ytick_3\">\r\n     <g id=\"line2d_17\">\r\n      <path clip-path=\"url(#pf1fc441f50)\" d=\"M 39.65 254.629471 \r\nL 597.65 254.629471 \r\n\" style=\"fill:none;stroke:#b0b0b0;stroke-linecap:square;stroke-width:0.8;\"/>\r\n     </g>\r\n     <g id=\"line2d_18\">\r\n      <g>\r\n       <use style=\"stroke:#000000;stroke-width:0.8;\" x=\"39.65\" xlink:href=\"#mf8129bb215\" y=\"254.629471\"/>\r\n      </g>\r\n     </g>\r\n     <g id=\"text_9\">\r\n      <!-- 1000 -->\r\n      <g transform=\"translate(7.2 258.42869)scale(0.1 -0.1)\">\r\n       <use xlink:href=\"#DejaVuSans-49\"/>\r\n       <use x=\"63.623047\" xlink:href=\"#DejaVuSans-48\"/>\r\n       <use x=\"127.246094\" xlink:href=\"#DejaVuSans-48\"/>\r\n       <use x=\"190.869141\" xlink:href=\"#DejaVuSans-48\"/>\r\n      </g>\r\n     </g>\r\n    </g>\r\n    <g id=\"ytick_4\">\r\n     <g id=\"line2d_19\">\r\n      <path clip-path=\"url(#pf1fc441f50)\" d=\"M 39.65 214.024429 \r\nL 597.65 214.024429 \r\n\" style=\"fill:none;stroke:#b0b0b0;stroke-linecap:square;stroke-width:0.8;\"/>\r\n     </g>\r\n     <g id=\"line2d_20\">\r\n      <g>\r\n       <use style=\"stroke:#000000;stroke-width:0.8;\" x=\"39.65\" xlink:href=\"#mf8129bb215\" y=\"214.024429\"/>\r\n      </g>\r\n     </g>\r\n     <g id=\"text_10\">\r\n      <!-- 1500 -->\r\n      <g transform=\"translate(7.2 217.823648)scale(0.1 -0.1)\">\r\n       <use xlink:href=\"#DejaVuSans-49\"/>\r\n       <use x=\"63.623047\" xlink:href=\"#DejaVuSans-53\"/>\r\n       <use x=\"127.246094\" xlink:href=\"#DejaVuSans-48\"/>\r\n       <use x=\"190.869141\" xlink:href=\"#DejaVuSans-48\"/>\r\n      </g>\r\n     </g>\r\n    </g>\r\n    <g id=\"ytick_5\">\r\n     <g id=\"line2d_21\">\r\n      <path clip-path=\"url(#pf1fc441f50)\" d=\"M 39.65 173.419387 \r\nL 597.65 173.419387 \r\n\" style=\"fill:none;stroke:#b0b0b0;stroke-linecap:square;stroke-width:0.8;\"/>\r\n     </g>\r\n     <g id=\"line2d_22\">\r\n      <g>\r\n       <use style=\"stroke:#000000;stroke-width:0.8;\" x=\"39.65\" xlink:href=\"#mf8129bb215\" y=\"173.419387\"/>\r\n      </g>\r\n     </g>\r\n     <g id=\"text_11\">\r\n      <!-- 2000 -->\r\n      <g transform=\"translate(7.2 177.218606)scale(0.1 -0.1)\">\r\n       <use xlink:href=\"#DejaVuSans-50\"/>\r\n       <use x=\"63.623047\" xlink:href=\"#DejaVuSans-48\"/>\r\n       <use x=\"127.246094\" xlink:href=\"#DejaVuSans-48\"/>\r\n       <use x=\"190.869141\" xlink:href=\"#DejaVuSans-48\"/>\r\n      </g>\r\n     </g>\r\n    </g>\r\n    <g id=\"ytick_6\">\r\n     <g id=\"line2d_23\">\r\n      <path clip-path=\"url(#pf1fc441f50)\" d=\"M 39.65 132.814345 \r\nL 597.65 132.814345 \r\n\" style=\"fill:none;stroke:#b0b0b0;stroke-linecap:square;stroke-width:0.8;\"/>\r\n     </g>\r\n     <g id=\"line2d_24\">\r\n      <g>\r\n       <use style=\"stroke:#000000;stroke-width:0.8;\" x=\"39.65\" xlink:href=\"#mf8129bb215\" y=\"132.814345\"/>\r\n      </g>\r\n     </g>\r\n     <g id=\"text_12\">\r\n      <!-- 2500 -->\r\n      <g transform=\"translate(7.2 136.613564)scale(0.1 -0.1)\">\r\n       <use xlink:href=\"#DejaVuSans-50\"/>\r\n       <use x=\"63.623047\" xlink:href=\"#DejaVuSans-53\"/>\r\n       <use x=\"127.246094\" xlink:href=\"#DejaVuSans-48\"/>\r\n       <use x=\"190.869141\" xlink:href=\"#DejaVuSans-48\"/>\r\n      </g>\r\n     </g>\r\n    </g>\r\n    <g id=\"ytick_7\">\r\n     <g id=\"line2d_25\">\r\n      <path clip-path=\"url(#pf1fc441f50)\" d=\"M 39.65 92.209303 \r\nL 597.65 92.209303 \r\n\" style=\"fill:none;stroke:#b0b0b0;stroke-linecap:square;stroke-width:0.8;\"/>\r\n     </g>\r\n     <g id=\"line2d_26\">\r\n      <g>\r\n       <use style=\"stroke:#000000;stroke-width:0.8;\" x=\"39.65\" xlink:href=\"#mf8129bb215\" y=\"92.209303\"/>\r\n      </g>\r\n     </g>\r\n     <g id=\"text_13\">\r\n      <!-- 3000 -->\r\n      <g transform=\"translate(7.2 96.008522)scale(0.1 -0.1)\">\r\n       <defs>\r\n        <path d=\"M 40.578125 39.3125 \r\nQ 47.65625 37.796875 51.625 33 \r\nQ 55.609375 28.21875 55.609375 21.1875 \r\nQ 55.609375 10.40625 48.1875 4.484375 \r\nQ 40.765625 -1.421875 27.09375 -1.421875 \r\nQ 22.515625 -1.421875 17.65625 -0.515625 \r\nQ 12.796875 0.390625 7.625 2.203125 \r\nL 7.625 11.71875 \r\nQ 11.71875 9.328125 16.59375 8.109375 \r\nQ 21.484375 6.890625 26.8125 6.890625 \r\nQ 36.078125 6.890625 40.9375 10.546875 \r\nQ 45.796875 14.203125 45.796875 21.1875 \r\nQ 45.796875 27.640625 41.28125 31.265625 \r\nQ 36.765625 34.90625 28.71875 34.90625 \r\nL 20.21875 34.90625 \r\nL 20.21875 43.015625 \r\nL 29.109375 43.015625 \r\nQ 36.375 43.015625 40.234375 45.921875 \r\nQ 44.09375 48.828125 44.09375 54.296875 \r\nQ 44.09375 59.90625 40.109375 62.90625 \r\nQ 36.140625 65.921875 28.71875 65.921875 \r\nQ 24.65625 65.921875 20.015625 65.03125 \r\nQ 15.375 64.15625 9.8125 62.3125 \r\nL 9.8125 71.09375 \r\nQ 15.4375 72.65625 20.34375 73.4375 \r\nQ 25.25 74.21875 29.59375 74.21875 \r\nQ 40.828125 74.21875 47.359375 69.109375 \r\nQ 53.90625 64.015625 53.90625 55.328125 \r\nQ 53.90625 49.265625 50.4375 45.09375 \r\nQ 46.96875 40.921875 40.578125 39.3125 \r\nz\r\n\" id=\"DejaVuSans-51\"/>\r\n       </defs>\r\n       <use xlink:href=\"#DejaVuSans-51\"/>\r\n       <use x=\"63.623047\" xlink:href=\"#DejaVuSans-48\"/>\r\n       <use x=\"127.246094\" xlink:href=\"#DejaVuSans-48\"/>\r\n       <use x=\"190.869141\" xlink:href=\"#DejaVuSans-48\"/>\r\n      </g>\r\n     </g>\r\n    </g>\r\n    <g id=\"ytick_8\">\r\n     <g id=\"line2d_27\">\r\n      <path clip-path=\"url(#pf1fc441f50)\" d=\"M 39.65 51.604261 \r\nL 597.65 51.604261 \r\n\" style=\"fill:none;stroke:#b0b0b0;stroke-linecap:square;stroke-width:0.8;\"/>\r\n     </g>\r\n     <g id=\"line2d_28\">\r\n      <g>\r\n       <use style=\"stroke:#000000;stroke-width:0.8;\" x=\"39.65\" xlink:href=\"#mf8129bb215\" y=\"51.604261\"/>\r\n      </g>\r\n     </g>\r\n     <g id=\"text_14\">\r\n      <!-- 3500 -->\r\n      <g transform=\"translate(7.2 55.40348)scale(0.1 -0.1)\">\r\n       <use xlink:href=\"#DejaVuSans-51\"/>\r\n       <use x=\"63.623047\" xlink:href=\"#DejaVuSans-53\"/>\r\n       <use x=\"127.246094\" xlink:href=\"#DejaVuSans-48\"/>\r\n       <use x=\"190.869141\" xlink:href=\"#DejaVuSans-48\"/>\r\n      </g>\r\n     </g>\r\n    </g>\r\n    <g id=\"ytick_9\">\r\n     <g id=\"line2d_29\">\r\n      <path clip-path=\"url(#pf1fc441f50)\" d=\"M 39.65 10.999219 \r\nL 597.65 10.999219 \r\n\" style=\"fill:none;stroke:#b0b0b0;stroke-linecap:square;stroke-width:0.8;\"/>\r\n     </g>\r\n     <g id=\"line2d_30\">\r\n      <g>\r\n       <use style=\"stroke:#000000;stroke-width:0.8;\" x=\"39.65\" xlink:href=\"#mf8129bb215\" y=\"10.999219\"/>\r\n      </g>\r\n     </g>\r\n     <g id=\"text_15\">\r\n      <!-- 4000 -->\r\n      <g transform=\"translate(7.2 14.798437)scale(0.1 -0.1)\">\r\n       <use xlink:href=\"#DejaVuSans-52\"/>\r\n       <use x=\"63.623047\" xlink:href=\"#DejaVuSans-48\"/>\r\n       <use x=\"127.246094\" xlink:href=\"#DejaVuSans-48\"/>\r\n       <use x=\"190.869141\" xlink:href=\"#DejaVuSans-48\"/>\r\n      </g>\r\n     </g>\r\n    </g>\r\n   </g>\r\n   <g id=\"patch_13\">\r\n    <path d=\"M 39.65 335.839555 \r\nL 39.65 9.679555 \r\n\" style=\"fill:none;stroke:#000000;stroke-linecap:square;stroke-linejoin:miter;stroke-width:0.8;\"/>\r\n   </g>\r\n   <g id=\"patch_14\">\r\n    <path d=\"M 597.65 335.839555 \r\nL 597.65 9.679555 \r\n\" style=\"fill:none;stroke:#000000;stroke-linecap:square;stroke-linejoin:miter;stroke-width:0.8;\"/>\r\n   </g>\r\n   <g id=\"patch_15\">\r\n    <path d=\"M 39.65 335.839555 \r\nL 597.65 335.839555 \r\n\" style=\"fill:none;stroke:#000000;stroke-linecap:square;stroke-linejoin:miter;stroke-width:0.8;\"/>\r\n   </g>\r\n   <g id=\"patch_16\">\r\n    <path d=\"M 39.65 9.679555 \r\nL 597.65 9.679555 \r\n\" style=\"fill:none;stroke:#000000;stroke-linecap:square;stroke-linejoin:miter;stroke-width:0.8;\"/>\r\n   </g>\r\n  </g>\r\n </g>\r\n <defs>\r\n  <clipPath id=\"pf1fc441f50\">\r\n   <rect height=\"326.16\" width=\"558\" x=\"39.65\" y=\"9.679555\"/>\r\n  </clipPath>\r\n </defs>\r\n</svg>\r\n",
            "image/png": "[encoded data removed]"
          },
          "metadata": {
            "tags": [],
            "needs_background": "light"
          }
        }
      ]
    },
    {
      "cell_type": "markdown",
      "metadata": {
        "id": "WSa9p9bB5b5n"
      },
      "source": [
        "## Step 10 : Performing Sentiment Analysis over the news Headlines"
      ]
    },
    {
      "cell_type": "code",
      "metadata": {
        "id": "Vs3_3ZS15b5n",
        "outputId": "7291063d-57e6-4e6c-f0d3-4d4d07e0f66d"
      },
      "source": [
        "#Adding sentiment score to news\n",
        "sia = SentimentIntensityAnalyzer()\n",
        "\n",
        "news['Compound'] = [sia.polarity_scores(v)['compound'] for v in news['News']]\n",
        "news['Negative'] = [sia.polarity_scores(v)['neg'] for v in news['News']]\n",
        "news['Neutral'] = [sia.polarity_scores(v)['neu'] for v in news['News']]\n",
        "news['Positive'] = [sia.polarity_scores(v)['pos'] for v in news['News']]\n",
        "news"
      ],
      "execution_count": null,
      "outputs": [
        {
          "output_type": "execute_result",
          "data": {
            "text/plain": [
              "                              Date  \\\n",
              "0    2001-01-01 00:00:00.000000000   \n",
              "1    2001-01-02 00:00:00.000000000   \n",
              "2    2001-01-03 00:00:00.000000000   \n",
              "3    2001-01-04 00:00:00.000000000   \n",
              "4    2001-01-05 00:00:00.000000000   \n",
              "...                            ...   \n",
              "7076 1970-01-01 00:00:00.020200626   \n",
              "7077 1970-01-01 00:00:00.020200627   \n",
              "7078 1970-01-01 00:00:00.020200628   \n",
              "7079 1970-01-01 00:00:00.020200629   \n",
              "7080 1970-01-01 00:00:00.020200630   \n",
              "\n",
              "                                                   News  Subjectivity  \\\n",
              "0     win over cena satisfying but defeating underta...      0.633333   \n",
              "1     Status quo will not be disturbed at Ayodhya; s...      0.282333   \n",
              "2     Powerless north India gropes in the dark Think...      0.407692   \n",
              "3     The string that pulled Stephen Hawking to Indi...      0.446847   \n",
              "4     Light combat craft takes India into club class...      0.476612   \n",
              "...                                                 ...           ...   \n",
              "7076  Containment zone residents slam high prices ch...      0.381841   \n",
              "7077  like me i wont let you have a toxic relationsh...      0.398808   \n",
              "7078  Atanu Ghosh plans to rewrite old scripts to ma...      0.402636   \n",
              "7079  6 hot and stylish bikini looks of Katrina Kaif...      0.396828   \n",
              "7080  Detective Byomkesh Bakshy! Edge of Tomorrow Fi...      0.384191   \n",
              "\n",
              "      Polarity  Compound  Negative  Neutral  Positive  \n",
              "0     0.433333   -0.0000     0.230    0.473     0.297  \n",
              "1     0.151333   -0.9811     0.122    0.807     0.071  \n",
              "2     0.088462   -0.2640     0.122    0.766     0.111  \n",
              "3     0.087961    0.8738     0.100    0.797     0.103  \n",
              "4     0.262024    0.9769     0.124    0.719     0.157  \n",
              "...        ...       ...       ...      ...       ...  \n",
              "7076  0.068333   -0.9999     0.163    0.748     0.089  \n",
              "7077  0.079290   -0.9999     0.159    0.749     0.092  \n",
              "7078  0.057636   -0.9999     0.151    0.774     0.075  \n",
              "7079  0.061956   -0.9999     0.144    0.770     0.086  \n",
              "7080  0.071554   -0.9999     0.137    0.791     0.072  \n",
              "\n",
              "[7081 rows x 8 columns]"
            ],
            "text/html": [
              "<div>\n",
              "<style scoped>\n",
              "    .dataframe tbody tr th:only-of-type {\n",
              "        vertical-align: middle;\n",
              "    }\n",
              "\n",
              "    .dataframe tbody tr th {\n",
              "        vertical-align: top;\n",
              "    }\n",
              "\n",
              "    .dataframe thead th {\n",
              "        text-align: right;\n",
              "    }\n",
              "</style>\n",
              "<table border=\"1\" class=\"dataframe\">\n",
              "  <thead>\n",
              "    <tr style=\"text-align: right;\">\n",
              "      <th></th>\n",
              "      <th>Date</th>\n",
              "      <th>News</th>\n",
              "      <th>Subjectivity</th>\n",
              "      <th>Polarity</th>\n",
              "      <th>Compound</th>\n",
              "      <th>Negative</th>\n",
              "      <th>Neutral</th>\n",
              "      <th>Positive</th>\n",
              "    </tr>\n",
              "  </thead>\n",
              "  <tbody>\n",
              "    <tr>\n",
              "      <th>0</th>\n",
              "      <td>2001-01-01 00:00:00.000000000</td>\n",
              "      <td>win over cena satisfying but defeating underta...</td>\n",
              "      <td>0.633333</td>\n",
              "      <td>0.433333</td>\n",
              "      <td>-0.0000</td>\n",
              "      <td>0.230</td>\n",
              "      <td>0.473</td>\n",
              "      <td>0.297</td>\n",
              "    </tr>\n",
              "    <tr>\n",
              "      <th>1</th>\n",
              "      <td>2001-01-02 00:00:00.000000000</td>\n",
              "      <td>Status quo will not be disturbed at Ayodhya; s...</td>\n",
              "      <td>0.282333</td>\n",
              "      <td>0.151333</td>\n",
              "      <td>-0.9811</td>\n",
              "      <td>0.122</td>\n",
              "      <td>0.807</td>\n",
              "      <td>0.071</td>\n",
              "    </tr>\n",
              "    <tr>\n",
              "      <th>2</th>\n",
              "      <td>2001-01-03 00:00:00.000000000</td>\n",
              "      <td>Powerless north India gropes in the dark Think...</td>\n",
              "      <td>0.407692</td>\n",
              "      <td>0.088462</td>\n",
              "      <td>-0.2640</td>\n",
              "      <td>0.122</td>\n",
              "      <td>0.766</td>\n",
              "      <td>0.111</td>\n",
              "    </tr>\n",
              "    <tr>\n",
              "      <th>3</th>\n",
              "      <td>2001-01-04 00:00:00.000000000</td>\n",
              "      <td>The string that pulled Stephen Hawking to Indi...</td>\n",
              "      <td>0.446847</td>\n",
              "      <td>0.087961</td>\n",
              "      <td>0.8738</td>\n",
              "      <td>0.100</td>\n",
              "      <td>0.797</td>\n",
              "      <td>0.103</td>\n",
              "    </tr>\n",
              "    <tr>\n",
              "      <th>4</th>\n",
              "      <td>2001-01-05 00:00:00.000000000</td>\n",
              "      <td>Light combat craft takes India into club class...</td>\n",
              "      <td>0.476612</td>\n",
              "      <td>0.262024</td>\n",
              "      <td>0.9769</td>\n",
              "      <td>0.124</td>\n",
              "      <td>0.719</td>\n",
              "      <td>0.157</td>\n",
              "    </tr>\n",
              "    <tr>\n",
              "      <th>...</th>\n",
              "      <td>...</td>\n",
              "      <td>...</td>\n",
              "      <td>...</td>\n",
              "      <td>...</td>\n",
              "      <td>...</td>\n",
              "      <td>...</td>\n",
              "      <td>...</td>\n",
              "      <td>...</td>\n",
              "    </tr>\n",
              "    <tr>\n",
              "      <th>7076</th>\n",
              "      <td>1970-01-01 00:00:00.020200626</td>\n",
              "      <td>Containment zone residents slam high prices ch...</td>\n",
              "      <td>0.381841</td>\n",
              "      <td>0.068333</td>\n",
              "      <td>-0.9999</td>\n",
              "      <td>0.163</td>\n",
              "      <td>0.748</td>\n",
              "      <td>0.089</td>\n",
              "    </tr>\n",
              "    <tr>\n",
              "      <th>7077</th>\n",
              "      <td>1970-01-01 00:00:00.020200627</td>\n",
              "      <td>like me i wont let you have a toxic relationsh...</td>\n",
              "      <td>0.398808</td>\n",
              "      <td>0.079290</td>\n",
              "      <td>-0.9999</td>\n",
              "      <td>0.159</td>\n",
              "      <td>0.749</td>\n",
              "      <td>0.092</td>\n",
              "    </tr>\n",
              "    <tr>\n",
              "      <th>7078</th>\n",
              "      <td>1970-01-01 00:00:00.020200628</td>\n",
              "      <td>Atanu Ghosh plans to rewrite old scripts to ma...</td>\n",
              "      <td>0.402636</td>\n",
              "      <td>0.057636</td>\n",
              "      <td>-0.9999</td>\n",
              "      <td>0.151</td>\n",
              "      <td>0.774</td>\n",
              "      <td>0.075</td>\n",
              "    </tr>\n",
              "    <tr>\n",
              "      <th>7079</th>\n",
              "      <td>1970-01-01 00:00:00.020200629</td>\n",
              "      <td>6 hot and stylish bikini looks of Katrina Kaif...</td>\n",
              "      <td>0.396828</td>\n",
              "      <td>0.061956</td>\n",
              "      <td>-0.9999</td>\n",
              "      <td>0.144</td>\n",
              "      <td>0.770</td>\n",
              "      <td>0.086</td>\n",
              "    </tr>\n",
              "    <tr>\n",
              "      <th>7080</th>\n",
              "      <td>1970-01-01 00:00:00.020200630</td>\n",
              "      <td>Detective Byomkesh Bakshy! Edge of Tomorrow Fi...</td>\n",
              "      <td>0.384191</td>\n",
              "      <td>0.071554</td>\n",
              "      <td>-0.9999</td>\n",
              "      <td>0.137</td>\n",
              "      <td>0.791</td>\n",
              "      <td>0.072</td>\n",
              "    </tr>\n",
              "  </tbody>\n",
              "</table>\n",
              "<p>7081 rows × 8 columns</p>\n",
              "</div>"
            ]
          },
          "metadata": {
            "tags": []
          },
          "execution_count": 24
        }
      ]
    },
    {
      "cell_type": "markdown",
      "metadata": {
        "id": "BxhQns_55b5o"
      },
      "source": [
        "## Step 11 : Merging the numerical and textual data"
      ]
    },
    {
      "cell_type": "code",
      "metadata": {
        "id": "2npZt4rN5b5o",
        "outputId": "27068c9f-ac36-45a4-af0e-bccd838bcc99"
      },
      "source": [
        "merge = news\n",
        "merge"
      ],
      "execution_count": null,
      "outputs": [
        {
          "output_type": "execute_result",
          "data": {
            "text/plain": [
              "                              Date  \\\n",
              "0    2001-01-01 00:00:00.000000000   \n",
              "1    2001-01-02 00:00:00.000000000   \n",
              "2    2001-01-03 00:00:00.000000000   \n",
              "3    2001-01-04 00:00:00.000000000   \n",
              "4    2001-01-05 00:00:00.000000000   \n",
              "...                            ...   \n",
              "7076 1970-01-01 00:00:00.020200626   \n",
              "7077 1970-01-01 00:00:00.020200627   \n",
              "7078 1970-01-01 00:00:00.020200628   \n",
              "7079 1970-01-01 00:00:00.020200629   \n",
              "7080 1970-01-01 00:00:00.020200630   \n",
              "\n",
              "                                                   News  Subjectivity  \\\n",
              "0     win over cena satisfying but defeating underta...      0.633333   \n",
              "1     Status quo will not be disturbed at Ayodhya; s...      0.282333   \n",
              "2     Powerless north India gropes in the dark Think...      0.407692   \n",
              "3     The string that pulled Stephen Hawking to Indi...      0.446847   \n",
              "4     Light combat craft takes India into club class...      0.476612   \n",
              "...                                                 ...           ...   \n",
              "7076  Containment zone residents slam high prices ch...      0.381841   \n",
              "7077  like me i wont let you have a toxic relationsh...      0.398808   \n",
              "7078  Atanu Ghosh plans to rewrite old scripts to ma...      0.402636   \n",
              "7079  6 hot and stylish bikini looks of Katrina Kaif...      0.396828   \n",
              "7080  Detective Byomkesh Bakshy! Edge of Tomorrow Fi...      0.384191   \n",
              "\n",
              "      Polarity  Compound  Negative  Neutral  Positive  \n",
              "0     0.433333   -0.0000     0.230    0.473     0.297  \n",
              "1     0.151333   -0.9811     0.122    0.807     0.071  \n",
              "2     0.088462   -0.2640     0.122    0.766     0.111  \n",
              "3     0.087961    0.8738     0.100    0.797     0.103  \n",
              "4     0.262024    0.9769     0.124    0.719     0.157  \n",
              "...        ...       ...       ...      ...       ...  \n",
              "7076  0.068333   -0.9999     0.163    0.748     0.089  \n",
              "7077  0.079290   -0.9999     0.159    0.749     0.092  \n",
              "7078  0.057636   -0.9999     0.151    0.774     0.075  \n",
              "7079  0.061956   -0.9999     0.144    0.770     0.086  \n",
              "7080  0.071554   -0.9999     0.137    0.791     0.072  \n",
              "\n",
              "[7081 rows x 8 columns]"
            ],
            "text/html": [
              "<div>\n",
              "<style scoped>\n",
              "    .dataframe tbody tr th:only-of-type {\n",
              "        vertical-align: middle;\n",
              "    }\n",
              "\n",
              "    .dataframe tbody tr th {\n",
              "        vertical-align: top;\n",
              "    }\n",
              "\n",
              "    .dataframe thead th {\n",
              "        text-align: right;\n",
              "    }\n",
              "</style>\n",
              "<table border=\"1\" class=\"dataframe\">\n",
              "  <thead>\n",
              "    <tr style=\"text-align: right;\">\n",
              "      <th></th>\n",
              "      <th>Date</th>\n",
              "      <th>News</th>\n",
              "      <th>Subjectivity</th>\n",
              "      <th>Polarity</th>\n",
              "      <th>Compound</th>\n",
              "      <th>Negative</th>\n",
              "      <th>Neutral</th>\n",
              "      <th>Positive</th>\n",
              "    </tr>\n",
              "  </thead>\n",
              "  <tbody>\n",
              "    <tr>\n",
              "      <th>0</th>\n",
              "      <td>2001-01-01 00:00:00.000000000</td>\n",
              "      <td>win over cena satisfying but defeating underta...</td>\n",
              "      <td>0.633333</td>\n",
              "      <td>0.433333</td>\n",
              "      <td>-0.0000</td>\n",
              "      <td>0.230</td>\n",
              "      <td>0.473</td>\n",
              "      <td>0.297</td>\n",
              "    </tr>\n",
              "    <tr>\n",
              "      <th>1</th>\n",
              "      <td>2001-01-02 00:00:00.000000000</td>\n",
              "      <td>Status quo will not be disturbed at Ayodhya; s...</td>\n",
              "      <td>0.282333</td>\n",
              "      <td>0.151333</td>\n",
              "      <td>-0.9811</td>\n",
              "      <td>0.122</td>\n",
              "      <td>0.807</td>\n",
              "      <td>0.071</td>\n",
              "    </tr>\n",
              "    <tr>\n",
              "      <th>2</th>\n",
              "      <td>2001-01-03 00:00:00.000000000</td>\n",
              "      <td>Powerless north India gropes in the dark Think...</td>\n",
              "      <td>0.407692</td>\n",
              "      <td>0.088462</td>\n",
              "      <td>-0.2640</td>\n",
              "      <td>0.122</td>\n",
              "      <td>0.766</td>\n",
              "      <td>0.111</td>\n",
              "    </tr>\n",
              "    <tr>\n",
              "      <th>3</th>\n",
              "      <td>2001-01-04 00:00:00.000000000</td>\n",
              "      <td>The string that pulled Stephen Hawking to Indi...</td>\n",
              "      <td>0.446847</td>\n",
              "      <td>0.087961</td>\n",
              "      <td>0.8738</td>\n",
              "      <td>0.100</td>\n",
              "      <td>0.797</td>\n",
              "      <td>0.103</td>\n",
              "    </tr>\n",
              "    <tr>\n",
              "      <th>4</th>\n",
              "      <td>2001-01-05 00:00:00.000000000</td>\n",
              "      <td>Light combat craft takes India into club class...</td>\n",
              "      <td>0.476612</td>\n",
              "      <td>0.262024</td>\n",
              "      <td>0.9769</td>\n",
              "      <td>0.124</td>\n",
              "      <td>0.719</td>\n",
              "      <td>0.157</td>\n",
              "    </tr>\n",
              "    <tr>\n",
              "      <th>...</th>\n",
              "      <td>...</td>\n",
              "      <td>...</td>\n",
              "      <td>...</td>\n",
              "      <td>...</td>\n",
              "      <td>...</td>\n",
              "      <td>...</td>\n",
              "      <td>...</td>\n",
              "      <td>...</td>\n",
              "    </tr>\n",
              "    <tr>\n",
              "      <th>7076</th>\n",
              "      <td>1970-01-01 00:00:00.020200626</td>\n",
              "      <td>Containment zone residents slam high prices ch...</td>\n",
              "      <td>0.381841</td>\n",
              "      <td>0.068333</td>\n",
              "      <td>-0.9999</td>\n",
              "      <td>0.163</td>\n",
              "      <td>0.748</td>\n",
              "      <td>0.089</td>\n",
              "    </tr>\n",
              "    <tr>\n",
              "      <th>7077</th>\n",
              "      <td>1970-01-01 00:00:00.020200627</td>\n",
              "      <td>like me i wont let you have a toxic relationsh...</td>\n",
              "      <td>0.398808</td>\n",
              "      <td>0.079290</td>\n",
              "      <td>-0.9999</td>\n",
              "      <td>0.159</td>\n",
              "      <td>0.749</td>\n",
              "      <td>0.092</td>\n",
              "    </tr>\n",
              "    <tr>\n",
              "      <th>7078</th>\n",
              "      <td>1970-01-01 00:00:00.020200628</td>\n",
              "      <td>Atanu Ghosh plans to rewrite old scripts to ma...</td>\n",
              "      <td>0.402636</td>\n",
              "      <td>0.057636</td>\n",
              "      <td>-0.9999</td>\n",
              "      <td>0.151</td>\n",
              "      <td>0.774</td>\n",
              "      <td>0.075</td>\n",
              "    </tr>\n",
              "    <tr>\n",
              "      <th>7079</th>\n",
              "      <td>1970-01-01 00:00:00.020200629</td>\n",
              "      <td>6 hot and stylish bikini looks of Katrina Kaif...</td>\n",
              "      <td>0.396828</td>\n",
              "      <td>0.061956</td>\n",
              "      <td>-0.9999</td>\n",
              "      <td>0.144</td>\n",
              "      <td>0.770</td>\n",
              "      <td>0.086</td>\n",
              "    </tr>\n",
              "    <tr>\n",
              "      <th>7080</th>\n",
              "      <td>1970-01-01 00:00:00.020200630</td>\n",
              "      <td>Detective Byomkesh Bakshy! Edge of Tomorrow Fi...</td>\n",
              "      <td>0.384191</td>\n",
              "      <td>0.071554</td>\n",
              "      <td>-0.9999</td>\n",
              "      <td>0.137</td>\n",
              "      <td>0.791</td>\n",
              "      <td>0.072</td>\n",
              "    </tr>\n",
              "  </tbody>\n",
              "</table>\n",
              "<p>7081 rows × 8 columns</p>\n",
              "</div>"
            ]
          },
          "metadata": {
            "tags": []
          },
          "execution_count": 32
        }
      ]
    },
    {
      "cell_type": "code",
      "metadata": {
        "id": "GSFJu2qX5b5p",
        "outputId": "c8bef9b1-8529-422a-f1d7-95d41de5c923"
      },
      "source": [
        "dff = merge[['Subjectivity', 'Polarity', 'Compound', 'Negative', 'Neutral' ,'Positive']]\n",
        "dff"
      ],
      "execution_count": null,
      "outputs": [
        {
          "output_type": "execute_result",
          "data": {
            "text/plain": [
              "      Subjectivity  Polarity  Compound  Negative  Neutral  Positive\n",
              "0         0.633333  0.433333   -0.0000     0.230    0.473     0.297\n",
              "1         0.282333  0.151333   -0.9811     0.122    0.807     0.071\n",
              "2         0.407692  0.088462   -0.2640     0.122    0.766     0.111\n",
              "3         0.446847  0.087961    0.8738     0.100    0.797     0.103\n",
              "4         0.476612  0.262024    0.9769     0.124    0.719     0.157\n",
              "...            ...       ...       ...       ...      ...       ...\n",
              "7076      0.381841  0.068333   -0.9999     0.163    0.748     0.089\n",
              "7077      0.398808  0.079290   -0.9999     0.159    0.749     0.092\n",
              "7078      0.402636  0.057636   -0.9999     0.151    0.774     0.075\n",
              "7079      0.396828  0.061956   -0.9999     0.144    0.770     0.086\n",
              "7080      0.384191  0.071554   -0.9999     0.137    0.791     0.072\n",
              "\n",
              "[7081 rows x 6 columns]"
            ],
            "text/html": [
              "<div>\n",
              "<style scoped>\n",
              "    .dataframe tbody tr th:only-of-type {\n",
              "        vertical-align: middle;\n",
              "    }\n",
              "\n",
              "    .dataframe tbody tr th {\n",
              "        vertical-align: top;\n",
              "    }\n",
              "\n",
              "    .dataframe thead th {\n",
              "        text-align: right;\n",
              "    }\n",
              "</style>\n",
              "<table border=\"1\" class=\"dataframe\">\n",
              "  <thead>\n",
              "    <tr style=\"text-align: right;\">\n",
              "      <th></th>\n",
              "      <th>Subjectivity</th>\n",
              "      <th>Polarity</th>\n",
              "      <th>Compound</th>\n",
              "      <th>Negative</th>\n",
              "      <th>Neutral</th>\n",
              "      <th>Positive</th>\n",
              "    </tr>\n",
              "  </thead>\n",
              "  <tbody>\n",
              "    <tr>\n",
              "      <th>0</th>\n",
              "      <td>0.633333</td>\n",
              "      <td>0.433333</td>\n",
              "      <td>-0.0000</td>\n",
              "      <td>0.230</td>\n",
              "      <td>0.473</td>\n",
              "      <td>0.297</td>\n",
              "    </tr>\n",
              "    <tr>\n",
              "      <th>1</th>\n",
              "      <td>0.282333</td>\n",
              "      <td>0.151333</td>\n",
              "      <td>-0.9811</td>\n",
              "      <td>0.122</td>\n",
              "      <td>0.807</td>\n",
              "      <td>0.071</td>\n",
              "    </tr>\n",
              "    <tr>\n",
              "      <th>2</th>\n",
              "      <td>0.407692</td>\n",
              "      <td>0.088462</td>\n",
              "      <td>-0.2640</td>\n",
              "      <td>0.122</td>\n",
              "      <td>0.766</td>\n",
              "      <td>0.111</td>\n",
              "    </tr>\n",
              "    <tr>\n",
              "      <th>3</th>\n",
              "      <td>0.446847</td>\n",
              "      <td>0.087961</td>\n",
              "      <td>0.8738</td>\n",
              "      <td>0.100</td>\n",
              "      <td>0.797</td>\n",
              "      <td>0.103</td>\n",
              "    </tr>\n",
              "    <tr>\n",
              "      <th>4</th>\n",
              "      <td>0.476612</td>\n",
              "      <td>0.262024</td>\n",
              "      <td>0.9769</td>\n",
              "      <td>0.124</td>\n",
              "      <td>0.719</td>\n",
              "      <td>0.157</td>\n",
              "    </tr>\n",
              "    <tr>\n",
              "      <th>...</th>\n",
              "      <td>...</td>\n",
              "      <td>...</td>\n",
              "      <td>...</td>\n",
              "      <td>...</td>\n",
              "      <td>...</td>\n",
              "      <td>...</td>\n",
              "    </tr>\n",
              "    <tr>\n",
              "      <th>7076</th>\n",
              "      <td>0.381841</td>\n",
              "      <td>0.068333</td>\n",
              "      <td>-0.9999</td>\n",
              "      <td>0.163</td>\n",
              "      <td>0.748</td>\n",
              "      <td>0.089</td>\n",
              "    </tr>\n",
              "    <tr>\n",
              "      <th>7077</th>\n",
              "      <td>0.398808</td>\n",
              "      <td>0.079290</td>\n",
              "      <td>-0.9999</td>\n",
              "      <td>0.159</td>\n",
              "      <td>0.749</td>\n",
              "      <td>0.092</td>\n",
              "    </tr>\n",
              "    <tr>\n",
              "      <th>7078</th>\n",
              "      <td>0.402636</td>\n",
              "      <td>0.057636</td>\n",
              "      <td>-0.9999</td>\n",
              "      <td>0.151</td>\n",
              "      <td>0.774</td>\n",
              "      <td>0.075</td>\n",
              "    </tr>\n",
              "    <tr>\n",
              "      <th>7079</th>\n",
              "      <td>0.396828</td>\n",
              "      <td>0.061956</td>\n",
              "      <td>-0.9999</td>\n",
              "      <td>0.144</td>\n",
              "      <td>0.770</td>\n",
              "      <td>0.086</td>\n",
              "    </tr>\n",
              "    <tr>\n",
              "      <th>7080</th>\n",
              "      <td>0.384191</td>\n",
              "      <td>0.071554</td>\n",
              "      <td>-0.9999</td>\n",
              "      <td>0.137</td>\n",
              "      <td>0.791</td>\n",
              "      <td>0.072</td>\n",
              "    </tr>\n",
              "  </tbody>\n",
              "</table>\n",
              "<p>7081 rows × 6 columns</p>\n",
              "</div>"
            ]
          },
          "metadata": {
            "tags": []
          },
          "execution_count": 33
        }
      ]
    },
    {
      "cell_type": "code",
      "metadata": {
        "id": "Zrb9o0Np5b5p",
        "outputId": "b462b234-2e4c-480c-c743-f7dc5b6dae11"
      },
      "source": [
        "from sklearn.preprocessing import MinMaxScaler\n",
        "sc = MinMaxScaler()\n",
        "new_df = pd.DataFrame(sc.fit_transform(dff))\n",
        "new_df.columns = dff.columns\n",
        "new_df.index = dff.index\n",
        "new_df.head()"
      ],
      "execution_count": null,
      "outputs": [
        {
          "output_type": "execute_result",
          "data": {
            "text/plain": [
              "   Subjectivity  Polarity  Compound  Negative  Neutral  Positive\n",
              "0      0.633333  0.740741   0.50000  0.518018    0.473  0.488487\n",
              "1      0.282333  0.427407   0.00945  0.274775    0.807  0.116776\n",
              "2      0.407692  0.357550   0.36800  0.274775    0.766  0.182566\n",
              "3      0.446847  0.356994   0.93690  0.225225    0.797  0.169408\n",
              "4      0.476612  0.550397   0.98845  0.279279    0.719  0.258224"
            ],
            "text/html": [
              "<div>\n",
              "<style scoped>\n",
              "    .dataframe tbody tr th:only-of-type {\n",
              "        vertical-align: middle;\n",
              "    }\n",
              "\n",
              "    .dataframe tbody tr th {\n",
              "        vertical-align: top;\n",
              "    }\n",
              "\n",
              "    .dataframe thead th {\n",
              "        text-align: right;\n",
              "    }\n",
              "</style>\n",
              "<table border=\"1\" class=\"dataframe\">\n",
              "  <thead>\n",
              "    <tr style=\"text-align: right;\">\n",
              "      <th></th>\n",
              "      <th>Subjectivity</th>\n",
              "      <th>Polarity</th>\n",
              "      <th>Compound</th>\n",
              "      <th>Negative</th>\n",
              "      <th>Neutral</th>\n",
              "      <th>Positive</th>\n",
              "    </tr>\n",
              "  </thead>\n",
              "  <tbody>\n",
              "    <tr>\n",
              "      <th>0</th>\n",
              "      <td>0.633333</td>\n",
              "      <td>0.740741</td>\n",
              "      <td>0.50000</td>\n",
              "      <td>0.518018</td>\n",
              "      <td>0.473</td>\n",
              "      <td>0.488487</td>\n",
              "    </tr>\n",
              "    <tr>\n",
              "      <th>1</th>\n",
              "      <td>0.282333</td>\n",
              "      <td>0.427407</td>\n",
              "      <td>0.00945</td>\n",
              "      <td>0.274775</td>\n",
              "      <td>0.807</td>\n",
              "      <td>0.116776</td>\n",
              "    </tr>\n",
              "    <tr>\n",
              "      <th>2</th>\n",
              "      <td>0.407692</td>\n",
              "      <td>0.357550</td>\n",
              "      <td>0.36800</td>\n",
              "      <td>0.274775</td>\n",
              "      <td>0.766</td>\n",
              "      <td>0.182566</td>\n",
              "    </tr>\n",
              "    <tr>\n",
              "      <th>3</th>\n",
              "      <td>0.446847</td>\n",
              "      <td>0.356994</td>\n",
              "      <td>0.93690</td>\n",
              "      <td>0.225225</td>\n",
              "      <td>0.797</td>\n",
              "      <td>0.169408</td>\n",
              "    </tr>\n",
              "    <tr>\n",
              "      <th>4</th>\n",
              "      <td>0.476612</td>\n",
              "      <td>0.550397</td>\n",
              "      <td>0.98845</td>\n",
              "      <td>0.279279</td>\n",
              "      <td>0.719</td>\n",
              "      <td>0.258224</td>\n",
              "    </tr>\n",
              "  </tbody>\n",
              "</table>\n",
              "</div>"
            ]
          },
          "metadata": {
            "tags": []
          },
          "execution_count": 34
        }
      ]
    },
    {
      "cell_type": "code",
      "metadata": {
        "id": "NrupCbzE5b5q"
      },
      "source": [
        "X = new_df[0:249]\n",
        "y =df['Close']"
      ],
      "execution_count": null,
      "outputs": []
    },
    {
      "cell_type": "code",
      "metadata": {
        "id": "S7eqm2Pf5b5q",
        "outputId": "c00c6a4a-f4c8-437b-ca74-a33e8927b889"
      },
      "source": [
        "from sklearn.model_selection import train_test_split\n",
        "\n",
        "x_train, x_test, y_train, y_test = train_test_split(X, y, test_size=0.2, random_state = 0)\n",
        "x_train.shape"
      ],
      "execution_count": null,
      "outputs": [
        {
          "output_type": "execute_result",
          "data": {
            "text/plain": [
              "(199, 6)"
            ]
          },
          "metadata": {
            "tags": []
          },
          "execution_count": 43
        }
      ]
    },
    {
      "cell_type": "code",
      "metadata": {
        "id": "W3oVMPST5b5r",
        "outputId": "305fbba8-4b25-4cec-b8f7-da7a3add2a6d"
      },
      "source": [
        "x_train[:10]"
      ],
      "execution_count": null,
      "outputs": [
        {
          "output_type": "execute_result",
          "data": {
            "text/plain": [
              "     Subjectivity  Polarity  Compound  Negative  Neutral  Positive\n",
              "108      0.405833  0.540833   0.02510  0.373874    0.734  0.164474\n",
              "18       0.375486  0.391781   0.09990  0.364865    0.709  0.212171\n",
              "205      0.433601  0.297440   0.00385  0.272523    0.772  0.175987\n",
              "15       0.383333  0.339506   0.97700  0.171171    0.780  0.235197\n",
              "71       0.344118  0.308279   0.00900  0.527027    0.607  0.259868\n",
              "7        0.414653  0.237911   0.01105  0.272523    0.812  0.108553\n",
              "228      0.358700  0.246596   0.00035  0.362613    0.772  0.111842\n",
              "180      0.419285  0.357075   0.00065  0.270270    0.805  0.123355\n",
              "146      0.750000  0.814815   0.83525  0.121622    0.765  0.297697\n",
              "160      0.338659  0.281909   0.00045  0.362613    0.772  0.110197"
            ],
            "text/html": [
              "<div>\n",
              "<style scoped>\n",
              "    .dataframe tbody tr th:only-of-type {\n",
              "        vertical-align: middle;\n",
              "    }\n",
              "\n",
              "    .dataframe tbody tr th {\n",
              "        vertical-align: top;\n",
              "    }\n",
              "\n",
              "    .dataframe thead th {\n",
              "        text-align: right;\n",
              "    }\n",
              "</style>\n",
              "<table border=\"1\" class=\"dataframe\">\n",
              "  <thead>\n",
              "    <tr style=\"text-align: right;\">\n",
              "      <th></th>\n",
              "      <th>Subjectivity</th>\n",
              "      <th>Polarity</th>\n",
              "      <th>Compound</th>\n",
              "      <th>Negative</th>\n",
              "      <th>Neutral</th>\n",
              "      <th>Positive</th>\n",
              "    </tr>\n",
              "  </thead>\n",
              "  <tbody>\n",
              "    <tr>\n",
              "      <th>108</th>\n",
              "      <td>0.405833</td>\n",
              "      <td>0.540833</td>\n",
              "      <td>0.02510</td>\n",
              "      <td>0.373874</td>\n",
              "      <td>0.734</td>\n",
              "      <td>0.164474</td>\n",
              "    </tr>\n",
              "    <tr>\n",
              "      <th>18</th>\n",
              "      <td>0.375486</td>\n",
              "      <td>0.391781</td>\n",
              "      <td>0.09990</td>\n",
              "      <td>0.364865</td>\n",
              "      <td>0.709</td>\n",
              "      <td>0.212171</td>\n",
              "    </tr>\n",
              "    <tr>\n",
              "      <th>205</th>\n",
              "      <td>0.433601</td>\n",
              "      <td>0.297440</td>\n",
              "      <td>0.00385</td>\n",
              "      <td>0.272523</td>\n",
              "      <td>0.772</td>\n",
              "      <td>0.175987</td>\n",
              "    </tr>\n",
              "    <tr>\n",
              "      <th>15</th>\n",
              "      <td>0.383333</td>\n",
              "      <td>0.339506</td>\n",
              "      <td>0.97700</td>\n",
              "      <td>0.171171</td>\n",
              "      <td>0.780</td>\n",
              "      <td>0.235197</td>\n",
              "    </tr>\n",
              "    <tr>\n",
              "      <th>71</th>\n",
              "      <td>0.344118</td>\n",
              "      <td>0.308279</td>\n",
              "      <td>0.00900</td>\n",
              "      <td>0.527027</td>\n",
              "      <td>0.607</td>\n",
              "      <td>0.259868</td>\n",
              "    </tr>\n",
              "    <tr>\n",
              "      <th>7</th>\n",
              "      <td>0.414653</td>\n",
              "      <td>0.237911</td>\n",
              "      <td>0.01105</td>\n",
              "      <td>0.272523</td>\n",
              "      <td>0.812</td>\n",
              "      <td>0.108553</td>\n",
              "    </tr>\n",
              "    <tr>\n",
              "      <th>228</th>\n",
              "      <td>0.358700</td>\n",
              "      <td>0.246596</td>\n",
              "      <td>0.00035</td>\n",
              "      <td>0.362613</td>\n",
              "      <td>0.772</td>\n",
              "      <td>0.111842</td>\n",
              "    </tr>\n",
              "    <tr>\n",
              "      <th>180</th>\n",
              "      <td>0.419285</td>\n",
              "      <td>0.357075</td>\n",
              "      <td>0.00065</td>\n",
              "      <td>0.270270</td>\n",
              "      <td>0.805</td>\n",
              "      <td>0.123355</td>\n",
              "    </tr>\n",
              "    <tr>\n",
              "      <th>146</th>\n",
              "      <td>0.750000</td>\n",
              "      <td>0.814815</td>\n",
              "      <td>0.83525</td>\n",
              "      <td>0.121622</td>\n",
              "      <td>0.765</td>\n",
              "      <td>0.297697</td>\n",
              "    </tr>\n",
              "    <tr>\n",
              "      <th>160</th>\n",
              "      <td>0.338659</td>\n",
              "      <td>0.281909</td>\n",
              "      <td>0.00045</td>\n",
              "      <td>0.362613</td>\n",
              "      <td>0.772</td>\n",
              "      <td>0.110197</td>\n",
              "    </tr>\n",
              "  </tbody>\n",
              "</table>\n",
              "</div>"
            ]
          },
          "metadata": {
            "tags": []
          },
          "execution_count": 44
        }
      ]
    },
    {
      "cell_type": "markdown",
      "metadata": {
        "id": "l2XnpTUp5b5s"
      },
      "source": [
        "## Step 12 : Training a Random Forest Regressor and Adaboost Regressor for hybrid analysis"
      ]
    },
    {
      "cell_type": "code",
      "metadata": {
        "id": "O6TwCyxt5b5s"
      },
      "source": [
        "rf = RandomForestRegressor()\n",
        "rf.fit(x_train, y_train)\n",
        "prediction=rf.predict(x_test)"
      ],
      "execution_count": null,
      "outputs": []
    },
    {
      "cell_type": "markdown",
      "metadata": {
        "id": "WIn9BurW5b5t"
      },
      "source": [
        "## Step 13 : Determining the accuracy scores for both the  Models"
      ]
    },
    {
      "cell_type": "code",
      "metadata": {
        "id": "N0T8r9sT5b5t",
        "outputId": "acf0a932-9f07-4390-859e-10684a65c568"
      },
      "source": [
        "print(prediction[:10])\n",
        "print(y_test[:10])\n",
        "print(\"Root mean square error = \",math.sqrt(mean_squared_error(prediction,y_test)),\" RMSE\")"
      ],
      "execution_count": null,
      "outputs": [
        {
          "output_type": "stream",
          "text": [
            "[35598.12658208 37239.59140617 39023.23419916 36323.50489589\n",
            " 36590.70015856 39671.98542975 38501.40583986 35799.45554693\n",
            " 38753.79585939 38402.70117203]\n",
            "Date\n",
            "2020-10-16    39982.980469\n",
            "2020-06-25    34842.101563\n",
            "2020-02-06    41306.031250\n",
            "2020-06-01    33303.519531\n",
            "2020-05-22    30672.589844\n",
            "2020-02-03    39872.308594\n",
            "2019-12-23    41642.660156\n",
            "2020-06-12    33780.890625\n",
            "2020-09-03    38990.941406\n",
            "2020-08-27    39113.468750\n",
            "Name: Close, dtype: float64\n",
            "Root mean square error =  3960.4218896724724  RMSE\n"
          ],
          "name": "stdout"
        }
      ]
    },
    {
      "cell_type": "code",
      "metadata": {
        "id": "pKZ-nQ6u5b5u"
      },
      "source": [
        "adb = AdaBoostRegressor()\n",
        "adb.fit(x_train, y_train)\n",
        "predictions = adb.predict(x_test)"
      ],
      "execution_count": null,
      "outputs": []
    },
    {
      "cell_type": "code",
      "metadata": {
        "id": "zAS_Qdjc5b5v",
        "outputId": "c8722d6f-74bf-4083-c682-73f476e237c8"
      },
      "source": [
        "print(\"Root mean square error = \",math.sqrt(mean_squared_error(predictions, y_test)),\" RMSE\")"
      ],
      "execution_count": null,
      "outputs": [
        {
          "output_type": "stream",
          "text": [
            "Root mean square error =  4074.461310273298  RMSE\n"
          ],
          "name": "stdout"
        }
      ]
    },
    {
      "cell_type": "markdown",
      "metadata": {
        "id": "KUkG2uwI5b5v"
      },
      "source": [
        "I have used two models, i.e., Random Forest Regressor and Adaboost Regressor to carry out hybrid analysis. From the RMSE values we see that Random Forest Regressor gives a mode accurate output (3960 RMSE). However, both the models have very high RMSE values. The reason for high values is the unpredictible nature of the stock prices.\n",
        "\n",
        "## Conclusion\n",
        "### I was  able to create a hybrid model for stock price/performance prediction using numerical analysis of historical stock prices, and sentimental analysis of news headlines. \n",
        "# Thank You"
      ]
    }
  ]
}